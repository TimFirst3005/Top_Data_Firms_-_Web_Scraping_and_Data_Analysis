{
 "cells": [
  {
   "cell_type": "markdown",
   "metadata": {},
   "source": [
    "# Web Scraping\n",
    "\n",
    "## Top Data Analytics Companies\n",
    "To improve effectiveness in business processes, companies are focussing on collecting and utilizing data. Data analytics companies enable businesses to analyze the acquired data and use them as required. Data analytics services can assist in product development, identifying potential market gaps, improving operational efficiency, etc. [Goodfirms](https://www.goodfirms.co/big-data-analytics/data-analytics)\n",
    "\n",
    "The aim of this project is to scrape Goodfirms website for details about top data analytics company. These details includes, review, rating, year founded, location, etc."
   ]
  },
  {
   "cell_type": "markdown",
   "metadata": {},
   "source": [
    "### Road Map\n",
    "Stage 1\n",
    "* Download page\n",
    "* Open page\n",
    "* Get details\n",
    "* Extract details\n",
    "* Make a dataframe\n",
    "\n",
    "Stage 2 (Code Refactoring)\n",
    "* Change loops to function\n",
    "* Take functions to another file\n",
    "* Import functions and extract\n",
    "* Make a dataframe"
   ]
  },
  {
   "cell_type": "markdown",
   "metadata": {},
   "source": [
    "### Libraries"
   ]
  },
  {
   "cell_type": "code",
   "execution_count": 1,
   "metadata": {},
   "outputs": [
    {
     "data": {
      "text/html": [
       "        <script type=\"text/javascript\">\n",
       "        window.PlotlyConfig = {MathJaxConfig: 'local'};\n",
       "        if (window.MathJax && window.MathJax.Hub && window.MathJax.Hub.Config) {window.MathJax.Hub.Config({SVG: {font: \"STIX-Web\"}});}\n",
       "        if (typeof require !== 'undefined') {\n",
       "        require.undef(\"plotly\");\n",
       "        requirejs.config({\n",
       "            paths: {\n",
       "                'plotly': ['https://cdn.plot.ly/plotly-2.12.1.min']\n",
       "            }\n",
       "        });\n",
       "        require(['plotly'], function(Plotly) {\n",
       "            window._Plotly = Plotly;\n",
       "        });\n",
       "        }\n",
       "        </script>\n",
       "        "
      ]
     },
     "metadata": {},
     "output_type": "display_data"
    }
   ],
   "source": [
    "import requests as r\n",
    "from bs4 import BeautifulSoup\n",
    "import pandas as pd\n",
    "import plotly.express as px\n",
    "import plotly.offline as po\n",
    "po.init_notebook_mode(connected=True)"
   ]
  },
  {
   "cell_type": "markdown",
   "metadata": {},
   "source": [
    "### Download and save HTML file"
   ]
  },
  {
   "cell_type": "code",
   "execution_count": 12,
   "metadata": {},
   "outputs": [],
   "source": [
    "# URL link\n",
    "url_link = ['https://www.goodfirms.co/big-data-analytics/data-analytics', 'https://www.goodfirms.co/big-data-analytics/data-analytics?page=2', \n",
    "       'https://www.goodfirms.co/big-data-analytics/data-analytics?page=3']\n",
    "\n",
    "# access website\n",
    "access = [r.get(url) for url in url_link]\n",
    "\n",
    "# \"\"\" OR\n",
    "\n",
    "# access = []\n",
    "# for url in url_link:\n",
    "#     access.append(r.get(url))\n",
    "    \n",
    "# \"\"\"\n"
   ]
  },
  {
   "cell_type": "markdown",
   "metadata": {},
   "source": [
    "### Saving webpage to PC"
   ]
  },
  {
   "cell_type": "code",
   "execution_count": 13,
   "metadata": {},
   "outputs": [],
   "source": [
    "for page in access:\n",
    "    index = access.index(page)+1\n",
    "    with open(f'page{index}.html', mode='wb') as file:\n",
    "        file.write(page.content)"
   ]
  },
  {
   "cell_type": "markdown",
   "metadata": {},
   "source": [
    "### Page 1 "
   ]
  },
  {
   "cell_type": "code",
   "execution_count": 14,
   "metadata": {},
   "outputs": [],
   "source": [
    "with open(\"page1.html\", encoding='utf-8', mode='r') as file:\n",
    "    bs = BeautifulSoup(file, 'lxml')"
   ]
  },
  {
   "cell_type": "markdown",
   "metadata": {},
   "source": [
    "#### Locate Details"
   ]
  },
  {
   "cell_type": "code",
   "execution_count": 23,
   "metadata": {},
   "outputs": [],
   "source": [
    "firm_names = bs.find_all('span', {'itemprop': \"name\"})\n",
    "firm_motors = bs.find_all('p', {'class': \"profile-tagline\"})\n",
    "firm_reviews = bs.find_all('span', {'class': \"listinv_review_label\"})\n",
    "progress_value = bs.find_all('div', {'class': \"circle-progress-value\"})\n",
    "firm_prices = bs.find_all('div', {'class': \"firm-pricing\"})\n",
    "firm_emps = bs.find_all('div', {'class': \"firm-employees\"})\n",
    "firm_years = bs.find_all('div', {'class': \"firm-founded\"})\n",
    "firm_locations = bs.find_all('div', {'class': \"firm-location\"})"
   ]
  },
  {
   "cell_type": "markdown",
   "metadata": {},
   "source": [
    "#### Function to extract details"
   ]
  },
  {
   "cell_type": "code",
   "execution_count": 24,
   "metadata": {},
   "outputs": [],
   "source": [
    "def extract_detail(tag_lst):\n",
    "    lst = [tag.text for tag in tag_lst]\n",
    "    return pd.Series(lst)\n",
    "\n",
    "def extract_progress_values(tag_lst):    \n",
    "    service_pct = [percent[1].text for percent in enumerate(tag_lst) if percent[0]%2 ==0]\n",
    "    platform_pct = [percent[1].text for percent in enumerate(tag_lst) if percent[0]%2 ==1]       \n",
    "    return pd.Series(service_pct), pd.Series(platform_pct) "
   ]
  },
  {
   "cell_type": "markdown",
   "metadata": {},
   "source": [
    "#### Extract Details"
   ]
  },
  {
   "cell_type": "code",
   "execution_count": 25,
   "metadata": {},
   "outputs": [],
   "source": [
    "names = extract_detail(firm_names[3:])\n",
    "motors = extract_detail(firm_motors)\n",
    "reviews = extract_detail(firm_reviews)\n",
    "ser, pct = extract_progress_values(progress_value)\n",
    "prices = extract_detail(firm_prices)\n",
    "emps = extract_detail(firm_emps)\n",
    "years = extract_detail(firm_years)\n",
    "locations = extract_detail(firm_locations)"
   ]
  },
  {
   "cell_type": "markdown",
   "metadata": {},
   "source": [
    "### Put Details in a DataFrame"
   ]
  },
  {
   "cell_type": "code",
   "execution_count": 26,
   "metadata": {},
   "outputs": [],
   "source": [
    "df1 = pd.DataFrame()"
   ]
  },
  {
   "cell_type": "code",
   "execution_count": 27,
   "metadata": {},
   "outputs": [],
   "source": [
    "df1['firm_name'] = names\n",
    "df1['firm_motor'] = motors\n",
    "df1['firm_review'] = reviews\n",
    "df1['service_pct'] = ser\n",
    "df1['platform_pct'] = pct\n",
    "df1['firm_price'] = prices\n",
    "df1['firm_employee'] = emps\n",
    "df1['year_founded'] = years\n",
    "df1['firm_location'] = locations"
   ]
  },
  {
   "cell_type": "code",
   "execution_count": 28,
   "metadata": {},
   "outputs": [
    {
     "data": {
      "text/html": [
       "<div>\n",
       "<style scoped>\n",
       "    .dataframe tbody tr th:only-of-type {\n",
       "        vertical-align: middle;\n",
       "    }\n",
       "\n",
       "    .dataframe tbody tr th {\n",
       "        vertical-align: top;\n",
       "    }\n",
       "\n",
       "    .dataframe thead th {\n",
       "        text-align: right;\n",
       "    }\n",
       "</style>\n",
       "<table border=\"1\" class=\"dataframe\">\n",
       "  <thead>\n",
       "    <tr style=\"text-align: right;\">\n",
       "      <th></th>\n",
       "      <th>firm_name</th>\n",
       "      <th>firm_motor</th>\n",
       "      <th>firm_review</th>\n",
       "      <th>service_pct</th>\n",
       "      <th>platform_pct</th>\n",
       "      <th>firm_price</th>\n",
       "      <th>firm_employee</th>\n",
       "      <th>year_founded</th>\n",
       "      <th>firm_location</th>\n",
       "    </tr>\n",
       "  </thead>\n",
       "  <tbody>\n",
       "    <tr>\n",
       "      <th>0</th>\n",
       "      <td>SPEC INDIA</td>\n",
       "      <td>Enterprise Software, Mobility &amp; BI Solutions</td>\n",
       "      <td>4.8 (26 Reviews)</td>\n",
       "      <td>20%</td>\n",
       "      <td>15%</td>\n",
       "      <td>\\n&lt; $25/hr</td>\n",
       "      <td>250 - 999</td>\n",
       "      <td>1987</td>\n",
       "      <td>\\nIndia, United States</td>\n",
       "    </tr>\n",
       "    <tr>\n",
       "      <th>1</th>\n",
       "      <td>instinctools</td>\n",
       "      <td>Delivering the future. Now.</td>\n",
       "      <td>4.8 (8 Reviews)</td>\n",
       "      <td>5%</td>\n",
       "      <td>10%</td>\n",
       "      <td>\\n$50 - $99/hr</td>\n",
       "      <td>250 - 999</td>\n",
       "      <td>2000</td>\n",
       "      <td>\\nUnited States, Germany</td>\n",
       "    </tr>\n",
       "    <tr>\n",
       "      <th>2</th>\n",
       "      <td>SoluLab</td>\n",
       "      <td>Blockchain | IoT | Mobility | AI | Big Data</td>\n",
       "      <td>5.0 (32 Reviews)</td>\n",
       "      <td>15%</td>\n",
       "      <td>15%</td>\n",
       "      <td>\\n$25 - $49/hr</td>\n",
       "      <td>50 - 249</td>\n",
       "      <td>2014</td>\n",
       "      <td>\\nUnited States, India</td>\n",
       "    </tr>\n",
       "    <tr>\n",
       "      <th>3</th>\n",
       "      <td>ELEKS</td>\n",
       "      <td>Your Technology Partner for Software Innovation</td>\n",
       "      <td>5.0 (3 Reviews)</td>\n",
       "      <td>10%</td>\n",
       "      <td>20%</td>\n",
       "      <td>\\n$25 - $49/hr</td>\n",
       "      <td>1,000 - 9,999</td>\n",
       "      <td>1991</td>\n",
       "      <td>\\nEstonia, United States</td>\n",
       "    </tr>\n",
       "    <tr>\n",
       "      <th>4</th>\n",
       "      <td>Sigma Data Systems</td>\n",
       "      <td>Discover the world of Big Data with us!</td>\n",
       "      <td>4.7 (5 Reviews)</td>\n",
       "      <td>40%</td>\n",
       "      <td>10%</td>\n",
       "      <td>\\n$25 - $49/hr</td>\n",
       "      <td>250 - 999</td>\n",
       "      <td>2010</td>\n",
       "      <td>\\nUnited States, Australia</td>\n",
       "    </tr>\n",
       "    <tr>\n",
       "      <th>5</th>\n",
       "      <td>NeenOpal Inc.</td>\n",
       "      <td>The Hub Of Data Science Innovation</td>\n",
       "      <td>5.0 (5 Reviews)</td>\n",
       "      <td>25%</td>\n",
       "      <td>10%</td>\n",
       "      <td>\\n $25 - $49/hr</td>\n",
       "      <td>10 - 49</td>\n",
       "      <td>2016</td>\n",
       "      <td>\\nUnited States, India</td>\n",
       "    </tr>\n",
       "    <tr>\n",
       "      <th>6</th>\n",
       "      <td>CodeCompletePro</td>\n",
       "      <td>IT Outsourcing Services</td>\n",
       "      <td>5.0 (1 Review)</td>\n",
       "      <td>20%</td>\n",
       "      <td>5%</td>\n",
       "      <td>\\n$50 - $99/hr</td>\n",
       "      <td>10 - 49</td>\n",
       "      <td>2021</td>\n",
       "      <td>\\nUnited States, Philippines</td>\n",
       "    </tr>\n",
       "    <tr>\n",
       "      <th>7</th>\n",
       "      <td>Consagous Technologies</td>\n",
       "      <td>Helping brands by being their Technology Partner</td>\n",
       "      <td>4.8 (32 Reviews)</td>\n",
       "      <td>10%</td>\n",
       "      <td>20%</td>\n",
       "      <td>\\n$25 - $49/hr</td>\n",
       "      <td>50 - 249</td>\n",
       "      <td>2008</td>\n",
       "      <td>\\nIndia, United States</td>\n",
       "    </tr>\n",
       "    <tr>\n",
       "      <th>8</th>\n",
       "      <td>NEX Softsys</td>\n",
       "      <td>IT Partner for Global Clients</td>\n",
       "      <td>5.0 (12 Reviews)</td>\n",
       "      <td>20%</td>\n",
       "      <td>20%</td>\n",
       "      <td>\\n$25 - $49/hr</td>\n",
       "      <td>50 - 249</td>\n",
       "      <td>2003</td>\n",
       "      <td>\\nUnited States</td>\n",
       "    </tr>\n",
       "    <tr>\n",
       "      <th>9</th>\n",
       "      <td>Beyond Key</td>\n",
       "      <td>IT Consulting and Software Development Services</td>\n",
       "      <td>5.0 (7 Reviews)</td>\n",
       "      <td>20%</td>\n",
       "      <td>10%</td>\n",
       "      <td>\\n$25 - $49/hr</td>\n",
       "      <td>250 - 999</td>\n",
       "      <td>2005</td>\n",
       "      <td>\\nUnited States, India</td>\n",
       "    </tr>\n",
       "    <tr>\n",
       "      <th>10</th>\n",
       "      <td>Datapine</td>\n",
       "      <td>BUSINESS INTELLIGENCE MADE EASY</td>\n",
       "      <td>5.0 (3 Reviews)</td>\n",
       "      <td>90%</td>\n",
       "      <td>5%</td>\n",
       "      <td>\\n$50 - $99/hr</td>\n",
       "      <td>10 - 49</td>\n",
       "      <td>2012</td>\n",
       "      <td>\\nGermany</td>\n",
       "    </tr>\n",
       "    <tr>\n",
       "      <th>11</th>\n",
       "      <td>Dataforest</td>\n",
       "      <td>Data Engineering and Web Product Development</td>\n",
       "      <td>5.0 (4 Reviews)</td>\n",
       "      <td>30%</td>\n",
       "      <td>20%</td>\n",
       "      <td>\\n$50 - $99/hr</td>\n",
       "      <td>50 - 249</td>\n",
       "      <td>2018</td>\n",
       "      <td>\\nUkraine, Estonia</td>\n",
       "    </tr>\n",
       "    <tr>\n",
       "      <th>12</th>\n",
       "      <td>pwrteams</td>\n",
       "      <td>Scale your enterprise with cross-border teams</td>\n",
       "      <td>4.9 (7 Reviews)</td>\n",
       "      <td>10%</td>\n",
       "      <td>25%</td>\n",
       "      <td>\\n$25 - $49/hr</td>\n",
       "      <td>250 - 999</td>\n",
       "      <td>2008</td>\n",
       "      <td>\\nLuxembourg, Poland</td>\n",
       "    </tr>\n",
       "    <tr>\n",
       "      <th>13</th>\n",
       "      <td>Intellias</td>\n",
       "      <td>Global Technology Partner</td>\n",
       "      <td>5.0 (5 Reviews)</td>\n",
       "      <td>15%</td>\n",
       "      <td>5%</td>\n",
       "      <td>\\n$25 - $49/hr</td>\n",
       "      <td>1,000 - 9,999</td>\n",
       "      <td>2002</td>\n",
       "      <td>\\nUkraine, United States</td>\n",
       "    </tr>\n",
       "    <tr>\n",
       "      <th>14</th>\n",
       "      <td>Altar.io</td>\n",
       "      <td>Product &amp; Software Development Agency</td>\n",
       "      <td>5.0 (9 Reviews)</td>\n",
       "      <td>25%</td>\n",
       "      <td>10%</td>\n",
       "      <td>\\n$50 - $99/hr</td>\n",
       "      <td>10 - 49</td>\n",
       "      <td>2015</td>\n",
       "      <td>\\nPortugal, United Kingdom</td>\n",
       "    </tr>\n",
       "    <tr>\n",
       "      <th>15</th>\n",
       "      <td>Huspi</td>\n",
       "      <td>Transforming ideas into user-friendly software.</td>\n",
       "      <td>5.0 (6 Reviews)</td>\n",
       "      <td>10%</td>\n",
       "      <td>50%</td>\n",
       "      <td>\\n$50 - $99/hr</td>\n",
       "      <td>10 - 49</td>\n",
       "      <td>2015</td>\n",
       "      <td>\\n Poland, Ukraine</td>\n",
       "    </tr>\n",
       "    <tr>\n",
       "      <th>16</th>\n",
       "      <td>Rudder Analytics</td>\n",
       "      <td>Steering Your Business.</td>\n",
       "      <td>4.8 (3 Reviews)</td>\n",
       "      <td>90%</td>\n",
       "      <td>5%</td>\n",
       "      <td>\\n$25 - $49/hr</td>\n",
       "      <td>10 - 49</td>\n",
       "      <td>2015</td>\n",
       "      <td>\\nIndia</td>\n",
       "    </tr>\n",
       "    <tr>\n",
       "      <th>17</th>\n",
       "      <td>Fayrix</td>\n",
       "      <td>Remote software teams &amp; services for startups.</td>\n",
       "      <td>5.0 (8 Reviews)</td>\n",
       "      <td>10%</td>\n",
       "      <td>5%</td>\n",
       "      <td>\\n&lt; $25/hr</td>\n",
       "      <td>1,000 - 9,999</td>\n",
       "      <td>2005</td>\n",
       "      <td>\\nIsrael</td>\n",
       "    </tr>\n",
       "    <tr>\n",
       "      <th>18</th>\n",
       "      <td>Accubits</td>\n",
       "      <td>Your Technology Partner- Simple. Seamless. Secure</td>\n",
       "      <td>4.9 (7 Reviews)</td>\n",
       "      <td>10%</td>\n",
       "      <td>10%</td>\n",
       "      <td>\\n$25 - $49/hr</td>\n",
       "      <td>50 - 249</td>\n",
       "      <td>2012</td>\n",
       "      <td>\\nIndia, United States</td>\n",
       "    </tr>\n",
       "    <tr>\n",
       "      <th>19</th>\n",
       "      <td>OrbitSoft</td>\n",
       "      <td>We do software right</td>\n",
       "      <td>4.9 (3 Reviews)</td>\n",
       "      <td>5%</td>\n",
       "      <td>20%</td>\n",
       "      <td>\\n$25 - $49/hr</td>\n",
       "      <td>50 - 249</td>\n",
       "      <td>2001</td>\n",
       "      <td>\\nUnited States</td>\n",
       "    </tr>\n",
       "    <tr>\n",
       "      <th>20</th>\n",
       "      <td>Broscorp</td>\n",
       "      <td>Delivering software that helps businesses to grow</td>\n",
       "      <td>4.9 (4 Reviews)</td>\n",
       "      <td>10%</td>\n",
       "      <td>50%</td>\n",
       "      <td>\\n$25 - $49/hr</td>\n",
       "      <td>10 - 49</td>\n",
       "      <td>2016</td>\n",
       "      <td>\\nUkraine</td>\n",
       "    </tr>\n",
       "    <tr>\n",
       "      <th>21</th>\n",
       "      <td>Clustox</td>\n",
       "      <td>The House of Innovation</td>\n",
       "      <td>5.0 (5 Reviews)</td>\n",
       "      <td>10%</td>\n",
       "      <td>25%</td>\n",
       "      <td>\\n&lt; $25/hr</td>\n",
       "      <td>10 - 49</td>\n",
       "      <td>2012</td>\n",
       "      <td>\\nPakistan</td>\n",
       "    </tr>\n",
       "    <tr>\n",
       "      <th>22</th>\n",
       "      <td>VITech</td>\n",
       "      <td>Software development powerhouse</td>\n",
       "      <td>5.0 (3 Reviews)</td>\n",
       "      <td>30%</td>\n",
       "      <td>25%</td>\n",
       "      <td>\\n$50 - $99/hr</td>\n",
       "      <td>50 - 249</td>\n",
       "      <td>2007</td>\n",
       "      <td>\\nUkraine</td>\n",
       "    </tr>\n",
       "    <tr>\n",
       "      <th>23</th>\n",
       "      <td>GFAIVE</td>\n",
       "      <td>Demand forecasting for Fashion Retail</td>\n",
       "      <td>5.0 (2 Reviews)</td>\n",
       "      <td>20%</td>\n",
       "      <td>25%</td>\n",
       "      <td>\\nNA</td>\n",
       "      <td>10 - 49</td>\n",
       "      <td>2018</td>\n",
       "      <td>\\nGeorgia</td>\n",
       "    </tr>\n",
       "    <tr>\n",
       "      <th>24</th>\n",
       "      <td>SPRYTE Labs</td>\n",
       "      <td>The right team, every time</td>\n",
       "      <td>5.0 (3 Reviews)</td>\n",
       "      <td>10%</td>\n",
       "      <td>10%</td>\n",
       "      <td>\\nNA</td>\n",
       "      <td>1,000 - 9,999</td>\n",
       "      <td>2019</td>\n",
       "      <td>\\nUnited States</td>\n",
       "    </tr>\n",
       "    <tr>\n",
       "      <th>25</th>\n",
       "      <td>abstractR</td>\n",
       "      <td>We make Abstract ideas Real</td>\n",
       "      <td>5.0 (2 Reviews)</td>\n",
       "      <td>20%</td>\n",
       "      <td>20%</td>\n",
       "      <td>\\n$50 - $99/hr</td>\n",
       "      <td>10 - 49</td>\n",
       "      <td>2018</td>\n",
       "      <td>\\nCzech Republic</td>\n",
       "    </tr>\n",
       "    <tr>\n",
       "      <th>26</th>\n",
       "      <td>SetuServ</td>\n",
       "      <td>Customized AI: Machine Power + Human Accuracy</td>\n",
       "      <td>5.0 (1 Review)</td>\n",
       "      <td>50%</td>\n",
       "      <td>16%</td>\n",
       "      <td>\\nNA</td>\n",
       "      <td>50 - 249</td>\n",
       "      <td>2012</td>\n",
       "      <td>\\nUnited States, India</td>\n",
       "    </tr>\n",
       "    <tr>\n",
       "      <th>27</th>\n",
       "      <td>InData Labs</td>\n",
       "      <td>Big on Data Science and AI</td>\n",
       "      <td>5.0 (1 Review)</td>\n",
       "      <td>30%</td>\n",
       "      <td>30%</td>\n",
       "      <td>\\n$50 - $99/hr</td>\n",
       "      <td>50 - 249</td>\n",
       "      <td>2014</td>\n",
       "      <td>\\nCyprus, Singapore</td>\n",
       "    </tr>\n",
       "    <tr>\n",
       "      <th>28</th>\n",
       "      <td>Aegis Soft Tech</td>\n",
       "      <td>Software Development Expert</td>\n",
       "      <td>5.0 (2 Reviews)</td>\n",
       "      <td>5%</td>\n",
       "      <td>25%</td>\n",
       "      <td>\\n$25 - $49/hr</td>\n",
       "      <td>50 - 249</td>\n",
       "      <td>2003</td>\n",
       "      <td>\\nIndia</td>\n",
       "    </tr>\n",
       "    <tr>\n",
       "      <th>29</th>\n",
       "      <td>AM-BITS</td>\n",
       "      <td>Time to rethink IT</td>\n",
       "      <td>5.0 (2 Reviews)</td>\n",
       "      <td>20%</td>\n",
       "      <td>10%</td>\n",
       "      <td>\\n$50 - $99/hr</td>\n",
       "      <td>50 - 249</td>\n",
       "      <td>2016</td>\n",
       "      <td>\\nUkraine</td>\n",
       "    </tr>\n",
       "    <tr>\n",
       "      <th>30</th>\n",
       "      <td>ScaleupAlly</td>\n",
       "      <td>Scaleup the development of your Business Idea</td>\n",
       "      <td>4.8 (3 Reviews)</td>\n",
       "      <td>30%</td>\n",
       "      <td>30%</td>\n",
       "      <td>\\n$25 - $49/hr</td>\n",
       "      <td>10 - 49</td>\n",
       "      <td>2017</td>\n",
       "      <td>\\nIndia</td>\n",
       "    </tr>\n",
       "    <tr>\n",
       "      <th>31</th>\n",
       "      <td>ThirdEye Data Inc.</td>\n",
       "      <td>Transforming Enterprises with AI Applications</td>\n",
       "      <td>5.0 (1 Review)</td>\n",
       "      <td>20%</td>\n",
       "      <td>10%</td>\n",
       "      <td>\\n$50 - $99/hr</td>\n",
       "      <td>50 - 249</td>\n",
       "      <td>2010</td>\n",
       "      <td>\\nUnited States</td>\n",
       "    </tr>\n",
       "    <tr>\n",
       "      <th>32</th>\n",
       "      <td>CodeCoda Ltd</td>\n",
       "      <td>Advanced Software Development Outsourcing</td>\n",
       "      <td>3.0 (2 Reviews)</td>\n",
       "      <td>10%</td>\n",
       "      <td>15%</td>\n",
       "      <td>\\n$25 - $49/hr</td>\n",
       "      <td>50 - 249</td>\n",
       "      <td>2016</td>\n",
       "      <td>\\nBulgaria, Ireland</td>\n",
       "    </tr>\n",
       "    <tr>\n",
       "      <th>33</th>\n",
       "      <td>S-PRO</td>\n",
       "      <td>Strategic partner.</td>\n",
       "      <td>5.0 (30 Reviews)</td>\n",
       "      <td>10%</td>\n",
       "      <td>25%</td>\n",
       "      <td>\\n$50 - $99/hr</td>\n",
       "      <td>50 - 249</td>\n",
       "      <td>2014</td>\n",
       "      <td>\\nPoland</td>\n",
       "    </tr>\n",
       "    <tr>\n",
       "      <th>34</th>\n",
       "      <td>Welby Consulting</td>\n",
       "      <td>The Future of Digital</td>\n",
       "      <td>3.4 (5 Reviews)</td>\n",
       "      <td>10%</td>\n",
       "      <td>50%</td>\n",
       "      <td>\\n$100 - $149/hr</td>\n",
       "      <td>2 - 9</td>\n",
       "      <td>2015</td>\n",
       "      <td>\\nCanada</td>\n",
       "    </tr>\n",
       "    <tr>\n",
       "      <th>35</th>\n",
       "      <td>WebClues Infotech</td>\n",
       "      <td>Your Vision, Our Creation</td>\n",
       "      <td>4.6 (15 Reviews)</td>\n",
       "      <td>5%</td>\n",
       "      <td>50%</td>\n",
       "      <td>\\n $25 - $49/hr</td>\n",
       "      <td>50 - 249</td>\n",
       "      <td>2014</td>\n",
       "      <td>\\nCanada</td>\n",
       "    </tr>\n",
       "    <tr>\n",
       "      <th>36</th>\n",
       "      <td>MobiDev</td>\n",
       "      <td>Web and Mobile development, AI apps</td>\n",
       "      <td>5.0 (16 Reviews)</td>\n",
       "      <td>10%</td>\n",
       "      <td>10%</td>\n",
       "      <td>\\n$50 - $99/hr</td>\n",
       "      <td>250 - 999</td>\n",
       "      <td>2009</td>\n",
       "      <td>\\nUnited States</td>\n",
       "    </tr>\n",
       "    <tr>\n",
       "      <th>37</th>\n",
       "      <td>Prismetric</td>\n",
       "      <td>Delivering Quality Products and Premium Services</td>\n",
       "      <td>4.7 (14 Reviews)</td>\n",
       "      <td>5%</td>\n",
       "      <td>50%</td>\n",
       "      <td>\\n&lt; $25/hr</td>\n",
       "      <td>50 - 249</td>\n",
       "      <td>2008</td>\n",
       "      <td>\\nIndia, United States</td>\n",
       "    </tr>\n",
       "    <tr>\n",
       "      <th>38</th>\n",
       "      <td>Sunflower Lab</td>\n",
       "      <td>Sunflower Lab</td>\n",
       "      <td>4.9 (13 Reviews)</td>\n",
       "      <td>5%</td>\n",
       "      <td>50%</td>\n",
       "      <td>\\n$50 - $99/hr</td>\n",
       "      <td>50 - 249</td>\n",
       "      <td>2010</td>\n",
       "      <td>\\nUnited States</td>\n",
       "    </tr>\n",
       "    <tr>\n",
       "      <th>39</th>\n",
       "      <td>Idealogic</td>\n",
       "      <td>Custom software development for startups</td>\n",
       "      <td>5.0 (14 Reviews)</td>\n",
       "      <td>10%</td>\n",
       "      <td>20%</td>\n",
       "      <td>\\n$25 - $49/hr</td>\n",
       "      <td>50 - 249</td>\n",
       "      <td>2016</td>\n",
       "      <td>\\nPoland, Canada</td>\n",
       "    </tr>\n",
       "    <tr>\n",
       "      <th>40</th>\n",
       "      <td>Clavax Technologies LLC</td>\n",
       "      <td>Transform Your Ideas into Digital Solutions</td>\n",
       "      <td>4.4 (15 Reviews)</td>\n",
       "      <td>10%</td>\n",
       "      <td>10%</td>\n",
       "      <td>\\n$25 - $49/hr</td>\n",
       "      <td>50 - 249</td>\n",
       "      <td>2011</td>\n",
       "      <td>\\nUnited States</td>\n",
       "    </tr>\n",
       "    <tr>\n",
       "      <th>41</th>\n",
       "      <td>APPSTIRR</td>\n",
       "      <td>Award Winning App Development Company</td>\n",
       "      <td>5.0 (14 Reviews)</td>\n",
       "      <td>5%</td>\n",
       "      <td>20%</td>\n",
       "      <td>\\n$25 - $49/hr</td>\n",
       "      <td>50 - 249</td>\n",
       "      <td>2010</td>\n",
       "      <td>\\nUnited States, United Arab Emirates</td>\n",
       "    </tr>\n",
       "    <tr>\n",
       "      <th>42</th>\n",
       "      <td>Classic Informatics</td>\n",
       "      <td>The Digital Innovation Company</td>\n",
       "      <td>4.9 (13 Reviews)</td>\n",
       "      <td>20%</td>\n",
       "      <td>20%</td>\n",
       "      <td>\\n$25 - $49/hr</td>\n",
       "      <td>50 - 249</td>\n",
       "      <td>2002</td>\n",
       "      <td>\\nIndia, United Kingdom</td>\n",
       "    </tr>\n",
       "    <tr>\n",
       "      <th>43</th>\n",
       "      <td>OpenGeeksLab</td>\n",
       "      <td>Crafting software that works for you.</td>\n",
       "      <td>5.0 (12 Reviews)</td>\n",
       "      <td>10%</td>\n",
       "      <td>30%</td>\n",
       "      <td>\\n$25 - $49/hr</td>\n",
       "      <td>50 - 249</td>\n",
       "      <td>2015</td>\n",
       "      <td>\\nUkraine</td>\n",
       "    </tr>\n",
       "    <tr>\n",
       "      <th>44</th>\n",
       "      <td>HQSoftware</td>\n",
       "      <td>IoT, AR, VR, and custom software development</td>\n",
       "      <td>4.9 (12 Reviews)</td>\n",
       "      <td>5%</td>\n",
       "      <td>25%</td>\n",
       "      <td>\\n$25 - $49/hr</td>\n",
       "      <td>50 - 249</td>\n",
       "      <td>2001</td>\n",
       "      <td>\\nUnited States, Georgia</td>\n",
       "    </tr>\n",
       "    <tr>\n",
       "      <th>45</th>\n",
       "      <td>TrendLine Global</td>\n",
       "      <td>Custom Software Development Company</td>\n",
       "      <td>5.0 (11 Reviews)</td>\n",
       "      <td>5%</td>\n",
       "      <td>25%</td>\n",
       "      <td>\\n$25 - $49/hr</td>\n",
       "      <td>50 - 249</td>\n",
       "      <td>2010</td>\n",
       "      <td>\\nUkraine, United Kingdom</td>\n",
       "    </tr>\n",
       "    <tr>\n",
       "      <th>46</th>\n",
       "      <td>DigiPrima Technologies Pvt. Ltd.</td>\n",
       "      <td>Trusted Partners for Software Solutions</td>\n",
       "      <td>5.0 (11 Reviews)</td>\n",
       "      <td>10%</td>\n",
       "      <td>20%</td>\n",
       "      <td>\\n&lt; $25/hr</td>\n",
       "      <td>10 - 49</td>\n",
       "      <td>2016</td>\n",
       "      <td>\\nIndia, United States</td>\n",
       "    </tr>\n",
       "    <tr>\n",
       "      <th>47</th>\n",
       "      <td>BR Softech Pvt Ltd</td>\n",
       "      <td>Website &amp; Mobile Apps Development Company</td>\n",
       "      <td>4.5 (10 Reviews)</td>\n",
       "      <td>5%</td>\n",
       "      <td>50%</td>\n",
       "      <td>\\n$25 - $49/hr</td>\n",
       "      <td>1,000 - 9,999</td>\n",
       "      <td>2012</td>\n",
       "      <td>\\nUnited States</td>\n",
       "    </tr>\n",
       "    <tr>\n",
       "      <th>48</th>\n",
       "      <td>Exceed Team</td>\n",
       "      <td>Exceeding expectations of our clients</td>\n",
       "      <td>5.0 (5 Reviews)</td>\n",
       "      <td>5%</td>\n",
       "      <td>100%</td>\n",
       "      <td>\\n$25 - $49/hr</td>\n",
       "      <td>50 - 249</td>\n",
       "      <td>2013</td>\n",
       "      <td>\\nRussia</td>\n",
       "    </tr>\n",
       "    <tr>\n",
       "      <th>49</th>\n",
       "      <td>Inoxoft</td>\n",
       "      <td>IEC/ISO 27001, Google, Microsoft Certified Com...</td>\n",
       "      <td>5.0 (9 Reviews)</td>\n",
       "      <td>10%</td>\n",
       "      <td>10%</td>\n",
       "      <td>\\n$25 - $49/hr</td>\n",
       "      <td>50 - 249</td>\n",
       "      <td>2014</td>\n",
       "      <td>\\nUkraine</td>\n",
       "    </tr>\n",
       "    <tr>\n",
       "      <th>50</th>\n",
       "      <td>Maxilect</td>\n",
       "      <td>Martech, Ad Tech, Fintech, Blockchain</td>\n",
       "      <td>5.0 (8 Reviews)</td>\n",
       "      <td>20%</td>\n",
       "      <td>20%</td>\n",
       "      <td>\\n$50 - $99/hr</td>\n",
       "      <td>50 - 249</td>\n",
       "      <td>2015</td>\n",
       "      <td>\\nRussia</td>\n",
       "    </tr>\n",
       "    <tr>\n",
       "      <th>51</th>\n",
       "      <td>Burning Buttons LLC</td>\n",
       "      <td>Digital boost for your business to succeed!</td>\n",
       "      <td>5.0 (6 Reviews)</td>\n",
       "      <td>10%</td>\n",
       "      <td>50%</td>\n",
       "      <td>\\n$25 - $49/hr</td>\n",
       "      <td>50 - 249</td>\n",
       "      <td>2009</td>\n",
       "      <td>\\nTurkey</td>\n",
       "    </tr>\n",
       "    <tr>\n",
       "      <th>52</th>\n",
       "      <td>Systango Technologies</td>\n",
       "      <td>We Make the Impossible, Possible!</td>\n",
       "      <td>5.0 (6 Reviews)</td>\n",
       "      <td>10%</td>\n",
       "      <td>50%</td>\n",
       "      <td>\\n$25 - $49/hr</td>\n",
       "      <td>250 - 999</td>\n",
       "      <td>2007</td>\n",
       "      <td>\\nUnited Kingdom</td>\n",
       "    </tr>\n",
       "    <tr>\n",
       "      <th>53</th>\n",
       "      <td>Noventum Custom Software Development Company</td>\n",
       "      <td>Custom Software &amp; Web Development in New Mexico</td>\n",
       "      <td>5.0 (3 Reviews)</td>\n",
       "      <td>20%</td>\n",
       "      <td>100%</td>\n",
       "      <td>\\n$100 - $149/hr</td>\n",
       "      <td>2 - 9</td>\n",
       "      <td>2012</td>\n",
       "      <td>\\nUnited States</td>\n",
       "    </tr>\n",
       "  </tbody>\n",
       "</table>\n",
       "</div>"
      ],
      "text/plain": [
       "                                       firm_name  \\\n",
       "0                                     SPEC INDIA   \n",
       "1                                   instinctools   \n",
       "2                                        SoluLab   \n",
       "3                                          ELEKS   \n",
       "4                             Sigma Data Systems   \n",
       "5                                  NeenOpal Inc.   \n",
       "6                                CodeCompletePro   \n",
       "7                         Consagous Technologies   \n",
       "8                                    NEX Softsys   \n",
       "9                                     Beyond Key   \n",
       "10                                      Datapine   \n",
       "11                                    Dataforest   \n",
       "12                                      pwrteams   \n",
       "13                                     Intellias   \n",
       "14                                      Altar.io   \n",
       "15                                         Huspi   \n",
       "16                              Rudder Analytics   \n",
       "17                                        Fayrix   \n",
       "18                                      Accubits   \n",
       "19                                     OrbitSoft   \n",
       "20                                      Broscorp   \n",
       "21                                       Clustox   \n",
       "22                                        VITech   \n",
       "23                                        GFAIVE   \n",
       "24                                   SPRYTE Labs   \n",
       "25                                     abstractR   \n",
       "26                                      SetuServ   \n",
       "27                                   InData Labs   \n",
       "28                               Aegis Soft Tech   \n",
       "29                                       AM-BITS   \n",
       "30                                   ScaleupAlly   \n",
       "31                            ThirdEye Data Inc.   \n",
       "32                                  CodeCoda Ltd   \n",
       "33                                         S-PRO   \n",
       "34                              Welby Consulting   \n",
       "35                             WebClues Infotech   \n",
       "36                                       MobiDev   \n",
       "37                                    Prismetric   \n",
       "38                                 Sunflower Lab   \n",
       "39                                     Idealogic   \n",
       "40                       Clavax Technologies LLC   \n",
       "41                                      APPSTIRR   \n",
       "42                           Classic Informatics   \n",
       "43                                  OpenGeeksLab   \n",
       "44                                    HQSoftware   \n",
       "45                              TrendLine Global   \n",
       "46              DigiPrima Technologies Pvt. Ltd.   \n",
       "47                            BR Softech Pvt Ltd   \n",
       "48                                   Exceed Team   \n",
       "49                                       Inoxoft   \n",
       "50                                      Maxilect   \n",
       "51                           Burning Buttons LLC   \n",
       "52                         Systango Technologies   \n",
       "53  Noventum Custom Software Development Company   \n",
       "\n",
       "                                           firm_motor       firm_review  \\\n",
       "0        Enterprise Software, Mobility & BI Solutions  4.8 (26 Reviews)   \n",
       "1                         Delivering the future. Now.   4.8 (8 Reviews)   \n",
       "2         Blockchain | IoT | Mobility | AI | Big Data  5.0 (32 Reviews)   \n",
       "3     Your Technology Partner for Software Innovation   5.0 (3 Reviews)   \n",
       "4             Discover the world of Big Data with us!   4.7 (5 Reviews)   \n",
       "5                  The Hub Of Data Science Innovation   5.0 (5 Reviews)   \n",
       "6                             IT Outsourcing Services    5.0 (1 Review)   \n",
       "7    Helping brands by being their Technology Partner  4.8 (32 Reviews)   \n",
       "8                       IT Partner for Global Clients  5.0 (12 Reviews)   \n",
       "9    IT Consulting and Software Development Services    5.0 (7 Reviews)   \n",
       "10                    BUSINESS INTELLIGENCE MADE EASY   5.0 (3 Reviews)   \n",
       "11       Data Engineering and Web Product Development   5.0 (4 Reviews)   \n",
       "12      Scale your enterprise with cross-border teams   4.9 (7 Reviews)   \n",
       "13                          Global Technology Partner   5.0 (5 Reviews)   \n",
       "14              Product & Software Development Agency   5.0 (9 Reviews)   \n",
       "15    Transforming ideas into user-friendly software.   5.0 (6 Reviews)   \n",
       "16                            Steering Your Business.   4.8 (3 Reviews)   \n",
       "17    Remote software teams & services for startups.    5.0 (8 Reviews)   \n",
       "18  Your Technology Partner- Simple. Seamless. Secure   4.9 (7 Reviews)   \n",
       "19                               We do software right   4.9 (3 Reviews)   \n",
       "20  Delivering software that helps businesses to grow   4.9 (4 Reviews)   \n",
       "21                            The House of Innovation   5.0 (5 Reviews)   \n",
       "22                    Software development powerhouse   5.0 (3 Reviews)   \n",
       "23              Demand forecasting for Fashion Retail   5.0 (2 Reviews)   \n",
       "24                         The right team, every time   5.0 (3 Reviews)   \n",
       "25                        We make Abstract ideas Real   5.0 (2 Reviews)   \n",
       "26      Customized AI: Machine Power + Human Accuracy    5.0 (1 Review)   \n",
       "27                         Big on Data Science and AI    5.0 (1 Review)   \n",
       "28                        Software Development Expert   5.0 (2 Reviews)   \n",
       "29                                 Time to rethink IT   5.0 (2 Reviews)   \n",
       "30      Scaleup the development of your Business Idea   4.8 (3 Reviews)   \n",
       "31      Transforming Enterprises with AI Applications    5.0 (1 Review)   \n",
       "32          Advanced Software Development Outsourcing   3.0 (2 Reviews)   \n",
       "33                                 Strategic partner.  5.0 (30 Reviews)   \n",
       "34                              The Future of Digital   3.4 (5 Reviews)   \n",
       "35                          Your Vision, Our Creation  4.6 (15 Reviews)   \n",
       "36                Web and Mobile development, AI apps  5.0 (16 Reviews)   \n",
       "37   Delivering Quality Products and Premium Services  4.7 (14 Reviews)   \n",
       "38                                      Sunflower Lab  4.9 (13 Reviews)   \n",
       "39           Custom software development for startups  5.0 (14 Reviews)   \n",
       "40        Transform Your Ideas into Digital Solutions  4.4 (15 Reviews)   \n",
       "41              Award Winning App Development Company  5.0 (14 Reviews)   \n",
       "42                     The Digital Innovation Company  4.9 (13 Reviews)   \n",
       "43              Crafting software that works for you.  5.0 (12 Reviews)   \n",
       "44       IoT, AR, VR, and custom software development  4.9 (12 Reviews)   \n",
       "45               Custom Software Development Company   5.0 (11 Reviews)   \n",
       "46            Trusted Partners for Software Solutions  5.0 (11 Reviews)   \n",
       "47          Website & Mobile Apps Development Company  4.5 (10 Reviews)   \n",
       "48              Exceeding expectations of our clients   5.0 (5 Reviews)   \n",
       "49  IEC/ISO 27001, Google, Microsoft Certified Com...   5.0 (9 Reviews)   \n",
       "50              Martech, Ad Tech, Fintech, Blockchain   5.0 (8 Reviews)   \n",
       "51        Digital boost for your business to succeed!   5.0 (6 Reviews)   \n",
       "52                  We Make the Impossible, Possible!   5.0 (6 Reviews)   \n",
       "53    Custom Software & Web Development in New Mexico   5.0 (3 Reviews)   \n",
       "\n",
       "   service_pct platform_pct         firm_price  firm_employee year_founded  \\\n",
       "0          20%          15%        \\n< $25/hr       250 - 999         1987   \n",
       "1           5%          10%    \\n$50 - $99/hr       250 - 999         2000   \n",
       "2          15%          15%    \\n$25 - $49/hr        50 - 249         2014   \n",
       "3          10%          20%    \\n$25 - $49/hr   1,000 - 9,999         1991   \n",
       "4          40%          10%    \\n$25 - $49/hr       250 - 999         2010   \n",
       "5          25%          10%   \\n $25 - $49/hr         10 - 49         2016   \n",
       "6          20%           5%    \\n$50 - $99/hr         10 - 49         2021   \n",
       "7          10%          20%    \\n$25 - $49/hr        50 - 249         2008   \n",
       "8          20%          20%    \\n$25 - $49/hr        50 - 249         2003   \n",
       "9          20%          10%    \\n$25 - $49/hr       250 - 999         2005   \n",
       "10         90%           5%    \\n$50 - $99/hr         10 - 49         2012   \n",
       "11         30%          20%    \\n$50 - $99/hr        50 - 249         2018   \n",
       "12         10%          25%    \\n$25 - $49/hr       250 - 999         2008   \n",
       "13         15%           5%    \\n$25 - $49/hr   1,000 - 9,999         2002   \n",
       "14         25%          10%    \\n$50 - $99/hr         10 - 49         2015   \n",
       "15         10%          50%    \\n$50 - $99/hr         10 - 49         2015   \n",
       "16         90%           5%    \\n$25 - $49/hr         10 - 49         2015   \n",
       "17         10%           5%        \\n< $25/hr   1,000 - 9,999         2005   \n",
       "18         10%          10%    \\n$25 - $49/hr        50 - 249         2012   \n",
       "19          5%          20%    \\n$25 - $49/hr        50 - 249         2001   \n",
       "20         10%          50%    \\n$25 - $49/hr         10 - 49         2016   \n",
       "21         10%          25%        \\n< $25/hr         10 - 49         2012   \n",
       "22         30%          25%    \\n$50 - $99/hr        50 - 249         2007   \n",
       "23         20%          25%              \\nNA         10 - 49         2018   \n",
       "24         10%          10%              \\nNA   1,000 - 9,999         2019   \n",
       "25         20%          20%    \\n$50 - $99/hr         10 - 49         2018   \n",
       "26         50%          16%              \\nNA        50 - 249         2012   \n",
       "27         30%          30%    \\n$50 - $99/hr        50 - 249         2014   \n",
       "28          5%          25%    \\n$25 - $49/hr        50 - 249         2003   \n",
       "29         20%          10%    \\n$50 - $99/hr        50 - 249         2016   \n",
       "30         30%          30%    \\n$25 - $49/hr         10 - 49         2017   \n",
       "31         20%          10%    \\n$50 - $99/hr        50 - 249         2010   \n",
       "32         10%          15%    \\n$25 - $49/hr        50 - 249         2016   \n",
       "33         10%          25%    \\n$50 - $99/hr        50 - 249         2014   \n",
       "34         10%          50%  \\n$100 - $149/hr           2 - 9         2015   \n",
       "35          5%          50%   \\n $25 - $49/hr        50 - 249         2014   \n",
       "36         10%          10%    \\n$50 - $99/hr       250 - 999         2009   \n",
       "37          5%          50%        \\n< $25/hr        50 - 249         2008   \n",
       "38          5%          50%    \\n$50 - $99/hr        50 - 249         2010   \n",
       "39         10%          20%    \\n$25 - $49/hr        50 - 249         2016   \n",
       "40         10%          10%    \\n$25 - $49/hr        50 - 249         2011   \n",
       "41          5%          20%    \\n$25 - $49/hr        50 - 249         2010   \n",
       "42         20%          20%    \\n$25 - $49/hr        50 - 249         2002   \n",
       "43         10%          30%    \\n$25 - $49/hr        50 - 249         2015   \n",
       "44          5%          25%    \\n$25 - $49/hr        50 - 249         2001   \n",
       "45          5%          25%    \\n$25 - $49/hr        50 - 249         2010   \n",
       "46         10%          20%        \\n< $25/hr         10 - 49         2016   \n",
       "47          5%          50%    \\n$25 - $49/hr   1,000 - 9,999         2012   \n",
       "48          5%         100%    \\n$25 - $49/hr        50 - 249         2013   \n",
       "49         10%          10%    \\n$25 - $49/hr        50 - 249         2014   \n",
       "50         20%          20%    \\n$50 - $99/hr        50 - 249         2015   \n",
       "51         10%          50%    \\n$25 - $49/hr        50 - 249         2009   \n",
       "52         10%          50%    \\n$25 - $49/hr       250 - 999         2007   \n",
       "53         20%         100%  \\n$100 - $149/hr           2 - 9         2012   \n",
       "\n",
       "                             firm_location  \n",
       "0                  \\nIndia, United States   \n",
       "1                \\nUnited States, Germany   \n",
       "2                  \\nUnited States, India   \n",
       "3                \\nEstonia, United States   \n",
       "4              \\nUnited States, Australia   \n",
       "5                  \\nUnited States, India   \n",
       "6            \\nUnited States, Philippines   \n",
       "7                  \\nIndia, United States   \n",
       "8                         \\nUnited States   \n",
       "9                  \\nUnited States, India   \n",
       "10                              \\nGermany   \n",
       "11                     \\nUkraine, Estonia   \n",
       "12                   \\nLuxembourg, Poland   \n",
       "13               \\nUkraine, United States   \n",
       "14             \\nPortugal, United Kingdom   \n",
       "15                     \\n Poland, Ukraine   \n",
       "16                                \\nIndia   \n",
       "17                               \\nIsrael   \n",
       "18                 \\nIndia, United States   \n",
       "19                        \\nUnited States   \n",
       "20                              \\nUkraine   \n",
       "21                             \\nPakistan   \n",
       "22                              \\nUkraine   \n",
       "23                              \\nGeorgia   \n",
       "24                        \\nUnited States   \n",
       "25                       \\nCzech Republic   \n",
       "26                 \\nUnited States, India   \n",
       "27                    \\nCyprus, Singapore   \n",
       "28                                \\nIndia   \n",
       "29                              \\nUkraine   \n",
       "30                                \\nIndia   \n",
       "31                        \\nUnited States   \n",
       "32                    \\nBulgaria, Ireland   \n",
       "33                               \\nPoland   \n",
       "34                               \\nCanada   \n",
       "35                               \\nCanada   \n",
       "36                        \\nUnited States   \n",
       "37                 \\nIndia, United States   \n",
       "38                        \\nUnited States   \n",
       "39                       \\nPoland, Canada   \n",
       "40                        \\nUnited States   \n",
       "41  \\nUnited States, United Arab Emirates   \n",
       "42                \\nIndia, United Kingdom   \n",
       "43                              \\nUkraine   \n",
       "44               \\nUnited States, Georgia   \n",
       "45              \\nUkraine, United Kingdom   \n",
       "46                 \\nIndia, United States   \n",
       "47                        \\nUnited States   \n",
       "48                              \\nRussia    \n",
       "49                              \\nUkraine   \n",
       "50                               \\nRussia   \n",
       "51                               \\nTurkey   \n",
       "52                       \\nUnited Kingdom   \n",
       "53                        \\nUnited States   "
      ]
     },
     "execution_count": 28,
     "metadata": {},
     "output_type": "execute_result"
    }
   ],
   "source": [
    "df1"
   ]
  },
  {
   "cell_type": "markdown",
   "metadata": {},
   "source": [
    "### Page 2"
   ]
  },
  {
   "cell_type": "code",
   "execution_count": 29,
   "metadata": {},
   "outputs": [
    {
     "data": {
      "text/html": [
       "<div>\n",
       "<style scoped>\n",
       "    .dataframe tbody tr th:only-of-type {\n",
       "        vertical-align: middle;\n",
       "    }\n",
       "\n",
       "    .dataframe tbody tr th {\n",
       "        vertical-align: top;\n",
       "    }\n",
       "\n",
       "    .dataframe thead th {\n",
       "        text-align: right;\n",
       "    }\n",
       "</style>\n",
       "<table border=\"1\" class=\"dataframe\">\n",
       "  <thead>\n",
       "    <tr style=\"text-align: right;\">\n",
       "      <th></th>\n",
       "      <th>firm_name</th>\n",
       "      <th>firm_motor</th>\n",
       "      <th>firm_review</th>\n",
       "      <th>service_pct</th>\n",
       "      <th>platform_pct</th>\n",
       "      <th>firm_price</th>\n",
       "      <th>firm_employee</th>\n",
       "      <th>year_founded</th>\n",
       "      <th>firm_location</th>\n",
       "    </tr>\n",
       "  </thead>\n",
       "  <tbody>\n",
       "    <tr>\n",
       "      <th>0</th>\n",
       "      <td>Napollo Software Design L.L.C</td>\n",
       "      <td>Best Software Design Agency in Dubai &amp; New York</td>\n",
       "      <td>5.0 (7 Reviews)</td>\n",
       "      <td>20%</td>\n",
       "      <td>20%</td>\n",
       "      <td>\\nNA</td>\n",
       "      <td>50 - 249</td>\n",
       "      <td>2011</td>\n",
       "      <td>\\nUnited States</td>\n",
       "    </tr>\n",
       "    <tr>\n",
       "      <th>1</th>\n",
       "      <td>SemiDot Infotech Pvt Ltd</td>\n",
       "      <td>Right Technology Partner for IT Solutions</td>\n",
       "      <td>4.7 (7 Reviews)</td>\n",
       "      <td>10%</td>\n",
       "      <td>30%</td>\n",
       "      <td>\\n&lt; $25/hr</td>\n",
       "      <td>50 - 249</td>\n",
       "      <td>2011</td>\n",
       "      <td>\\nUnited States, India</td>\n",
       "    </tr>\n",
       "    <tr>\n",
       "      <th>2</th>\n",
       "      <td>Sphinx Solutions</td>\n",
       "      <td>Inspire : Innovate : Evolve</td>\n",
       "      <td>4.6 (8 Reviews)</td>\n",
       "      <td>5%</td>\n",
       "      <td>10%</td>\n",
       "      <td>\\n&lt; $25/hr</td>\n",
       "      <td>Freelancer</td>\n",
       "      <td>2010</td>\n",
       "      <td>\\nIndia, United States</td>\n",
       "    </tr>\n",
       "    <tr>\n",
       "      <th>3</th>\n",
       "      <td>Redian Software</td>\n",
       "      <td>Delivering Open Source Solutions</td>\n",
       "      <td>5.0 (5 Reviews)</td>\n",
       "      <td>10%</td>\n",
       "      <td>50%</td>\n",
       "      <td>\\n$25 - $49/hr</td>\n",
       "      <td>10 - 49</td>\n",
       "      <td>2016</td>\n",
       "      <td>\\nUnited Kingdom, India</td>\n",
       "    </tr>\n",
       "    <tr>\n",
       "      <th>4</th>\n",
       "      <td>Indus Net Technologies</td>\n",
       "      <td>We Deliver Digital Success</td>\n",
       "      <td>5.0 (5 Reviews)</td>\n",
       "      <td>10%</td>\n",
       "      <td>50%</td>\n",
       "      <td>\\n&lt; $25/hr</td>\n",
       "      <td>250 - 999</td>\n",
       "      <td>1997</td>\n",
       "      <td>\\nIndia, United Kingdom</td>\n",
       "    </tr>\n",
       "  </tbody>\n",
       "</table>\n",
       "</div>"
      ],
      "text/plain": [
       "                       firm_name  \\\n",
       "0  Napollo Software Design L.L.C   \n",
       "1       SemiDot Infotech Pvt Ltd   \n",
       "2               Sphinx Solutions   \n",
       "3                Redian Software   \n",
       "4         Indus Net Technologies   \n",
       "\n",
       "                                        firm_motor      firm_review  \\\n",
       "0  Best Software Design Agency in Dubai & New York  5.0 (7 Reviews)   \n",
       "1        Right Technology Partner for IT Solutions  4.7 (7 Reviews)   \n",
       "2                      Inspire : Innovate : Evolve  4.6 (8 Reviews)   \n",
       "3                 Delivering Open Source Solutions  5.0 (5 Reviews)   \n",
       "4                       We Deliver Digital Success  5.0 (5 Reviews)   \n",
       "\n",
       "  service_pct platform_pct       firm_price firm_employee year_founded  \\\n",
       "0         20%          20%            \\nNA       50 - 249         2011   \n",
       "1         10%          30%      \\n< $25/hr       50 - 249         2011   \n",
       "2          5%          10%      \\n< $25/hr     Freelancer         2010   \n",
       "3         10%          50%  \\n$25 - $49/hr        10 - 49         2016   \n",
       "4         10%          50%      \\n< $25/hr      250 - 999         1997   \n",
       "\n",
       "              firm_location  \n",
       "0          \\nUnited States   \n",
       "1   \\nUnited States, India   \n",
       "2   \\nIndia, United States   \n",
       "3  \\nUnited Kingdom, India   \n",
       "4  \\nIndia, United Kingdom   "
      ]
     },
     "execution_count": 29,
     "metadata": {},
     "output_type": "execute_result"
    }
   ],
   "source": [
    "# Open page 2\n",
    "with open(\"page2.html\", encoding='utf-8', mode='r') as file:\n",
    "    bs2 = BeautifulSoup(file, 'lxml')\n",
    "    \n",
    "# Locate details\n",
    "firm_names = bs2.find_all('span', {'itemprop': \"name\"})\n",
    "firm_motors = bs2.find_all('p', {'class': \"profile-tagline\"})\n",
    "firm_reviews = bs2.find_all('span', {'class': \"listinv_review_label\"})\n",
    "progress_value = bs2.find_all('div', {'class': \"circle-progress-value\"})\n",
    "firm_prices = bs2.find_all('div', {'class': \"firm-pricing\"})\n",
    "firm_emps = bs2.find_all('div', {'class': \"firm-employees\"})\n",
    "firm_years = bs2.find_all('div', {'class': \"firm-founded\"})\n",
    "firm_locations = bs2.find_all('div', {'class': \"firm-location\"})\n",
    "\n",
    "# Extract details\n",
    "names2 = extract_detail(firm_names[3:])\n",
    "motors = extract_detail(firm_motors)\n",
    "reviews = extract_detail(firm_reviews)\n",
    "ser, pct = extract_progress_values(progress_value)\n",
    "prices = extract_detail(firm_prices)\n",
    "emps = extract_detail(firm_emps)\n",
    "years = extract_detail(firm_years)\n",
    "locations = extract_detail(firm_locations)\n",
    "\n",
    "# Put details in a dataframe\n",
    "df2 = pd.DataFrame()\n",
    "df2['firm_name'] = names2\n",
    "df2['firm_motor'] = motors\n",
    "df2['firm_review'] = reviews\n",
    "df2['service_pct'] = ser\n",
    "df2['platform_pct'] = pct\n",
    "df2['firm_price'] = prices\n",
    "df2['firm_employee'] = emps\n",
    "df2['year_founded'] = years\n",
    "df2['firm_location'] = locations\n",
    "\n",
    "# Preview\n",
    "df2.head()"
   ]
  },
  {
   "cell_type": "markdown",
   "metadata": {},
   "source": [
    "### Page 3"
   ]
  },
  {
   "cell_type": "code",
   "execution_count": 30,
   "metadata": {},
   "outputs": [
    {
     "data": {
      "text/html": [
       "<div>\n",
       "<style scoped>\n",
       "    .dataframe tbody tr th:only-of-type {\n",
       "        vertical-align: middle;\n",
       "    }\n",
       "\n",
       "    .dataframe tbody tr th {\n",
       "        vertical-align: top;\n",
       "    }\n",
       "\n",
       "    .dataframe thead th {\n",
       "        text-align: right;\n",
       "    }\n",
       "</style>\n",
       "<table border=\"1\" class=\"dataframe\">\n",
       "  <thead>\n",
       "    <tr style=\"text-align: right;\">\n",
       "      <th></th>\n",
       "      <th>firm_name</th>\n",
       "      <th>firm_motor</th>\n",
       "      <th>firm_review</th>\n",
       "      <th>service_pct</th>\n",
       "      <th>platform_pct</th>\n",
       "      <th>firm_price</th>\n",
       "      <th>firm_employee</th>\n",
       "      <th>year_founded</th>\n",
       "      <th>firm_location</th>\n",
       "    </tr>\n",
       "  </thead>\n",
       "  <tbody>\n",
       "    <tr>\n",
       "      <th>0</th>\n",
       "      <td>Starkflow</td>\n",
       "      <td>#1 platform for hiring SaaS talent globally.</td>\n",
       "      <td>5.0 (2 Reviews)</td>\n",
       "      <td>10%</td>\n",
       "      <td>20%</td>\n",
       "      <td>\\n$100 - $149/hr</td>\n",
       "      <td>10 - 49</td>\n",
       "      <td>2017</td>\n",
       "      <td>\\nUnited States, Ukraine</td>\n",
       "    </tr>\n",
       "    <tr>\n",
       "      <th>1</th>\n",
       "      <td>ExpertsFromIndia</td>\n",
       "      <td>We Make IT Possible</td>\n",
       "      <td>5.0 (2 Reviews)</td>\n",
       "      <td>2%</td>\n",
       "      <td>25%</td>\n",
       "      <td>\\n$25 - $49/hr</td>\n",
       "      <td>250 - 999</td>\n",
       "      <td>2003</td>\n",
       "      <td>\\nUnited States, India</td>\n",
       "    </tr>\n",
       "    <tr>\n",
       "      <th>2</th>\n",
       "      <td>Volumetree</td>\n",
       "      <td>Impact Through Technology</td>\n",
       "      <td>5.0 (2 Reviews)</td>\n",
       "      <td>20%</td>\n",
       "      <td>10%</td>\n",
       "      <td>\\n$25 - $49/hr</td>\n",
       "      <td>50 - 249</td>\n",
       "      <td>2017</td>\n",
       "      <td>\\nIndia, South Africa</td>\n",
       "    </tr>\n",
       "    <tr>\n",
       "      <th>3</th>\n",
       "      <td>QuadLogix Technologies Pvt. Ltd.</td>\n",
       "      <td>Next-Gen Technology Solutions</td>\n",
       "      <td>5.0 (2 Reviews)</td>\n",
       "      <td>5%</td>\n",
       "      <td>20%</td>\n",
       "      <td>\\n$25 - $49/hr</td>\n",
       "      <td>10 - 49</td>\n",
       "      <td>2009</td>\n",
       "      <td>\\nIndia, United Arab Emirates</td>\n",
       "    </tr>\n",
       "    <tr>\n",
       "      <th>4</th>\n",
       "      <td>WOXAPP</td>\n",
       "      <td>Mobile applications for startups and businesses</td>\n",
       "      <td>5.0 (2 Reviews)</td>\n",
       "      <td>5%</td>\n",
       "      <td>20%</td>\n",
       "      <td>\\n$25 - $49/hr</td>\n",
       "      <td>10 - 49</td>\n",
       "      <td>2011</td>\n",
       "      <td>\\nUkraine</td>\n",
       "    </tr>\n",
       "  </tbody>\n",
       "</table>\n",
       "</div>"
      ],
      "text/plain": [
       "                          firm_name  \\\n",
       "0                         Starkflow   \n",
       "1                  ExpertsFromIndia   \n",
       "2                        Volumetree   \n",
       "3  QuadLogix Technologies Pvt. Ltd.   \n",
       "4                            WOXAPP   \n",
       "\n",
       "                                         firm_motor      firm_review  \\\n",
       "0      #1 platform for hiring SaaS talent globally.  5.0 (2 Reviews)   \n",
       "1                               We Make IT Possible  5.0 (2 Reviews)   \n",
       "2                         Impact Through Technology  5.0 (2 Reviews)   \n",
       "3                    Next-Gen Technology Solutions   5.0 (2 Reviews)   \n",
       "4  Mobile applications for startups and businesses   5.0 (2 Reviews)   \n",
       "\n",
       "  service_pct platform_pct         firm_price firm_employee year_founded  \\\n",
       "0         10%          20%  \\n$100 - $149/hr        10 - 49         2017   \n",
       "1          2%          25%    \\n$25 - $49/hr      250 - 999         2003   \n",
       "2         20%          10%    \\n$25 - $49/hr       50 - 249         2017   \n",
       "3          5%          20%    \\n$25 - $49/hr        10 - 49         2009   \n",
       "4          5%          20%    \\n$25 - $49/hr        10 - 49         2011   \n",
       "\n",
       "                    firm_location  \n",
       "0       \\nUnited States, Ukraine   \n",
       "1         \\nUnited States, India   \n",
       "2          \\nIndia, South Africa   \n",
       "3  \\nIndia, United Arab Emirates   \n",
       "4                      \\nUkraine   "
      ]
     },
     "execution_count": 30,
     "metadata": {},
     "output_type": "execute_result"
    }
   ],
   "source": [
    "# Open page 3 \n",
    "with open(\"page3.html\", encoding='utf-8', mode='r') as file:\n",
    "    bs3 = BeautifulSoup(file, 'lxml')\n",
    "    \n",
    "# Locate details\n",
    "firm_names = bs3.find_all('span', {'itemprop': \"name\"})\n",
    "firm_motors = bs3.find_all('p', {'class': \"profile-tagline\"})\n",
    "firm_reviews = bs3.find_all('span', {'class': \"listinv_review_label\"})\n",
    "progress_value = bs3.find_all('div', {'class': \"circle-progress-value\"})\n",
    "firm_prices = bs3.find_all('div', {'class': \"firm-pricing\"})\n",
    "firm_emps = bs3.find_all('div', {'class': \"firm-employees\"})\n",
    "firm_years = bs3.find_all('div', {'class': \"firm-founded\"})\n",
    "firm_locations = bs3.find_all('div', {'class': \"firm-location\"})\n",
    "\n",
    "# Extract details\n",
    "names = extract_detail(firm_names[3:])\n",
    "motors = extract_detail(firm_motors)\n",
    "reviews = extract_detail(firm_reviews)\n",
    "ser, pct = extract_progress_values(progress_value)\n",
    "prices = extract_detail(firm_prices)\n",
    "emps = extract_detail(firm_emps)\n",
    "years = extract_detail(firm_years)\n",
    "locations = extract_detail(firm_locations)\n",
    "\n",
    "# Put details in a dataframe\n",
    "df3 = pd.DataFrame()\n",
    "df3['firm_name'] = names\n",
    "df3['firm_motor'] = motors\n",
    "df3['firm_review'] = reviews\n",
    "df3['service_pct'] = ser\n",
    "df3['platform_pct'] = pct\n",
    "df3['firm_price'] = prices\n",
    "df3['firm_employee'] = emps\n",
    "df3['year_founded'] = years\n",
    "df3['firm_location'] = locations\n",
    "\n",
    "# Preview\n",
    "df3.head()"
   ]
  },
  {
   "cell_type": "markdown",
   "metadata": {},
   "source": [
    "### Combine all DataFrame"
   ]
  },
  {
   "cell_type": "code",
   "execution_count": 31,
   "metadata": {},
   "outputs": [
    {
     "data": {
      "text/html": [
       "<div>\n",
       "<style scoped>\n",
       "    .dataframe tbody tr th:only-of-type {\n",
       "        vertical-align: middle;\n",
       "    }\n",
       "\n",
       "    .dataframe tbody tr th {\n",
       "        vertical-align: top;\n",
       "    }\n",
       "\n",
       "    .dataframe thead th {\n",
       "        text-align: right;\n",
       "    }\n",
       "</style>\n",
       "<table border=\"1\" class=\"dataframe\">\n",
       "  <thead>\n",
       "    <tr style=\"text-align: right;\">\n",
       "      <th></th>\n",
       "      <th>firm_name</th>\n",
       "      <th>firm_motor</th>\n",
       "      <th>firm_review</th>\n",
       "      <th>service_pct</th>\n",
       "      <th>platform_pct</th>\n",
       "      <th>firm_price</th>\n",
       "      <th>firm_employee</th>\n",
       "      <th>year_founded</th>\n",
       "      <th>firm_location</th>\n",
       "    </tr>\n",
       "  </thead>\n",
       "  <tbody>\n",
       "    <tr>\n",
       "      <th>0</th>\n",
       "      <td>SPEC INDIA</td>\n",
       "      <td>Enterprise Software, Mobility &amp; BI Solutions</td>\n",
       "      <td>4.8 (26 Reviews)</td>\n",
       "      <td>20%</td>\n",
       "      <td>15%</td>\n",
       "      <td>\\n&lt; $25/hr</td>\n",
       "      <td>250 - 999</td>\n",
       "      <td>1987</td>\n",
       "      <td>\\nIndia, United States</td>\n",
       "    </tr>\n",
       "    <tr>\n",
       "      <th>1</th>\n",
       "      <td>instinctools</td>\n",
       "      <td>Delivering the future. Now.</td>\n",
       "      <td>4.8 (8 Reviews)</td>\n",
       "      <td>5%</td>\n",
       "      <td>10%</td>\n",
       "      <td>\\n$50 - $99/hr</td>\n",
       "      <td>250 - 999</td>\n",
       "      <td>2000</td>\n",
       "      <td>\\nUnited States, Germany</td>\n",
       "    </tr>\n",
       "    <tr>\n",
       "      <th>2</th>\n",
       "      <td>SoluLab</td>\n",
       "      <td>Blockchain | IoT | Mobility | AI | Big Data</td>\n",
       "      <td>5.0 (32 Reviews)</td>\n",
       "      <td>15%</td>\n",
       "      <td>15%</td>\n",
       "      <td>\\n$25 - $49/hr</td>\n",
       "      <td>50 - 249</td>\n",
       "      <td>2014</td>\n",
       "      <td>\\nUnited States, India</td>\n",
       "    </tr>\n",
       "    <tr>\n",
       "      <th>3</th>\n",
       "      <td>ELEKS</td>\n",
       "      <td>Your Technology Partner for Software Innovation</td>\n",
       "      <td>5.0 (3 Reviews)</td>\n",
       "      <td>10%</td>\n",
       "      <td>20%</td>\n",
       "      <td>\\n$25 - $49/hr</td>\n",
       "      <td>1,000 - 9,999</td>\n",
       "      <td>1991</td>\n",
       "      <td>\\nEstonia, United States</td>\n",
       "    </tr>\n",
       "    <tr>\n",
       "      <th>4</th>\n",
       "      <td>Sigma Data Systems</td>\n",
       "      <td>Discover the world of Big Data with us!</td>\n",
       "      <td>4.7 (5 Reviews)</td>\n",
       "      <td>40%</td>\n",
       "      <td>10%</td>\n",
       "      <td>\\n$25 - $49/hr</td>\n",
       "      <td>250 - 999</td>\n",
       "      <td>2010</td>\n",
       "      <td>\\nUnited States, Australia</td>\n",
       "    </tr>\n",
       "    <tr>\n",
       "      <th>...</th>\n",
       "      <td>...</td>\n",
       "      <td>...</td>\n",
       "      <td>...</td>\n",
       "      <td>...</td>\n",
       "      <td>...</td>\n",
       "      <td>...</td>\n",
       "      <td>...</td>\n",
       "      <td>...</td>\n",
       "      <td>...</td>\n",
       "    </tr>\n",
       "    <tr>\n",
       "      <th>157</th>\n",
       "      <td>Right Information</td>\n",
       "      <td>Perfect match when standard software is not en...</td>\n",
       "      <td>0.0 (0 Review)</td>\n",
       "      <td>10%</td>\n",
       "      <td>50%</td>\n",
       "      <td>\\n$50 - $99/hr</td>\n",
       "      <td>10 - 49</td>\n",
       "      <td>2001</td>\n",
       "      <td>\\nPoland</td>\n",
       "    </tr>\n",
       "    <tr>\n",
       "      <th>158</th>\n",
       "      <td>ISHIR Secure</td>\n",
       "      <td>ISHIR Secure, a managed security services prov...</td>\n",
       "      <td>0.0 (0 Review)</td>\n",
       "      <td>20%</td>\n",
       "      <td>40%</td>\n",
       "      <td>\\nNA</td>\n",
       "      <td>50 - 249</td>\n",
       "      <td>1999</td>\n",
       "      <td>\\nUnited States</td>\n",
       "    </tr>\n",
       "    <tr>\n",
       "      <th>159</th>\n",
       "      <td>BrookeWealth Global, LLC</td>\n",
       "      <td>Business Consultants. Creating Value.</td>\n",
       "      <td>0.0 (0 Review)</td>\n",
       "      <td>50%</td>\n",
       "      <td>15%</td>\n",
       "      <td>\\n$100 - $149/hr</td>\n",
       "      <td>2 - 9</td>\n",
       "      <td>2019</td>\n",
       "      <td>\\nUnited States</td>\n",
       "    </tr>\n",
       "    <tr>\n",
       "      <th>160</th>\n",
       "      <td>Easy Code LTD</td>\n",
       "      <td>bespoke software solutions</td>\n",
       "      <td>0.0 (0 Review)</td>\n",
       "      <td>5%</td>\n",
       "      <td>50%</td>\n",
       "      <td>\\n$100 - $149/hr</td>\n",
       "      <td>2 - 9</td>\n",
       "      <td>2016</td>\n",
       "      <td>\\nUnited Kingdom</td>\n",
       "    </tr>\n",
       "    <tr>\n",
       "      <th>161</th>\n",
       "      <td>Zeal Tech</td>\n",
       "      <td>ZealTech.io / Software Development Experts</td>\n",
       "      <td>0.0 (0 Review)</td>\n",
       "      <td>15%</td>\n",
       "      <td>40%</td>\n",
       "      <td>\\n$100 - $149/hr</td>\n",
       "      <td>50 - 249</td>\n",
       "      <td>2011</td>\n",
       "      <td>\\nUnited States</td>\n",
       "    </tr>\n",
       "  </tbody>\n",
       "</table>\n",
       "<p>162 rows × 9 columns</p>\n",
       "</div>"
      ],
      "text/plain": [
       "                    firm_name  \\\n",
       "0                  SPEC INDIA   \n",
       "1                instinctools   \n",
       "2                     SoluLab   \n",
       "3                       ELEKS   \n",
       "4          Sigma Data Systems   \n",
       "..                        ...   \n",
       "157         Right Information   \n",
       "158              ISHIR Secure   \n",
       "159  BrookeWealth Global, LLC   \n",
       "160             Easy Code LTD   \n",
       "161                 Zeal Tech   \n",
       "\n",
       "                                            firm_motor       firm_review  \\\n",
       "0         Enterprise Software, Mobility & BI Solutions  4.8 (26 Reviews)   \n",
       "1                          Delivering the future. Now.   4.8 (8 Reviews)   \n",
       "2          Blockchain | IoT | Mobility | AI | Big Data  5.0 (32 Reviews)   \n",
       "3      Your Technology Partner for Software Innovation   5.0 (3 Reviews)   \n",
       "4              Discover the world of Big Data with us!   4.7 (5 Reviews)   \n",
       "..                                                 ...               ...   \n",
       "157  Perfect match when standard software is not en...    0.0 (0 Review)   \n",
       "158  ISHIR Secure, a managed security services prov...    0.0 (0 Review)   \n",
       "159             Business Consultants. Creating Value.     0.0 (0 Review)   \n",
       "160                         bespoke software solutions    0.0 (0 Review)   \n",
       "161        ZealTech.io / Software Development Experts     0.0 (0 Review)   \n",
       "\n",
       "    service_pct platform_pct         firm_price  firm_employee year_founded  \\\n",
       "0           20%          15%        \\n< $25/hr       250 - 999         1987   \n",
       "1            5%          10%    \\n$50 - $99/hr       250 - 999         2000   \n",
       "2           15%          15%    \\n$25 - $49/hr        50 - 249         2014   \n",
       "3           10%          20%    \\n$25 - $49/hr   1,000 - 9,999         1991   \n",
       "4           40%          10%    \\n$25 - $49/hr       250 - 999         2010   \n",
       "..          ...          ...                ...            ...          ...   \n",
       "157         10%          50%    \\n$50 - $99/hr         10 - 49         2001   \n",
       "158         20%          40%              \\nNA        50 - 249         1999   \n",
       "159         50%          15%  \\n$100 - $149/hr           2 - 9         2019   \n",
       "160          5%          50%  \\n$100 - $149/hr           2 - 9         2016   \n",
       "161         15%          40%  \\n$100 - $149/hr        50 - 249         2011   \n",
       "\n",
       "                   firm_location  \n",
       "0        \\nIndia, United States   \n",
       "1      \\nUnited States, Germany   \n",
       "2        \\nUnited States, India   \n",
       "3      \\nEstonia, United States   \n",
       "4    \\nUnited States, Australia   \n",
       "..                           ...  \n",
       "157                    \\nPoland   \n",
       "158             \\nUnited States   \n",
       "159             \\nUnited States   \n",
       "160            \\nUnited Kingdom   \n",
       "161             \\nUnited States   \n",
       "\n",
       "[162 rows x 9 columns]"
      ]
     },
     "execution_count": 31,
     "metadata": {},
     "output_type": "execute_result"
    }
   ],
   "source": [
    "all_df = pd.concat([df1, df2, df3], ignore_index=True)\n",
    "all_df"
   ]
  },
  {
   "cell_type": "markdown",
   "metadata": {},
   "source": [
    "### Data Cleaning"
   ]
  },
  {
   "cell_type": "code",
   "execution_count": 33,
   "metadata": {},
   "outputs": [],
   "source": [
    "# extracting star rating \n",
    "values = all_df['firm_review'].apply(lambda x: x.split()[0])\n",
    "all_df.insert(3, 'star_rating', values)\n",
    "\n",
    "# extracting number of reviews\n",
    "val = all_df['firm_review'].apply(lambda x: x.split()[1].strip('('))\n",
    "all_df.insert(4, 'firm_rev', val)\n",
    "\n",
    "# drop firm reviews column\n",
    "all_df.drop(columns='firm_review', inplace=True)\n",
    "\n",
    "# remove \"%\" from firm service and platform percent\n",
    "all_df['service_pct'] = all_df['service_pct'].apply(lambda x: x.strip('%'))\n",
    "all_df['platform_pct'] = all_df['platform_pct'].apply(lambda x: x.strip('%'))\n",
    "\n",
    "# rename columns\n",
    "all_df.rename(columns={'service_pct': 'service_pct(%)', 'platform_pct':'platform_pct(%)'}, inplace=True)\n",
    "\n",
    "# remove \"\\n\" from firm price and location\n",
    "all_df['firm_price'] = all_df['firm_price'].apply(lambda x: x.strip('\\n'))\n",
    "all_df['firm_location'] = all_df['firm_location'].apply(lambda x: x.strip('\\n'))"
   ]
  },
  {
   "cell_type": "code",
   "execution_count": 34,
   "metadata": {},
   "outputs": [
    {
     "data": {
      "text/html": [
       "<div>\n",
       "<style scoped>\n",
       "    .dataframe tbody tr th:only-of-type {\n",
       "        vertical-align: middle;\n",
       "    }\n",
       "\n",
       "    .dataframe tbody tr th {\n",
       "        vertical-align: top;\n",
       "    }\n",
       "\n",
       "    .dataframe thead th {\n",
       "        text-align: right;\n",
       "    }\n",
       "</style>\n",
       "<table border=\"1\" class=\"dataframe\">\n",
       "  <thead>\n",
       "    <tr style=\"text-align: right;\">\n",
       "      <th></th>\n",
       "      <th>firm_name</th>\n",
       "      <th>firm_motor</th>\n",
       "      <th>star_rating</th>\n",
       "      <th>firm_rev</th>\n",
       "      <th>service_pct(%)</th>\n",
       "      <th>platform_pct(%)</th>\n",
       "      <th>firm_price</th>\n",
       "      <th>firm_employee</th>\n",
       "      <th>year_founded</th>\n",
       "      <th>firm_location</th>\n",
       "    </tr>\n",
       "  </thead>\n",
       "  <tbody>\n",
       "    <tr>\n",
       "      <th>0</th>\n",
       "      <td>SPEC INDIA</td>\n",
       "      <td>Enterprise Software, Mobility &amp; BI Solutions</td>\n",
       "      <td>4.8</td>\n",
       "      <td>26</td>\n",
       "      <td>20</td>\n",
       "      <td>15</td>\n",
       "      <td>&lt; $25/hr</td>\n",
       "      <td>250 - 999</td>\n",
       "      <td>1987</td>\n",
       "      <td>India, United States</td>\n",
       "    </tr>\n",
       "    <tr>\n",
       "      <th>1</th>\n",
       "      <td>instinctools</td>\n",
       "      <td>Delivering the future. Now.</td>\n",
       "      <td>4.8</td>\n",
       "      <td>8</td>\n",
       "      <td>5</td>\n",
       "      <td>10</td>\n",
       "      <td>$50 - $99/hr</td>\n",
       "      <td>250 - 999</td>\n",
       "      <td>2000</td>\n",
       "      <td>United States, Germany</td>\n",
       "    </tr>\n",
       "    <tr>\n",
       "      <th>2</th>\n",
       "      <td>SoluLab</td>\n",
       "      <td>Blockchain | IoT | Mobility | AI | Big Data</td>\n",
       "      <td>5.0</td>\n",
       "      <td>32</td>\n",
       "      <td>15</td>\n",
       "      <td>15</td>\n",
       "      <td>$25 - $49/hr</td>\n",
       "      <td>50 - 249</td>\n",
       "      <td>2014</td>\n",
       "      <td>United States, India</td>\n",
       "    </tr>\n",
       "    <tr>\n",
       "      <th>3</th>\n",
       "      <td>ELEKS</td>\n",
       "      <td>Your Technology Partner for Software Innovation</td>\n",
       "      <td>5.0</td>\n",
       "      <td>3</td>\n",
       "      <td>10</td>\n",
       "      <td>20</td>\n",
       "      <td>$25 - $49/hr</td>\n",
       "      <td>1,000 - 9,999</td>\n",
       "      <td>1991</td>\n",
       "      <td>Estonia, United States</td>\n",
       "    </tr>\n",
       "    <tr>\n",
       "      <th>4</th>\n",
       "      <td>Sigma Data Systems</td>\n",
       "      <td>Discover the world of Big Data with us!</td>\n",
       "      <td>4.7</td>\n",
       "      <td>5</td>\n",
       "      <td>40</td>\n",
       "      <td>10</td>\n",
       "      <td>$25 - $49/hr</td>\n",
       "      <td>250 - 999</td>\n",
       "      <td>2010</td>\n",
       "      <td>United States, Australia</td>\n",
       "    </tr>\n",
       "  </tbody>\n",
       "</table>\n",
       "</div>"
      ],
      "text/plain": [
       "            firm_name                                       firm_motor  \\\n",
       "0          SPEC INDIA     Enterprise Software, Mobility & BI Solutions   \n",
       "1        instinctools                      Delivering the future. Now.   \n",
       "2             SoluLab      Blockchain | IoT | Mobility | AI | Big Data   \n",
       "3               ELEKS  Your Technology Partner for Software Innovation   \n",
       "4  Sigma Data Systems          Discover the world of Big Data with us!   \n",
       "\n",
       "  star_rating firm_rev service_pct(%) platform_pct(%)     firm_price  \\\n",
       "0         4.8       26             20              15      < $25/hr    \n",
       "1         4.8        8              5              10  $50 - $99/hr    \n",
       "2         5.0       32             15              15  $25 - $49/hr    \n",
       "3         5.0        3             10              20  $25 - $49/hr    \n",
       "4         4.7        5             40              10  $25 - $49/hr    \n",
       "\n",
       "   firm_employee year_founded              firm_location  \n",
       "0      250 - 999         1987      India, United States   \n",
       "1      250 - 999         2000    United States, Germany   \n",
       "2       50 - 249         2014      United States, India   \n",
       "3  1,000 - 9,999         1991    Estonia, United States   \n",
       "4      250 - 999         2010  United States, Australia   "
      ]
     },
     "execution_count": 34,
     "metadata": {},
     "output_type": "execute_result"
    }
   ],
   "source": [
    "all_df.head()"
   ]
  },
  {
   "cell_type": "markdown",
   "metadata": {},
   "source": [
    "### Save dataframe to CSV file"
   ]
  },
  {
   "cell_type": "code",
   "execution_count": 35,
   "metadata": {},
   "outputs": [],
   "source": [
    "all_df.to_csv('clean_extraction.csv', index=False)"
   ]
  },
  {
   "cell_type": "markdown",
   "metadata": {},
   "source": [
    "### Changing Data Type"
   ]
  },
  {
   "cell_type": "code",
   "execution_count": 36,
   "metadata": {},
   "outputs": [
    {
     "data": {
      "text/plain": [
       "firm_name          object\n",
       "firm_motor         object\n",
       "star_rating        object\n",
       "firm_rev           object\n",
       "service_pct(%)     object\n",
       "platform_pct(%)    object\n",
       "firm_price         object\n",
       "firm_employee      object\n",
       "year_founded       object\n",
       "firm_location      object\n",
       "dtype: object"
      ]
     },
     "execution_count": 36,
     "metadata": {},
     "output_type": "execute_result"
    }
   ],
   "source": [
    "all_df.dtypes"
   ]
  },
  {
   "cell_type": "code",
   "execution_count": 37,
   "metadata": {},
   "outputs": [],
   "source": [
    "all_df['star_rating'] = all_df['star_rating'].astype('float')\n",
    "all_df['firm_rev'] = all_df['firm_rev'].astype('int')\n",
    "all_df['service_pct(%)'] = all_df['service_pct(%)'].astype('int')\n",
    "all_df['platform_pct(%)'] = all_df['platform_pct(%)'].astype('int')"
   ]
  },
  {
   "cell_type": "code",
   "execution_count": 38,
   "metadata": {},
   "outputs": [
    {
     "data": {
      "text/plain": [
       "firm_name           object\n",
       "firm_motor          object\n",
       "star_rating        float64\n",
       "firm_rev             int32\n",
       "service_pct(%)       int32\n",
       "platform_pct(%)      int32\n",
       "firm_price          object\n",
       "firm_employee       object\n",
       "year_founded        object\n",
       "firm_location       object\n",
       "dtype: object"
      ]
     },
     "execution_count": 38,
     "metadata": {},
     "output_type": "execute_result"
    }
   ],
   "source": [
    "all_df.dtypes"
   ]
  },
  {
   "cell_type": "code",
   "execution_count": 40,
   "metadata": {},
   "outputs": [
    {
     "data": {
      "text/html": [
       "<div>\n",
       "<style scoped>\n",
       "    .dataframe tbody tr th:only-of-type {\n",
       "        vertical-align: middle;\n",
       "    }\n",
       "\n",
       "    .dataframe tbody tr th {\n",
       "        vertical-align: top;\n",
       "    }\n",
       "\n",
       "    .dataframe thead th {\n",
       "        text-align: right;\n",
       "    }\n",
       "</style>\n",
       "<table border=\"1\" class=\"dataframe\">\n",
       "  <thead>\n",
       "    <tr style=\"text-align: right;\">\n",
       "      <th></th>\n",
       "      <th>firm_name</th>\n",
       "      <th>firm_motor</th>\n",
       "      <th>star_rating</th>\n",
       "      <th>firm_rev</th>\n",
       "      <th>service_pct(%)</th>\n",
       "      <th>platform_pct(%)</th>\n",
       "      <th>firm_price</th>\n",
       "      <th>firm_employee</th>\n",
       "      <th>year_founded</th>\n",
       "      <th>firm_location</th>\n",
       "    </tr>\n",
       "  </thead>\n",
       "  <tbody>\n",
       "    <tr>\n",
       "      <th>0</th>\n",
       "      <td>SPEC INDIA</td>\n",
       "      <td>Enterprise Software, Mobility &amp; BI Solutions</td>\n",
       "      <td>4.8</td>\n",
       "      <td>26</td>\n",
       "      <td>20</td>\n",
       "      <td>15</td>\n",
       "      <td>&lt; $25/hr</td>\n",
       "      <td>250 - 999</td>\n",
       "      <td>1987</td>\n",
       "      <td>India, United States</td>\n",
       "    </tr>\n",
       "    <tr>\n",
       "      <th>1</th>\n",
       "      <td>instinctools</td>\n",
       "      <td>Delivering the future. Now.</td>\n",
       "      <td>4.8</td>\n",
       "      <td>8</td>\n",
       "      <td>5</td>\n",
       "      <td>10</td>\n",
       "      <td>$50 - $99/hr</td>\n",
       "      <td>250 - 999</td>\n",
       "      <td>2000</td>\n",
       "      <td>United States, Germany</td>\n",
       "    </tr>\n",
       "    <tr>\n",
       "      <th>2</th>\n",
       "      <td>SoluLab</td>\n",
       "      <td>Blockchain | IoT | Mobility | AI | Big Data</td>\n",
       "      <td>5.0</td>\n",
       "      <td>32</td>\n",
       "      <td>15</td>\n",
       "      <td>15</td>\n",
       "      <td>$25 - $49/hr</td>\n",
       "      <td>50 - 249</td>\n",
       "      <td>2014</td>\n",
       "      <td>United States, India</td>\n",
       "    </tr>\n",
       "    <tr>\n",
       "      <th>3</th>\n",
       "      <td>ELEKS</td>\n",
       "      <td>Your Technology Partner for Software Innovation</td>\n",
       "      <td>5.0</td>\n",
       "      <td>3</td>\n",
       "      <td>10</td>\n",
       "      <td>20</td>\n",
       "      <td>$25 - $49/hr</td>\n",
       "      <td>1,000 - 9,999</td>\n",
       "      <td>1991</td>\n",
       "      <td>Estonia, United States</td>\n",
       "    </tr>\n",
       "    <tr>\n",
       "      <th>4</th>\n",
       "      <td>Sigma Data Systems</td>\n",
       "      <td>Discover the world of Big Data with us!</td>\n",
       "      <td>4.7</td>\n",
       "      <td>5</td>\n",
       "      <td>40</td>\n",
       "      <td>10</td>\n",
       "      <td>$25 - $49/hr</td>\n",
       "      <td>250 - 999</td>\n",
       "      <td>2010</td>\n",
       "      <td>United States, Australia</td>\n",
       "    </tr>\n",
       "    <tr>\n",
       "      <th>...</th>\n",
       "      <td>...</td>\n",
       "      <td>...</td>\n",
       "      <td>...</td>\n",
       "      <td>...</td>\n",
       "      <td>...</td>\n",
       "      <td>...</td>\n",
       "      <td>...</td>\n",
       "      <td>...</td>\n",
       "      <td>...</td>\n",
       "      <td>...</td>\n",
       "    </tr>\n",
       "    <tr>\n",
       "      <th>157</th>\n",
       "      <td>Right Information</td>\n",
       "      <td>Perfect match when standard software is not en...</td>\n",
       "      <td>0.0</td>\n",
       "      <td>0</td>\n",
       "      <td>10</td>\n",
       "      <td>50</td>\n",
       "      <td>$50 - $99/hr</td>\n",
       "      <td>10 - 49</td>\n",
       "      <td>2001</td>\n",
       "      <td>Poland</td>\n",
       "    </tr>\n",
       "    <tr>\n",
       "      <th>158</th>\n",
       "      <td>ISHIR Secure</td>\n",
       "      <td>ISHIR Secure, a managed security services prov...</td>\n",
       "      <td>0.0</td>\n",
       "      <td>0</td>\n",
       "      <td>20</td>\n",
       "      <td>40</td>\n",
       "      <td>NA</td>\n",
       "      <td>50 - 249</td>\n",
       "      <td>1999</td>\n",
       "      <td>United States</td>\n",
       "    </tr>\n",
       "    <tr>\n",
       "      <th>159</th>\n",
       "      <td>BrookeWealth Global, LLC</td>\n",
       "      <td>Business Consultants. Creating Value.</td>\n",
       "      <td>0.0</td>\n",
       "      <td>0</td>\n",
       "      <td>50</td>\n",
       "      <td>15</td>\n",
       "      <td>$100 - $149/hr</td>\n",
       "      <td>2 - 9</td>\n",
       "      <td>2019</td>\n",
       "      <td>United States</td>\n",
       "    </tr>\n",
       "    <tr>\n",
       "      <th>160</th>\n",
       "      <td>Easy Code LTD</td>\n",
       "      <td>bespoke software solutions</td>\n",
       "      <td>0.0</td>\n",
       "      <td>0</td>\n",
       "      <td>5</td>\n",
       "      <td>50</td>\n",
       "      <td>$100 - $149/hr</td>\n",
       "      <td>2 - 9</td>\n",
       "      <td>2016</td>\n",
       "      <td>United Kingdom</td>\n",
       "    </tr>\n",
       "    <tr>\n",
       "      <th>161</th>\n",
       "      <td>Zeal Tech</td>\n",
       "      <td>ZealTech.io / Software Development Experts</td>\n",
       "      <td>0.0</td>\n",
       "      <td>0</td>\n",
       "      <td>15</td>\n",
       "      <td>40</td>\n",
       "      <td>$100 - $149/hr</td>\n",
       "      <td>50 - 249</td>\n",
       "      <td>2011</td>\n",
       "      <td>United States</td>\n",
       "    </tr>\n",
       "  </tbody>\n",
       "</table>\n",
       "<p>162 rows × 10 columns</p>\n",
       "</div>"
      ],
      "text/plain": [
       "                    firm_name  \\\n",
       "0                  SPEC INDIA   \n",
       "1                instinctools   \n",
       "2                     SoluLab   \n",
       "3                       ELEKS   \n",
       "4          Sigma Data Systems   \n",
       "..                        ...   \n",
       "157         Right Information   \n",
       "158              ISHIR Secure   \n",
       "159  BrookeWealth Global, LLC   \n",
       "160             Easy Code LTD   \n",
       "161                 Zeal Tech   \n",
       "\n",
       "                                            firm_motor  star_rating  firm_rev  \\\n",
       "0         Enterprise Software, Mobility & BI Solutions          4.8        26   \n",
       "1                          Delivering the future. Now.          4.8         8   \n",
       "2          Blockchain | IoT | Mobility | AI | Big Data          5.0        32   \n",
       "3      Your Technology Partner for Software Innovation          5.0         3   \n",
       "4              Discover the world of Big Data with us!          4.7         5   \n",
       "..                                                 ...          ...       ...   \n",
       "157  Perfect match when standard software is not en...          0.0         0   \n",
       "158  ISHIR Secure, a managed security services prov...          0.0         0   \n",
       "159             Business Consultants. Creating Value.           0.0         0   \n",
       "160                         bespoke software solutions          0.0         0   \n",
       "161        ZealTech.io / Software Development Experts           0.0         0   \n",
       "\n",
       "     service_pct(%)  platform_pct(%)       firm_price  firm_employee  \\\n",
       "0                20               15        < $25/hr       250 - 999   \n",
       "1                 5               10    $50 - $99/hr       250 - 999   \n",
       "2                15               15    $25 - $49/hr        50 - 249   \n",
       "3                10               20    $25 - $49/hr   1,000 - 9,999   \n",
       "4                40               10    $25 - $49/hr       250 - 999   \n",
       "..              ...              ...              ...            ...   \n",
       "157              10               50    $50 - $99/hr         10 - 49   \n",
       "158              20               40              NA        50 - 249   \n",
       "159              50               15  $100 - $149/hr           2 - 9   \n",
       "160               5               50  $100 - $149/hr           2 - 9   \n",
       "161              15               40  $100 - $149/hr        50 - 249   \n",
       "\n",
       "    year_founded              firm_location  \n",
       "0           1987      India, United States   \n",
       "1           2000    United States, Germany   \n",
       "2           2014      United States, India   \n",
       "3           1991    Estonia, United States   \n",
       "4           2010  United States, Australia   \n",
       "..           ...                        ...  \n",
       "157         2001                    Poland   \n",
       "158         1999             United States   \n",
       "159         2019             United States   \n",
       "160         2016            United Kingdom   \n",
       "161         2011             United States   \n",
       "\n",
       "[162 rows x 10 columns]"
      ]
     },
     "execution_count": 40,
     "metadata": {},
     "output_type": "execute_result"
    }
   ],
   "source": [
    "all_df"
   ]
  },
  {
   "cell_type": "markdown",
   "metadata": {},
   "source": [
    "### EDA"
   ]
  },
  {
   "cell_type": "code",
   "execution_count": 43,
   "metadata": {},
   "outputs": [
    {
     "data": {
      "application/vnd.plotly.v1+json": {
       "config": {
        "plotlyServerURL": "https://plot.ly"
       },
       "data": [
        {
         "alignmentgroup": "True",
         "bingroup": "x",
         "hovertemplate": "star_rating=%{x}<br>count=%{y}<extra></extra>",
         "legendgroup": "",
         "marker": {
          "color": "#636efa",
          "pattern": {
           "shape": ""
          }
         },
         "name": "",
         "offsetgroup": "",
         "orientation": "v",
         "showlegend": false,
         "type": "histogram",
         "x": [
          4.8,
          4.8,
          5,
          5,
          4.7,
          5,
          5,
          4.8,
          5,
          5,
          5,
          5,
          4.9,
          5,
          5,
          5,
          4.8,
          5,
          4.9,
          4.9,
          4.9,
          5,
          5,
          5,
          5,
          5,
          5,
          5,
          5,
          5,
          4.8,
          5,
          3,
          5,
          3.4,
          4.6,
          5,
          4.7,
          4.9,
          5,
          4.4,
          5,
          4.9,
          5,
          4.9,
          5,
          5,
          4.5,
          5,
          5,
          5,
          5,
          5,
          5,
          5,
          4.7,
          4.6,
          5,
          5,
          5,
          4.3,
          5,
          5,
          5,
          5,
          5,
          5,
          5,
          4.4,
          5,
          4.8,
          5,
          4.8,
          5,
          5,
          5,
          5,
          4.9,
          5,
          5,
          5,
          4.9,
          5,
          5,
          4.9,
          5,
          5,
          5,
          4.9,
          5,
          5,
          5,
          5,
          5,
          4.9,
          5,
          5,
          5,
          5,
          5,
          4.8,
          5,
          5,
          4.3,
          4.8,
          5,
          5,
          5,
          5,
          5,
          5,
          5,
          5,
          5,
          5,
          5,
          4.8,
          5,
          5,
          5,
          4.8,
          4.8,
          5,
          0,
          5,
          5,
          5,
          5,
          5,
          4.8,
          5,
          4,
          0,
          0,
          0,
          0,
          0,
          0,
          0,
          0,
          0,
          0,
          0,
          0,
          1,
          0,
          0,
          0,
          0,
          0,
          0,
          0,
          0,
          0,
          0,
          0,
          0,
          0,
          0,
          0,
          0,
          0
         ],
         "xaxis": "x",
         "yaxis": "y"
        }
       ],
       "layout": {
        "barmode": "relative",
        "legend": {
         "tracegroupgap": 0
        },
        "template": {
         "data": {
          "bar": [
           {
            "error_x": {
             "color": "#2a3f5f"
            },
            "error_y": {
             "color": "#2a3f5f"
            },
            "marker": {
             "line": {
              "color": "#E5ECF6",
              "width": 0.5
             },
             "pattern": {
              "fillmode": "overlay",
              "size": 10,
              "solidity": 0.2
             }
            },
            "type": "bar"
           }
          ],
          "barpolar": [
           {
            "marker": {
             "line": {
              "color": "#E5ECF6",
              "width": 0.5
             },
             "pattern": {
              "fillmode": "overlay",
              "size": 10,
              "solidity": 0.2
             }
            },
            "type": "barpolar"
           }
          ],
          "carpet": [
           {
            "aaxis": {
             "endlinecolor": "#2a3f5f",
             "gridcolor": "white",
             "linecolor": "white",
             "minorgridcolor": "white",
             "startlinecolor": "#2a3f5f"
            },
            "baxis": {
             "endlinecolor": "#2a3f5f",
             "gridcolor": "white",
             "linecolor": "white",
             "minorgridcolor": "white",
             "startlinecolor": "#2a3f5f"
            },
            "type": "carpet"
           }
          ],
          "choropleth": [
           {
            "colorbar": {
             "outlinewidth": 0,
             "ticks": ""
            },
            "type": "choropleth"
           }
          ],
          "contour": [
           {
            "colorbar": {
             "outlinewidth": 0,
             "ticks": ""
            },
            "colorscale": [
             [
              0,
              "#0d0887"
             ],
             [
              0.1111111111111111,
              "#46039f"
             ],
             [
              0.2222222222222222,
              "#7201a8"
             ],
             [
              0.3333333333333333,
              "#9c179e"
             ],
             [
              0.4444444444444444,
              "#bd3786"
             ],
             [
              0.5555555555555556,
              "#d8576b"
             ],
             [
              0.6666666666666666,
              "#ed7953"
             ],
             [
              0.7777777777777778,
              "#fb9f3a"
             ],
             [
              0.8888888888888888,
              "#fdca26"
             ],
             [
              1,
              "#f0f921"
             ]
            ],
            "type": "contour"
           }
          ],
          "contourcarpet": [
           {
            "colorbar": {
             "outlinewidth": 0,
             "ticks": ""
            },
            "type": "contourcarpet"
           }
          ],
          "heatmap": [
           {
            "colorbar": {
             "outlinewidth": 0,
             "ticks": ""
            },
            "colorscale": [
             [
              0,
              "#0d0887"
             ],
             [
              0.1111111111111111,
              "#46039f"
             ],
             [
              0.2222222222222222,
              "#7201a8"
             ],
             [
              0.3333333333333333,
              "#9c179e"
             ],
             [
              0.4444444444444444,
              "#bd3786"
             ],
             [
              0.5555555555555556,
              "#d8576b"
             ],
             [
              0.6666666666666666,
              "#ed7953"
             ],
             [
              0.7777777777777778,
              "#fb9f3a"
             ],
             [
              0.8888888888888888,
              "#fdca26"
             ],
             [
              1,
              "#f0f921"
             ]
            ],
            "type": "heatmap"
           }
          ],
          "heatmapgl": [
           {
            "colorbar": {
             "outlinewidth": 0,
             "ticks": ""
            },
            "colorscale": [
             [
              0,
              "#0d0887"
             ],
             [
              0.1111111111111111,
              "#46039f"
             ],
             [
              0.2222222222222222,
              "#7201a8"
             ],
             [
              0.3333333333333333,
              "#9c179e"
             ],
             [
              0.4444444444444444,
              "#bd3786"
             ],
             [
              0.5555555555555556,
              "#d8576b"
             ],
             [
              0.6666666666666666,
              "#ed7953"
             ],
             [
              0.7777777777777778,
              "#fb9f3a"
             ],
             [
              0.8888888888888888,
              "#fdca26"
             ],
             [
              1,
              "#f0f921"
             ]
            ],
            "type": "heatmapgl"
           }
          ],
          "histogram": [
           {
            "marker": {
             "pattern": {
              "fillmode": "overlay",
              "size": 10,
              "solidity": 0.2
             }
            },
            "type": "histogram"
           }
          ],
          "histogram2d": [
           {
            "colorbar": {
             "outlinewidth": 0,
             "ticks": ""
            },
            "colorscale": [
             [
              0,
              "#0d0887"
             ],
             [
              0.1111111111111111,
              "#46039f"
             ],
             [
              0.2222222222222222,
              "#7201a8"
             ],
             [
              0.3333333333333333,
              "#9c179e"
             ],
             [
              0.4444444444444444,
              "#bd3786"
             ],
             [
              0.5555555555555556,
              "#d8576b"
             ],
             [
              0.6666666666666666,
              "#ed7953"
             ],
             [
              0.7777777777777778,
              "#fb9f3a"
             ],
             [
              0.8888888888888888,
              "#fdca26"
             ],
             [
              1,
              "#f0f921"
             ]
            ],
            "type": "histogram2d"
           }
          ],
          "histogram2dcontour": [
           {
            "colorbar": {
             "outlinewidth": 0,
             "ticks": ""
            },
            "colorscale": [
             [
              0,
              "#0d0887"
             ],
             [
              0.1111111111111111,
              "#46039f"
             ],
             [
              0.2222222222222222,
              "#7201a8"
             ],
             [
              0.3333333333333333,
              "#9c179e"
             ],
             [
              0.4444444444444444,
              "#bd3786"
             ],
             [
              0.5555555555555556,
              "#d8576b"
             ],
             [
              0.6666666666666666,
              "#ed7953"
             ],
             [
              0.7777777777777778,
              "#fb9f3a"
             ],
             [
              0.8888888888888888,
              "#fdca26"
             ],
             [
              1,
              "#f0f921"
             ]
            ],
            "type": "histogram2dcontour"
           }
          ],
          "mesh3d": [
           {
            "colorbar": {
             "outlinewidth": 0,
             "ticks": ""
            },
            "type": "mesh3d"
           }
          ],
          "parcoords": [
           {
            "line": {
             "colorbar": {
              "outlinewidth": 0,
              "ticks": ""
             }
            },
            "type": "parcoords"
           }
          ],
          "pie": [
           {
            "automargin": true,
            "type": "pie"
           }
          ],
          "scatter": [
           {
            "fillpattern": {
             "fillmode": "overlay",
             "size": 10,
             "solidity": 0.2
            },
            "type": "scatter"
           }
          ],
          "scatter3d": [
           {
            "line": {
             "colorbar": {
              "outlinewidth": 0,
              "ticks": ""
             }
            },
            "marker": {
             "colorbar": {
              "outlinewidth": 0,
              "ticks": ""
             }
            },
            "type": "scatter3d"
           }
          ],
          "scattercarpet": [
           {
            "marker": {
             "colorbar": {
              "outlinewidth": 0,
              "ticks": ""
             }
            },
            "type": "scattercarpet"
           }
          ],
          "scattergeo": [
           {
            "marker": {
             "colorbar": {
              "outlinewidth": 0,
              "ticks": ""
             }
            },
            "type": "scattergeo"
           }
          ],
          "scattergl": [
           {
            "marker": {
             "colorbar": {
              "outlinewidth": 0,
              "ticks": ""
             }
            },
            "type": "scattergl"
           }
          ],
          "scattermapbox": [
           {
            "marker": {
             "colorbar": {
              "outlinewidth": 0,
              "ticks": ""
             }
            },
            "type": "scattermapbox"
           }
          ],
          "scatterpolar": [
           {
            "marker": {
             "colorbar": {
              "outlinewidth": 0,
              "ticks": ""
             }
            },
            "type": "scatterpolar"
           }
          ],
          "scatterpolargl": [
           {
            "marker": {
             "colorbar": {
              "outlinewidth": 0,
              "ticks": ""
             }
            },
            "type": "scatterpolargl"
           }
          ],
          "scatterternary": [
           {
            "marker": {
             "colorbar": {
              "outlinewidth": 0,
              "ticks": ""
             }
            },
            "type": "scatterternary"
           }
          ],
          "surface": [
           {
            "colorbar": {
             "outlinewidth": 0,
             "ticks": ""
            },
            "colorscale": [
             [
              0,
              "#0d0887"
             ],
             [
              0.1111111111111111,
              "#46039f"
             ],
             [
              0.2222222222222222,
              "#7201a8"
             ],
             [
              0.3333333333333333,
              "#9c179e"
             ],
             [
              0.4444444444444444,
              "#bd3786"
             ],
             [
              0.5555555555555556,
              "#d8576b"
             ],
             [
              0.6666666666666666,
              "#ed7953"
             ],
             [
              0.7777777777777778,
              "#fb9f3a"
             ],
             [
              0.8888888888888888,
              "#fdca26"
             ],
             [
              1,
              "#f0f921"
             ]
            ],
            "type": "surface"
           }
          ],
          "table": [
           {
            "cells": {
             "fill": {
              "color": "#EBF0F8"
             },
             "line": {
              "color": "white"
             }
            },
            "header": {
             "fill": {
              "color": "#C8D4E3"
             },
             "line": {
              "color": "white"
             }
            },
            "type": "table"
           }
          ]
         },
         "layout": {
          "annotationdefaults": {
           "arrowcolor": "#2a3f5f",
           "arrowhead": 0,
           "arrowwidth": 1
          },
          "autotypenumbers": "strict",
          "coloraxis": {
           "colorbar": {
            "outlinewidth": 0,
            "ticks": ""
           }
          },
          "colorscale": {
           "diverging": [
            [
             0,
             "#8e0152"
            ],
            [
             0.1,
             "#c51b7d"
            ],
            [
             0.2,
             "#de77ae"
            ],
            [
             0.3,
             "#f1b6da"
            ],
            [
             0.4,
             "#fde0ef"
            ],
            [
             0.5,
             "#f7f7f7"
            ],
            [
             0.6,
             "#e6f5d0"
            ],
            [
             0.7,
             "#b8e186"
            ],
            [
             0.8,
             "#7fbc41"
            ],
            [
             0.9,
             "#4d9221"
            ],
            [
             1,
             "#276419"
            ]
           ],
           "sequential": [
            [
             0,
             "#0d0887"
            ],
            [
             0.1111111111111111,
             "#46039f"
            ],
            [
             0.2222222222222222,
             "#7201a8"
            ],
            [
             0.3333333333333333,
             "#9c179e"
            ],
            [
             0.4444444444444444,
             "#bd3786"
            ],
            [
             0.5555555555555556,
             "#d8576b"
            ],
            [
             0.6666666666666666,
             "#ed7953"
            ],
            [
             0.7777777777777778,
             "#fb9f3a"
            ],
            [
             0.8888888888888888,
             "#fdca26"
            ],
            [
             1,
             "#f0f921"
            ]
           ],
           "sequentialminus": [
            [
             0,
             "#0d0887"
            ],
            [
             0.1111111111111111,
             "#46039f"
            ],
            [
             0.2222222222222222,
             "#7201a8"
            ],
            [
             0.3333333333333333,
             "#9c179e"
            ],
            [
             0.4444444444444444,
             "#bd3786"
            ],
            [
             0.5555555555555556,
             "#d8576b"
            ],
            [
             0.6666666666666666,
             "#ed7953"
            ],
            [
             0.7777777777777778,
             "#fb9f3a"
            ],
            [
             0.8888888888888888,
             "#fdca26"
            ],
            [
             1,
             "#f0f921"
            ]
           ]
          },
          "colorway": [
           "#636efa",
           "#EF553B",
           "#00cc96",
           "#ab63fa",
           "#FFA15A",
           "#19d3f3",
           "#FF6692",
           "#B6E880",
           "#FF97FF",
           "#FECB52"
          ],
          "font": {
           "color": "#2a3f5f"
          },
          "geo": {
           "bgcolor": "white",
           "lakecolor": "white",
           "landcolor": "#E5ECF6",
           "showlakes": true,
           "showland": true,
           "subunitcolor": "white"
          },
          "hoverlabel": {
           "align": "left"
          },
          "hovermode": "closest",
          "mapbox": {
           "style": "light"
          },
          "paper_bgcolor": "white",
          "plot_bgcolor": "#E5ECF6",
          "polar": {
           "angularaxis": {
            "gridcolor": "white",
            "linecolor": "white",
            "ticks": ""
           },
           "bgcolor": "#E5ECF6",
           "radialaxis": {
            "gridcolor": "white",
            "linecolor": "white",
            "ticks": ""
           }
          },
          "scene": {
           "xaxis": {
            "backgroundcolor": "#E5ECF6",
            "gridcolor": "white",
            "gridwidth": 2,
            "linecolor": "white",
            "showbackground": true,
            "ticks": "",
            "zerolinecolor": "white"
           },
           "yaxis": {
            "backgroundcolor": "#E5ECF6",
            "gridcolor": "white",
            "gridwidth": 2,
            "linecolor": "white",
            "showbackground": true,
            "ticks": "",
            "zerolinecolor": "white"
           },
           "zaxis": {
            "backgroundcolor": "#E5ECF6",
            "gridcolor": "white",
            "gridwidth": 2,
            "linecolor": "white",
            "showbackground": true,
            "ticks": "",
            "zerolinecolor": "white"
           }
          },
          "shapedefaults": {
           "line": {
            "color": "#2a3f5f"
           }
          },
          "ternary": {
           "aaxis": {
            "gridcolor": "white",
            "linecolor": "white",
            "ticks": ""
           },
           "baxis": {
            "gridcolor": "white",
            "linecolor": "white",
            "ticks": ""
           },
           "bgcolor": "#E5ECF6",
           "caxis": {
            "gridcolor": "white",
            "linecolor": "white",
            "ticks": ""
           }
          },
          "title": {
           "x": 0.05
          },
          "xaxis": {
           "automargin": true,
           "gridcolor": "white",
           "linecolor": "white",
           "ticks": "",
           "title": {
            "standoff": 15
           },
           "zerolinecolor": "white",
           "zerolinewidth": 2
          },
          "yaxis": {
           "automargin": true,
           "gridcolor": "white",
           "linecolor": "white",
           "ticks": "",
           "title": {
            "standoff": 15
           },
           "zerolinecolor": "white",
           "zerolinewidth": 2
          }
         }
        },
        "title": {
         "text": "Star Rating Distribution"
        },
        "width": 500,
        "xaxis": {
         "anchor": "y",
         "domain": [
          0,
          1
         ],
         "title": {
          "text": "star_rating"
         }
        },
        "yaxis": {
         "anchor": "x",
         "domain": [
          0,
          1
         ],
         "title": {
          "text": "count"
         }
        }
       }
      },
      "text/html": [
       "<div>                            <div id=\"fa9cd79a-1d7f-48d7-ac87-c2a364620b84\" class=\"plotly-graph-div\" style=\"height:525px; width:500px;\"></div>            <script type=\"text/javascript\">                require([\"plotly\"], function(Plotly) {                    window.PLOTLYENV=window.PLOTLYENV || {};                                    if (document.getElementById(\"fa9cd79a-1d7f-48d7-ac87-c2a364620b84\")) {                    Plotly.newPlot(                        \"fa9cd79a-1d7f-48d7-ac87-c2a364620b84\",                        [{\"alignmentgroup\":\"True\",\"bingroup\":\"x\",\"hovertemplate\":\"star_rating=%{x}<br>count=%{y}<extra></extra>\",\"legendgroup\":\"\",\"marker\":{\"color\":\"#636efa\",\"pattern\":{\"shape\":\"\"}},\"name\":\"\",\"offsetgroup\":\"\",\"orientation\":\"v\",\"showlegend\":false,\"x\":[4.8,4.8,5.0,5.0,4.7,5.0,5.0,4.8,5.0,5.0,5.0,5.0,4.9,5.0,5.0,5.0,4.8,5.0,4.9,4.9,4.9,5.0,5.0,5.0,5.0,5.0,5.0,5.0,5.0,5.0,4.8,5.0,3.0,5.0,3.4,4.6,5.0,4.7,4.9,5.0,4.4,5.0,4.9,5.0,4.9,5.0,5.0,4.5,5.0,5.0,5.0,5.0,5.0,5.0,5.0,4.7,4.6,5.0,5.0,5.0,4.3,5.0,5.0,5.0,5.0,5.0,5.0,5.0,4.4,5.0,4.8,5.0,4.8,5.0,5.0,5.0,5.0,4.9,5.0,5.0,5.0,4.9,5.0,5.0,4.9,5.0,5.0,5.0,4.9,5.0,5.0,5.0,5.0,5.0,4.9,5.0,5.0,5.0,5.0,5.0,4.8,5.0,5.0,4.3,4.8,5.0,5.0,5.0,5.0,5.0,5.0,5.0,5.0,5.0,5.0,5.0,4.8,5.0,5.0,5.0,4.8,4.8,5.0,0.0,5.0,5.0,5.0,5.0,5.0,4.8,5.0,4.0,0.0,0.0,0.0,0.0,0.0,0.0,0.0,0.0,0.0,0.0,0.0,0.0,1.0,0.0,0.0,0.0,0.0,0.0,0.0,0.0,0.0,0.0,0.0,0.0,0.0,0.0,0.0,0.0,0.0,0.0],\"xaxis\":\"x\",\"yaxis\":\"y\",\"type\":\"histogram\"}],                        {\"template\":{\"data\":{\"histogram2dcontour\":[{\"type\":\"histogram2dcontour\",\"colorbar\":{\"outlinewidth\":0,\"ticks\":\"\"},\"colorscale\":[[0.0,\"#0d0887\"],[0.1111111111111111,\"#46039f\"],[0.2222222222222222,\"#7201a8\"],[0.3333333333333333,\"#9c179e\"],[0.4444444444444444,\"#bd3786\"],[0.5555555555555556,\"#d8576b\"],[0.6666666666666666,\"#ed7953\"],[0.7777777777777778,\"#fb9f3a\"],[0.8888888888888888,\"#fdca26\"],[1.0,\"#f0f921\"]]}],\"choropleth\":[{\"type\":\"choropleth\",\"colorbar\":{\"outlinewidth\":0,\"ticks\":\"\"}}],\"histogram2d\":[{\"type\":\"histogram2d\",\"colorbar\":{\"outlinewidth\":0,\"ticks\":\"\"},\"colorscale\":[[0.0,\"#0d0887\"],[0.1111111111111111,\"#46039f\"],[0.2222222222222222,\"#7201a8\"],[0.3333333333333333,\"#9c179e\"],[0.4444444444444444,\"#bd3786\"],[0.5555555555555556,\"#d8576b\"],[0.6666666666666666,\"#ed7953\"],[0.7777777777777778,\"#fb9f3a\"],[0.8888888888888888,\"#fdca26\"],[1.0,\"#f0f921\"]]}],\"heatmap\":[{\"type\":\"heatmap\",\"colorbar\":{\"outlinewidth\":0,\"ticks\":\"\"},\"colorscale\":[[0.0,\"#0d0887\"],[0.1111111111111111,\"#46039f\"],[0.2222222222222222,\"#7201a8\"],[0.3333333333333333,\"#9c179e\"],[0.4444444444444444,\"#bd3786\"],[0.5555555555555556,\"#d8576b\"],[0.6666666666666666,\"#ed7953\"],[0.7777777777777778,\"#fb9f3a\"],[0.8888888888888888,\"#fdca26\"],[1.0,\"#f0f921\"]]}],\"heatmapgl\":[{\"type\":\"heatmapgl\",\"colorbar\":{\"outlinewidth\":0,\"ticks\":\"\"},\"colorscale\":[[0.0,\"#0d0887\"],[0.1111111111111111,\"#46039f\"],[0.2222222222222222,\"#7201a8\"],[0.3333333333333333,\"#9c179e\"],[0.4444444444444444,\"#bd3786\"],[0.5555555555555556,\"#d8576b\"],[0.6666666666666666,\"#ed7953\"],[0.7777777777777778,\"#fb9f3a\"],[0.8888888888888888,\"#fdca26\"],[1.0,\"#f0f921\"]]}],\"contourcarpet\":[{\"type\":\"contourcarpet\",\"colorbar\":{\"outlinewidth\":0,\"ticks\":\"\"}}],\"contour\":[{\"type\":\"contour\",\"colorbar\":{\"outlinewidth\":0,\"ticks\":\"\"},\"colorscale\":[[0.0,\"#0d0887\"],[0.1111111111111111,\"#46039f\"],[0.2222222222222222,\"#7201a8\"],[0.3333333333333333,\"#9c179e\"],[0.4444444444444444,\"#bd3786\"],[0.5555555555555556,\"#d8576b\"],[0.6666666666666666,\"#ed7953\"],[0.7777777777777778,\"#fb9f3a\"],[0.8888888888888888,\"#fdca26\"],[1.0,\"#f0f921\"]]}],\"surface\":[{\"type\":\"surface\",\"colorbar\":{\"outlinewidth\":0,\"ticks\":\"\"},\"colorscale\":[[0.0,\"#0d0887\"],[0.1111111111111111,\"#46039f\"],[0.2222222222222222,\"#7201a8\"],[0.3333333333333333,\"#9c179e\"],[0.4444444444444444,\"#bd3786\"],[0.5555555555555556,\"#d8576b\"],[0.6666666666666666,\"#ed7953\"],[0.7777777777777778,\"#fb9f3a\"],[0.8888888888888888,\"#fdca26\"],[1.0,\"#f0f921\"]]}],\"mesh3d\":[{\"type\":\"mesh3d\",\"colorbar\":{\"outlinewidth\":0,\"ticks\":\"\"}}],\"scatter\":[{\"fillpattern\":{\"fillmode\":\"overlay\",\"size\":10,\"solidity\":0.2},\"type\":\"scatter\"}],\"parcoords\":[{\"type\":\"parcoords\",\"line\":{\"colorbar\":{\"outlinewidth\":0,\"ticks\":\"\"}}}],\"scatterpolargl\":[{\"type\":\"scatterpolargl\",\"marker\":{\"colorbar\":{\"outlinewidth\":0,\"ticks\":\"\"}}}],\"bar\":[{\"error_x\":{\"color\":\"#2a3f5f\"},\"error_y\":{\"color\":\"#2a3f5f\"},\"marker\":{\"line\":{\"color\":\"#E5ECF6\",\"width\":0.5},\"pattern\":{\"fillmode\":\"overlay\",\"size\":10,\"solidity\":0.2}},\"type\":\"bar\"}],\"scattergeo\":[{\"type\":\"scattergeo\",\"marker\":{\"colorbar\":{\"outlinewidth\":0,\"ticks\":\"\"}}}],\"scatterpolar\":[{\"type\":\"scatterpolar\",\"marker\":{\"colorbar\":{\"outlinewidth\":0,\"ticks\":\"\"}}}],\"histogram\":[{\"marker\":{\"pattern\":{\"fillmode\":\"overlay\",\"size\":10,\"solidity\":0.2}},\"type\":\"histogram\"}],\"scattergl\":[{\"type\":\"scattergl\",\"marker\":{\"colorbar\":{\"outlinewidth\":0,\"ticks\":\"\"}}}],\"scatter3d\":[{\"type\":\"scatter3d\",\"line\":{\"colorbar\":{\"outlinewidth\":0,\"ticks\":\"\"}},\"marker\":{\"colorbar\":{\"outlinewidth\":0,\"ticks\":\"\"}}}],\"scattermapbox\":[{\"type\":\"scattermapbox\",\"marker\":{\"colorbar\":{\"outlinewidth\":0,\"ticks\":\"\"}}}],\"scatterternary\":[{\"type\":\"scatterternary\",\"marker\":{\"colorbar\":{\"outlinewidth\":0,\"ticks\":\"\"}}}],\"scattercarpet\":[{\"type\":\"scattercarpet\",\"marker\":{\"colorbar\":{\"outlinewidth\":0,\"ticks\":\"\"}}}],\"carpet\":[{\"aaxis\":{\"endlinecolor\":\"#2a3f5f\",\"gridcolor\":\"white\",\"linecolor\":\"white\",\"minorgridcolor\":\"white\",\"startlinecolor\":\"#2a3f5f\"},\"baxis\":{\"endlinecolor\":\"#2a3f5f\",\"gridcolor\":\"white\",\"linecolor\":\"white\",\"minorgridcolor\":\"white\",\"startlinecolor\":\"#2a3f5f\"},\"type\":\"carpet\"}],\"table\":[{\"cells\":{\"fill\":{\"color\":\"#EBF0F8\"},\"line\":{\"color\":\"white\"}},\"header\":{\"fill\":{\"color\":\"#C8D4E3\"},\"line\":{\"color\":\"white\"}},\"type\":\"table\"}],\"barpolar\":[{\"marker\":{\"line\":{\"color\":\"#E5ECF6\",\"width\":0.5},\"pattern\":{\"fillmode\":\"overlay\",\"size\":10,\"solidity\":0.2}},\"type\":\"barpolar\"}],\"pie\":[{\"automargin\":true,\"type\":\"pie\"}]},\"layout\":{\"autotypenumbers\":\"strict\",\"colorway\":[\"#636efa\",\"#EF553B\",\"#00cc96\",\"#ab63fa\",\"#FFA15A\",\"#19d3f3\",\"#FF6692\",\"#B6E880\",\"#FF97FF\",\"#FECB52\"],\"font\":{\"color\":\"#2a3f5f\"},\"hovermode\":\"closest\",\"hoverlabel\":{\"align\":\"left\"},\"paper_bgcolor\":\"white\",\"plot_bgcolor\":\"#E5ECF6\",\"polar\":{\"bgcolor\":\"#E5ECF6\",\"angularaxis\":{\"gridcolor\":\"white\",\"linecolor\":\"white\",\"ticks\":\"\"},\"radialaxis\":{\"gridcolor\":\"white\",\"linecolor\":\"white\",\"ticks\":\"\"}},\"ternary\":{\"bgcolor\":\"#E5ECF6\",\"aaxis\":{\"gridcolor\":\"white\",\"linecolor\":\"white\",\"ticks\":\"\"},\"baxis\":{\"gridcolor\":\"white\",\"linecolor\":\"white\",\"ticks\":\"\"},\"caxis\":{\"gridcolor\":\"white\",\"linecolor\":\"white\",\"ticks\":\"\"}},\"coloraxis\":{\"colorbar\":{\"outlinewidth\":0,\"ticks\":\"\"}},\"colorscale\":{\"sequential\":[[0.0,\"#0d0887\"],[0.1111111111111111,\"#46039f\"],[0.2222222222222222,\"#7201a8\"],[0.3333333333333333,\"#9c179e\"],[0.4444444444444444,\"#bd3786\"],[0.5555555555555556,\"#d8576b\"],[0.6666666666666666,\"#ed7953\"],[0.7777777777777778,\"#fb9f3a\"],[0.8888888888888888,\"#fdca26\"],[1.0,\"#f0f921\"]],\"sequentialminus\":[[0.0,\"#0d0887\"],[0.1111111111111111,\"#46039f\"],[0.2222222222222222,\"#7201a8\"],[0.3333333333333333,\"#9c179e\"],[0.4444444444444444,\"#bd3786\"],[0.5555555555555556,\"#d8576b\"],[0.6666666666666666,\"#ed7953\"],[0.7777777777777778,\"#fb9f3a\"],[0.8888888888888888,\"#fdca26\"],[1.0,\"#f0f921\"]],\"diverging\":[[0,\"#8e0152\"],[0.1,\"#c51b7d\"],[0.2,\"#de77ae\"],[0.3,\"#f1b6da\"],[0.4,\"#fde0ef\"],[0.5,\"#f7f7f7\"],[0.6,\"#e6f5d0\"],[0.7,\"#b8e186\"],[0.8,\"#7fbc41\"],[0.9,\"#4d9221\"],[1,\"#276419\"]]},\"xaxis\":{\"gridcolor\":\"white\",\"linecolor\":\"white\",\"ticks\":\"\",\"title\":{\"standoff\":15},\"zerolinecolor\":\"white\",\"automargin\":true,\"zerolinewidth\":2},\"yaxis\":{\"gridcolor\":\"white\",\"linecolor\":\"white\",\"ticks\":\"\",\"title\":{\"standoff\":15},\"zerolinecolor\":\"white\",\"automargin\":true,\"zerolinewidth\":2},\"scene\":{\"xaxis\":{\"backgroundcolor\":\"#E5ECF6\",\"gridcolor\":\"white\",\"linecolor\":\"white\",\"showbackground\":true,\"ticks\":\"\",\"zerolinecolor\":\"white\",\"gridwidth\":2},\"yaxis\":{\"backgroundcolor\":\"#E5ECF6\",\"gridcolor\":\"white\",\"linecolor\":\"white\",\"showbackground\":true,\"ticks\":\"\",\"zerolinecolor\":\"white\",\"gridwidth\":2},\"zaxis\":{\"backgroundcolor\":\"#E5ECF6\",\"gridcolor\":\"white\",\"linecolor\":\"white\",\"showbackground\":true,\"ticks\":\"\",\"zerolinecolor\":\"white\",\"gridwidth\":2}},\"shapedefaults\":{\"line\":{\"color\":\"#2a3f5f\"}},\"annotationdefaults\":{\"arrowcolor\":\"#2a3f5f\",\"arrowhead\":0,\"arrowwidth\":1},\"geo\":{\"bgcolor\":\"white\",\"landcolor\":\"#E5ECF6\",\"subunitcolor\":\"white\",\"showland\":true,\"showlakes\":true,\"lakecolor\":\"white\"},\"title\":{\"x\":0.05},\"mapbox\":{\"style\":\"light\"}}},\"xaxis\":{\"anchor\":\"y\",\"domain\":[0.0,1.0],\"title\":{\"text\":\"star_rating\"}},\"yaxis\":{\"anchor\":\"x\",\"domain\":[0.0,1.0],\"title\":{\"text\":\"count\"}},\"legend\":{\"tracegroupgap\":0},\"title\":{\"text\":\"Star Rating Distribution\"},\"barmode\":\"relative\",\"width\":500},                        {\"responsive\": true}                    ).then(function(){\n",
       "                            \n",
       "var gd = document.getElementById('fa9cd79a-1d7f-48d7-ac87-c2a364620b84');\n",
       "var x = new MutationObserver(function (mutations, observer) {{\n",
       "        var display = window.getComputedStyle(gd).display;\n",
       "        if (!display || display === 'none') {{\n",
       "            console.log([gd, 'removed!']);\n",
       "            Plotly.purge(gd);\n",
       "            observer.disconnect();\n",
       "        }}\n",
       "}});\n",
       "\n",
       "// Listen for the removal of the full notebook cells\n",
       "var notebookContainer = gd.closest('#notebook-container');\n",
       "if (notebookContainer) {{\n",
       "    x.observe(notebookContainer, {childList: true});\n",
       "}}\n",
       "\n",
       "// Listen for the clearing of the current output cell\n",
       "var outputEl = gd.closest('.output');\n",
       "if (outputEl) {{\n",
       "    x.observe(outputEl, {childList: true});\n",
       "}}\n",
       "\n",
       "                        })                };                });            </script>        </div>"
      ]
     },
     "metadata": {},
     "output_type": "display_data"
    }
   ],
   "source": [
    "px.histogram(all_df, 'star_rating', width=500, title='Star Rating Distribution')"
   ]
  },
  {
   "cell_type": "markdown",
   "metadata": {},
   "source": [
    "* More than 100 firms has a star rating between 4.5 - 5.4\n",
    "* 30 firms has a rating below\n",
    "* Less than 10 firms has a rating between 1 - 4"
   ]
  },
  {
   "cell_type": "code",
   "execution_count": 44,
   "metadata": {},
   "outputs": [
    {
     "data": {
      "application/vnd.plotly.v1+json": {
       "config": {
        "plotlyServerURL": "https://plot.ly"
       },
       "data": [
        {
         "alignmentgroup": "True",
         "bingroup": "x",
         "hovertemplate": "firm_rev=%{x}<br>count=%{y}<extra></extra>",
         "legendgroup": "",
         "marker": {
          "color": "#636efa",
          "pattern": {
           "shape": ""
          }
         },
         "name": "",
         "offsetgroup": "",
         "orientation": "v",
         "showlegend": false,
         "type": "histogram",
         "x": [
          26,
          8,
          32,
          3,
          5,
          5,
          1,
          32,
          12,
          7,
          3,
          4,
          7,
          5,
          9,
          6,
          3,
          8,
          7,
          3,
          4,
          5,
          3,
          2,
          3,
          2,
          1,
          1,
          2,
          2,
          3,
          1,
          2,
          30,
          5,
          15,
          16,
          14,
          13,
          14,
          15,
          14,
          13,
          12,
          12,
          11,
          11,
          10,
          5,
          9,
          8,
          6,
          6,
          3,
          7,
          7,
          8,
          5,
          5,
          5,
          3,
          2,
          2,
          2,
          5,
          1,
          4,
          6,
          4,
          4,
          5,
          3,
          5,
          5,
          1,
          1,
          3,
          5,
          5,
          5,
          4,
          4,
          4,
          4,
          4,
          2,
          4,
          4,
          4,
          1,
          3,
          3,
          3,
          3,
          3,
          1,
          1,
          1,
          1,
          2,
          1,
          2,
          2,
          3,
          1,
          2,
          3,
          2,
          2,
          2,
          2,
          2,
          2,
          2,
          1,
          2,
          1,
          1,
          1,
          1,
          1,
          1,
          1,
          0,
          1,
          1,
          1,
          1,
          1,
          1,
          1,
          1,
          0,
          0,
          0,
          0,
          0,
          0,
          0,
          0,
          0,
          0,
          0,
          0,
          1,
          0,
          0,
          0,
          0,
          0,
          0,
          0,
          0,
          0,
          0,
          0,
          0,
          0,
          0,
          0,
          0,
          0
         ],
         "xaxis": "x",
         "yaxis": "y"
        }
       ],
       "layout": {
        "barmode": "relative",
        "legend": {
         "tracegroupgap": 0
        },
        "template": {
         "data": {
          "bar": [
           {
            "error_x": {
             "color": "#2a3f5f"
            },
            "error_y": {
             "color": "#2a3f5f"
            },
            "marker": {
             "line": {
              "color": "#E5ECF6",
              "width": 0.5
             },
             "pattern": {
              "fillmode": "overlay",
              "size": 10,
              "solidity": 0.2
             }
            },
            "type": "bar"
           }
          ],
          "barpolar": [
           {
            "marker": {
             "line": {
              "color": "#E5ECF6",
              "width": 0.5
             },
             "pattern": {
              "fillmode": "overlay",
              "size": 10,
              "solidity": 0.2
             }
            },
            "type": "barpolar"
           }
          ],
          "carpet": [
           {
            "aaxis": {
             "endlinecolor": "#2a3f5f",
             "gridcolor": "white",
             "linecolor": "white",
             "minorgridcolor": "white",
             "startlinecolor": "#2a3f5f"
            },
            "baxis": {
             "endlinecolor": "#2a3f5f",
             "gridcolor": "white",
             "linecolor": "white",
             "minorgridcolor": "white",
             "startlinecolor": "#2a3f5f"
            },
            "type": "carpet"
           }
          ],
          "choropleth": [
           {
            "colorbar": {
             "outlinewidth": 0,
             "ticks": ""
            },
            "type": "choropleth"
           }
          ],
          "contour": [
           {
            "colorbar": {
             "outlinewidth": 0,
             "ticks": ""
            },
            "colorscale": [
             [
              0,
              "#0d0887"
             ],
             [
              0.1111111111111111,
              "#46039f"
             ],
             [
              0.2222222222222222,
              "#7201a8"
             ],
             [
              0.3333333333333333,
              "#9c179e"
             ],
             [
              0.4444444444444444,
              "#bd3786"
             ],
             [
              0.5555555555555556,
              "#d8576b"
             ],
             [
              0.6666666666666666,
              "#ed7953"
             ],
             [
              0.7777777777777778,
              "#fb9f3a"
             ],
             [
              0.8888888888888888,
              "#fdca26"
             ],
             [
              1,
              "#f0f921"
             ]
            ],
            "type": "contour"
           }
          ],
          "contourcarpet": [
           {
            "colorbar": {
             "outlinewidth": 0,
             "ticks": ""
            },
            "type": "contourcarpet"
           }
          ],
          "heatmap": [
           {
            "colorbar": {
             "outlinewidth": 0,
             "ticks": ""
            },
            "colorscale": [
             [
              0,
              "#0d0887"
             ],
             [
              0.1111111111111111,
              "#46039f"
             ],
             [
              0.2222222222222222,
              "#7201a8"
             ],
             [
              0.3333333333333333,
              "#9c179e"
             ],
             [
              0.4444444444444444,
              "#bd3786"
             ],
             [
              0.5555555555555556,
              "#d8576b"
             ],
             [
              0.6666666666666666,
              "#ed7953"
             ],
             [
              0.7777777777777778,
              "#fb9f3a"
             ],
             [
              0.8888888888888888,
              "#fdca26"
             ],
             [
              1,
              "#f0f921"
             ]
            ],
            "type": "heatmap"
           }
          ],
          "heatmapgl": [
           {
            "colorbar": {
             "outlinewidth": 0,
             "ticks": ""
            },
            "colorscale": [
             [
              0,
              "#0d0887"
             ],
             [
              0.1111111111111111,
              "#46039f"
             ],
             [
              0.2222222222222222,
              "#7201a8"
             ],
             [
              0.3333333333333333,
              "#9c179e"
             ],
             [
              0.4444444444444444,
              "#bd3786"
             ],
             [
              0.5555555555555556,
              "#d8576b"
             ],
             [
              0.6666666666666666,
              "#ed7953"
             ],
             [
              0.7777777777777778,
              "#fb9f3a"
             ],
             [
              0.8888888888888888,
              "#fdca26"
             ],
             [
              1,
              "#f0f921"
             ]
            ],
            "type": "heatmapgl"
           }
          ],
          "histogram": [
           {
            "marker": {
             "pattern": {
              "fillmode": "overlay",
              "size": 10,
              "solidity": 0.2
             }
            },
            "type": "histogram"
           }
          ],
          "histogram2d": [
           {
            "colorbar": {
             "outlinewidth": 0,
             "ticks": ""
            },
            "colorscale": [
             [
              0,
              "#0d0887"
             ],
             [
              0.1111111111111111,
              "#46039f"
             ],
             [
              0.2222222222222222,
              "#7201a8"
             ],
             [
              0.3333333333333333,
              "#9c179e"
             ],
             [
              0.4444444444444444,
              "#bd3786"
             ],
             [
              0.5555555555555556,
              "#d8576b"
             ],
             [
              0.6666666666666666,
              "#ed7953"
             ],
             [
              0.7777777777777778,
              "#fb9f3a"
             ],
             [
              0.8888888888888888,
              "#fdca26"
             ],
             [
              1,
              "#f0f921"
             ]
            ],
            "type": "histogram2d"
           }
          ],
          "histogram2dcontour": [
           {
            "colorbar": {
             "outlinewidth": 0,
             "ticks": ""
            },
            "colorscale": [
             [
              0,
              "#0d0887"
             ],
             [
              0.1111111111111111,
              "#46039f"
             ],
             [
              0.2222222222222222,
              "#7201a8"
             ],
             [
              0.3333333333333333,
              "#9c179e"
             ],
             [
              0.4444444444444444,
              "#bd3786"
             ],
             [
              0.5555555555555556,
              "#d8576b"
             ],
             [
              0.6666666666666666,
              "#ed7953"
             ],
             [
              0.7777777777777778,
              "#fb9f3a"
             ],
             [
              0.8888888888888888,
              "#fdca26"
             ],
             [
              1,
              "#f0f921"
             ]
            ],
            "type": "histogram2dcontour"
           }
          ],
          "mesh3d": [
           {
            "colorbar": {
             "outlinewidth": 0,
             "ticks": ""
            },
            "type": "mesh3d"
           }
          ],
          "parcoords": [
           {
            "line": {
             "colorbar": {
              "outlinewidth": 0,
              "ticks": ""
             }
            },
            "type": "parcoords"
           }
          ],
          "pie": [
           {
            "automargin": true,
            "type": "pie"
           }
          ],
          "scatter": [
           {
            "fillpattern": {
             "fillmode": "overlay",
             "size": 10,
             "solidity": 0.2
            },
            "type": "scatter"
           }
          ],
          "scatter3d": [
           {
            "line": {
             "colorbar": {
              "outlinewidth": 0,
              "ticks": ""
             }
            },
            "marker": {
             "colorbar": {
              "outlinewidth": 0,
              "ticks": ""
             }
            },
            "type": "scatter3d"
           }
          ],
          "scattercarpet": [
           {
            "marker": {
             "colorbar": {
              "outlinewidth": 0,
              "ticks": ""
             }
            },
            "type": "scattercarpet"
           }
          ],
          "scattergeo": [
           {
            "marker": {
             "colorbar": {
              "outlinewidth": 0,
              "ticks": ""
             }
            },
            "type": "scattergeo"
           }
          ],
          "scattergl": [
           {
            "marker": {
             "colorbar": {
              "outlinewidth": 0,
              "ticks": ""
             }
            },
            "type": "scattergl"
           }
          ],
          "scattermapbox": [
           {
            "marker": {
             "colorbar": {
              "outlinewidth": 0,
              "ticks": ""
             }
            },
            "type": "scattermapbox"
           }
          ],
          "scatterpolar": [
           {
            "marker": {
             "colorbar": {
              "outlinewidth": 0,
              "ticks": ""
             }
            },
            "type": "scatterpolar"
           }
          ],
          "scatterpolargl": [
           {
            "marker": {
             "colorbar": {
              "outlinewidth": 0,
              "ticks": ""
             }
            },
            "type": "scatterpolargl"
           }
          ],
          "scatterternary": [
           {
            "marker": {
             "colorbar": {
              "outlinewidth": 0,
              "ticks": ""
             }
            },
            "type": "scatterternary"
           }
          ],
          "surface": [
           {
            "colorbar": {
             "outlinewidth": 0,
             "ticks": ""
            },
            "colorscale": [
             [
              0,
              "#0d0887"
             ],
             [
              0.1111111111111111,
              "#46039f"
             ],
             [
              0.2222222222222222,
              "#7201a8"
             ],
             [
              0.3333333333333333,
              "#9c179e"
             ],
             [
              0.4444444444444444,
              "#bd3786"
             ],
             [
              0.5555555555555556,
              "#d8576b"
             ],
             [
              0.6666666666666666,
              "#ed7953"
             ],
             [
              0.7777777777777778,
              "#fb9f3a"
             ],
             [
              0.8888888888888888,
              "#fdca26"
             ],
             [
              1,
              "#f0f921"
             ]
            ],
            "type": "surface"
           }
          ],
          "table": [
           {
            "cells": {
             "fill": {
              "color": "#EBF0F8"
             },
             "line": {
              "color": "white"
             }
            },
            "header": {
             "fill": {
              "color": "#C8D4E3"
             },
             "line": {
              "color": "white"
             }
            },
            "type": "table"
           }
          ]
         },
         "layout": {
          "annotationdefaults": {
           "arrowcolor": "#2a3f5f",
           "arrowhead": 0,
           "arrowwidth": 1
          },
          "autotypenumbers": "strict",
          "coloraxis": {
           "colorbar": {
            "outlinewidth": 0,
            "ticks": ""
           }
          },
          "colorscale": {
           "diverging": [
            [
             0,
             "#8e0152"
            ],
            [
             0.1,
             "#c51b7d"
            ],
            [
             0.2,
             "#de77ae"
            ],
            [
             0.3,
             "#f1b6da"
            ],
            [
             0.4,
             "#fde0ef"
            ],
            [
             0.5,
             "#f7f7f7"
            ],
            [
             0.6,
             "#e6f5d0"
            ],
            [
             0.7,
             "#b8e186"
            ],
            [
             0.8,
             "#7fbc41"
            ],
            [
             0.9,
             "#4d9221"
            ],
            [
             1,
             "#276419"
            ]
           ],
           "sequential": [
            [
             0,
             "#0d0887"
            ],
            [
             0.1111111111111111,
             "#46039f"
            ],
            [
             0.2222222222222222,
             "#7201a8"
            ],
            [
             0.3333333333333333,
             "#9c179e"
            ],
            [
             0.4444444444444444,
             "#bd3786"
            ],
            [
             0.5555555555555556,
             "#d8576b"
            ],
            [
             0.6666666666666666,
             "#ed7953"
            ],
            [
             0.7777777777777778,
             "#fb9f3a"
            ],
            [
             0.8888888888888888,
             "#fdca26"
            ],
            [
             1,
             "#f0f921"
            ]
           ],
           "sequentialminus": [
            [
             0,
             "#0d0887"
            ],
            [
             0.1111111111111111,
             "#46039f"
            ],
            [
             0.2222222222222222,
             "#7201a8"
            ],
            [
             0.3333333333333333,
             "#9c179e"
            ],
            [
             0.4444444444444444,
             "#bd3786"
            ],
            [
             0.5555555555555556,
             "#d8576b"
            ],
            [
             0.6666666666666666,
             "#ed7953"
            ],
            [
             0.7777777777777778,
             "#fb9f3a"
            ],
            [
             0.8888888888888888,
             "#fdca26"
            ],
            [
             1,
             "#f0f921"
            ]
           ]
          },
          "colorway": [
           "#636efa",
           "#EF553B",
           "#00cc96",
           "#ab63fa",
           "#FFA15A",
           "#19d3f3",
           "#FF6692",
           "#B6E880",
           "#FF97FF",
           "#FECB52"
          ],
          "font": {
           "color": "#2a3f5f"
          },
          "geo": {
           "bgcolor": "white",
           "lakecolor": "white",
           "landcolor": "#E5ECF6",
           "showlakes": true,
           "showland": true,
           "subunitcolor": "white"
          },
          "hoverlabel": {
           "align": "left"
          },
          "hovermode": "closest",
          "mapbox": {
           "style": "light"
          },
          "paper_bgcolor": "white",
          "plot_bgcolor": "#E5ECF6",
          "polar": {
           "angularaxis": {
            "gridcolor": "white",
            "linecolor": "white",
            "ticks": ""
           },
           "bgcolor": "#E5ECF6",
           "radialaxis": {
            "gridcolor": "white",
            "linecolor": "white",
            "ticks": ""
           }
          },
          "scene": {
           "xaxis": {
            "backgroundcolor": "#E5ECF6",
            "gridcolor": "white",
            "gridwidth": 2,
            "linecolor": "white",
            "showbackground": true,
            "ticks": "",
            "zerolinecolor": "white"
           },
           "yaxis": {
            "backgroundcolor": "#E5ECF6",
            "gridcolor": "white",
            "gridwidth": 2,
            "linecolor": "white",
            "showbackground": true,
            "ticks": "",
            "zerolinecolor": "white"
           },
           "zaxis": {
            "backgroundcolor": "#E5ECF6",
            "gridcolor": "white",
            "gridwidth": 2,
            "linecolor": "white",
            "showbackground": true,
            "ticks": "",
            "zerolinecolor": "white"
           }
          },
          "shapedefaults": {
           "line": {
            "color": "#2a3f5f"
           }
          },
          "ternary": {
           "aaxis": {
            "gridcolor": "white",
            "linecolor": "white",
            "ticks": ""
           },
           "baxis": {
            "gridcolor": "white",
            "linecolor": "white",
            "ticks": ""
           },
           "bgcolor": "#E5ECF6",
           "caxis": {
            "gridcolor": "white",
            "linecolor": "white",
            "ticks": ""
           }
          },
          "title": {
           "x": 0.05
          },
          "xaxis": {
           "automargin": true,
           "gridcolor": "white",
           "linecolor": "white",
           "ticks": "",
           "title": {
            "standoff": 15
           },
           "zerolinecolor": "white",
           "zerolinewidth": 2
          },
          "yaxis": {
           "automargin": true,
           "gridcolor": "white",
           "linecolor": "white",
           "ticks": "",
           "title": {
            "standoff": 15
           },
           "zerolinecolor": "white",
           "zerolinewidth": 2
          }
         }
        },
        "title": {
         "text": "Review Distribution"
        },
        "width": 500,
        "xaxis": {
         "anchor": "y",
         "domain": [
          0,
          1
         ],
         "title": {
          "text": "firm_rev"
         }
        },
        "yaxis": {
         "anchor": "x",
         "domain": [
          0,
          1
         ],
         "title": {
          "text": "count"
         }
        }
       }
      },
      "text/html": [
       "<div>                            <div id=\"2fe3a3d1-5d2d-4b2e-979f-af394e78fd39\" class=\"plotly-graph-div\" style=\"height:525px; width:500px;\"></div>            <script type=\"text/javascript\">                require([\"plotly\"], function(Plotly) {                    window.PLOTLYENV=window.PLOTLYENV || {};                                    if (document.getElementById(\"2fe3a3d1-5d2d-4b2e-979f-af394e78fd39\")) {                    Plotly.newPlot(                        \"2fe3a3d1-5d2d-4b2e-979f-af394e78fd39\",                        [{\"alignmentgroup\":\"True\",\"bingroup\":\"x\",\"hovertemplate\":\"firm_rev=%{x}<br>count=%{y}<extra></extra>\",\"legendgroup\":\"\",\"marker\":{\"color\":\"#636efa\",\"pattern\":{\"shape\":\"\"}},\"name\":\"\",\"offsetgroup\":\"\",\"orientation\":\"v\",\"showlegend\":false,\"x\":[26,8,32,3,5,5,1,32,12,7,3,4,7,5,9,6,3,8,7,3,4,5,3,2,3,2,1,1,2,2,3,1,2,30,5,15,16,14,13,14,15,14,13,12,12,11,11,10,5,9,8,6,6,3,7,7,8,5,5,5,3,2,2,2,5,1,4,6,4,4,5,3,5,5,1,1,3,5,5,5,4,4,4,4,4,2,4,4,4,1,3,3,3,3,3,1,1,1,1,2,1,2,2,3,1,2,3,2,2,2,2,2,2,2,1,2,1,1,1,1,1,1,1,0,1,1,1,1,1,1,1,1,0,0,0,0,0,0,0,0,0,0,0,0,1,0,0,0,0,0,0,0,0,0,0,0,0,0,0,0,0,0],\"xaxis\":\"x\",\"yaxis\":\"y\",\"type\":\"histogram\"}],                        {\"template\":{\"data\":{\"histogram2dcontour\":[{\"type\":\"histogram2dcontour\",\"colorbar\":{\"outlinewidth\":0,\"ticks\":\"\"},\"colorscale\":[[0.0,\"#0d0887\"],[0.1111111111111111,\"#46039f\"],[0.2222222222222222,\"#7201a8\"],[0.3333333333333333,\"#9c179e\"],[0.4444444444444444,\"#bd3786\"],[0.5555555555555556,\"#d8576b\"],[0.6666666666666666,\"#ed7953\"],[0.7777777777777778,\"#fb9f3a\"],[0.8888888888888888,\"#fdca26\"],[1.0,\"#f0f921\"]]}],\"choropleth\":[{\"type\":\"choropleth\",\"colorbar\":{\"outlinewidth\":0,\"ticks\":\"\"}}],\"histogram2d\":[{\"type\":\"histogram2d\",\"colorbar\":{\"outlinewidth\":0,\"ticks\":\"\"},\"colorscale\":[[0.0,\"#0d0887\"],[0.1111111111111111,\"#46039f\"],[0.2222222222222222,\"#7201a8\"],[0.3333333333333333,\"#9c179e\"],[0.4444444444444444,\"#bd3786\"],[0.5555555555555556,\"#d8576b\"],[0.6666666666666666,\"#ed7953\"],[0.7777777777777778,\"#fb9f3a\"],[0.8888888888888888,\"#fdca26\"],[1.0,\"#f0f921\"]]}],\"heatmap\":[{\"type\":\"heatmap\",\"colorbar\":{\"outlinewidth\":0,\"ticks\":\"\"},\"colorscale\":[[0.0,\"#0d0887\"],[0.1111111111111111,\"#46039f\"],[0.2222222222222222,\"#7201a8\"],[0.3333333333333333,\"#9c179e\"],[0.4444444444444444,\"#bd3786\"],[0.5555555555555556,\"#d8576b\"],[0.6666666666666666,\"#ed7953\"],[0.7777777777777778,\"#fb9f3a\"],[0.8888888888888888,\"#fdca26\"],[1.0,\"#f0f921\"]]}],\"heatmapgl\":[{\"type\":\"heatmapgl\",\"colorbar\":{\"outlinewidth\":0,\"ticks\":\"\"},\"colorscale\":[[0.0,\"#0d0887\"],[0.1111111111111111,\"#46039f\"],[0.2222222222222222,\"#7201a8\"],[0.3333333333333333,\"#9c179e\"],[0.4444444444444444,\"#bd3786\"],[0.5555555555555556,\"#d8576b\"],[0.6666666666666666,\"#ed7953\"],[0.7777777777777778,\"#fb9f3a\"],[0.8888888888888888,\"#fdca26\"],[1.0,\"#f0f921\"]]}],\"contourcarpet\":[{\"type\":\"contourcarpet\",\"colorbar\":{\"outlinewidth\":0,\"ticks\":\"\"}}],\"contour\":[{\"type\":\"contour\",\"colorbar\":{\"outlinewidth\":0,\"ticks\":\"\"},\"colorscale\":[[0.0,\"#0d0887\"],[0.1111111111111111,\"#46039f\"],[0.2222222222222222,\"#7201a8\"],[0.3333333333333333,\"#9c179e\"],[0.4444444444444444,\"#bd3786\"],[0.5555555555555556,\"#d8576b\"],[0.6666666666666666,\"#ed7953\"],[0.7777777777777778,\"#fb9f3a\"],[0.8888888888888888,\"#fdca26\"],[1.0,\"#f0f921\"]]}],\"surface\":[{\"type\":\"surface\",\"colorbar\":{\"outlinewidth\":0,\"ticks\":\"\"},\"colorscale\":[[0.0,\"#0d0887\"],[0.1111111111111111,\"#46039f\"],[0.2222222222222222,\"#7201a8\"],[0.3333333333333333,\"#9c179e\"],[0.4444444444444444,\"#bd3786\"],[0.5555555555555556,\"#d8576b\"],[0.6666666666666666,\"#ed7953\"],[0.7777777777777778,\"#fb9f3a\"],[0.8888888888888888,\"#fdca26\"],[1.0,\"#f0f921\"]]}],\"mesh3d\":[{\"type\":\"mesh3d\",\"colorbar\":{\"outlinewidth\":0,\"ticks\":\"\"}}],\"scatter\":[{\"fillpattern\":{\"fillmode\":\"overlay\",\"size\":10,\"solidity\":0.2},\"type\":\"scatter\"}],\"parcoords\":[{\"type\":\"parcoords\",\"line\":{\"colorbar\":{\"outlinewidth\":0,\"ticks\":\"\"}}}],\"scatterpolargl\":[{\"type\":\"scatterpolargl\",\"marker\":{\"colorbar\":{\"outlinewidth\":0,\"ticks\":\"\"}}}],\"bar\":[{\"error_x\":{\"color\":\"#2a3f5f\"},\"error_y\":{\"color\":\"#2a3f5f\"},\"marker\":{\"line\":{\"color\":\"#E5ECF6\",\"width\":0.5},\"pattern\":{\"fillmode\":\"overlay\",\"size\":10,\"solidity\":0.2}},\"type\":\"bar\"}],\"scattergeo\":[{\"type\":\"scattergeo\",\"marker\":{\"colorbar\":{\"outlinewidth\":0,\"ticks\":\"\"}}}],\"scatterpolar\":[{\"type\":\"scatterpolar\",\"marker\":{\"colorbar\":{\"outlinewidth\":0,\"ticks\":\"\"}}}],\"histogram\":[{\"marker\":{\"pattern\":{\"fillmode\":\"overlay\",\"size\":10,\"solidity\":0.2}},\"type\":\"histogram\"}],\"scattergl\":[{\"type\":\"scattergl\",\"marker\":{\"colorbar\":{\"outlinewidth\":0,\"ticks\":\"\"}}}],\"scatter3d\":[{\"type\":\"scatter3d\",\"line\":{\"colorbar\":{\"outlinewidth\":0,\"ticks\":\"\"}},\"marker\":{\"colorbar\":{\"outlinewidth\":0,\"ticks\":\"\"}}}],\"scattermapbox\":[{\"type\":\"scattermapbox\",\"marker\":{\"colorbar\":{\"outlinewidth\":0,\"ticks\":\"\"}}}],\"scatterternary\":[{\"type\":\"scatterternary\",\"marker\":{\"colorbar\":{\"outlinewidth\":0,\"ticks\":\"\"}}}],\"scattercarpet\":[{\"type\":\"scattercarpet\",\"marker\":{\"colorbar\":{\"outlinewidth\":0,\"ticks\":\"\"}}}],\"carpet\":[{\"aaxis\":{\"endlinecolor\":\"#2a3f5f\",\"gridcolor\":\"white\",\"linecolor\":\"white\",\"minorgridcolor\":\"white\",\"startlinecolor\":\"#2a3f5f\"},\"baxis\":{\"endlinecolor\":\"#2a3f5f\",\"gridcolor\":\"white\",\"linecolor\":\"white\",\"minorgridcolor\":\"white\",\"startlinecolor\":\"#2a3f5f\"},\"type\":\"carpet\"}],\"table\":[{\"cells\":{\"fill\":{\"color\":\"#EBF0F8\"},\"line\":{\"color\":\"white\"}},\"header\":{\"fill\":{\"color\":\"#C8D4E3\"},\"line\":{\"color\":\"white\"}},\"type\":\"table\"}],\"barpolar\":[{\"marker\":{\"line\":{\"color\":\"#E5ECF6\",\"width\":0.5},\"pattern\":{\"fillmode\":\"overlay\",\"size\":10,\"solidity\":0.2}},\"type\":\"barpolar\"}],\"pie\":[{\"automargin\":true,\"type\":\"pie\"}]},\"layout\":{\"autotypenumbers\":\"strict\",\"colorway\":[\"#636efa\",\"#EF553B\",\"#00cc96\",\"#ab63fa\",\"#FFA15A\",\"#19d3f3\",\"#FF6692\",\"#B6E880\",\"#FF97FF\",\"#FECB52\"],\"font\":{\"color\":\"#2a3f5f\"},\"hovermode\":\"closest\",\"hoverlabel\":{\"align\":\"left\"},\"paper_bgcolor\":\"white\",\"plot_bgcolor\":\"#E5ECF6\",\"polar\":{\"bgcolor\":\"#E5ECF6\",\"angularaxis\":{\"gridcolor\":\"white\",\"linecolor\":\"white\",\"ticks\":\"\"},\"radialaxis\":{\"gridcolor\":\"white\",\"linecolor\":\"white\",\"ticks\":\"\"}},\"ternary\":{\"bgcolor\":\"#E5ECF6\",\"aaxis\":{\"gridcolor\":\"white\",\"linecolor\":\"white\",\"ticks\":\"\"},\"baxis\":{\"gridcolor\":\"white\",\"linecolor\":\"white\",\"ticks\":\"\"},\"caxis\":{\"gridcolor\":\"white\",\"linecolor\":\"white\",\"ticks\":\"\"}},\"coloraxis\":{\"colorbar\":{\"outlinewidth\":0,\"ticks\":\"\"}},\"colorscale\":{\"sequential\":[[0.0,\"#0d0887\"],[0.1111111111111111,\"#46039f\"],[0.2222222222222222,\"#7201a8\"],[0.3333333333333333,\"#9c179e\"],[0.4444444444444444,\"#bd3786\"],[0.5555555555555556,\"#d8576b\"],[0.6666666666666666,\"#ed7953\"],[0.7777777777777778,\"#fb9f3a\"],[0.8888888888888888,\"#fdca26\"],[1.0,\"#f0f921\"]],\"sequentialminus\":[[0.0,\"#0d0887\"],[0.1111111111111111,\"#46039f\"],[0.2222222222222222,\"#7201a8\"],[0.3333333333333333,\"#9c179e\"],[0.4444444444444444,\"#bd3786\"],[0.5555555555555556,\"#d8576b\"],[0.6666666666666666,\"#ed7953\"],[0.7777777777777778,\"#fb9f3a\"],[0.8888888888888888,\"#fdca26\"],[1.0,\"#f0f921\"]],\"diverging\":[[0,\"#8e0152\"],[0.1,\"#c51b7d\"],[0.2,\"#de77ae\"],[0.3,\"#f1b6da\"],[0.4,\"#fde0ef\"],[0.5,\"#f7f7f7\"],[0.6,\"#e6f5d0\"],[0.7,\"#b8e186\"],[0.8,\"#7fbc41\"],[0.9,\"#4d9221\"],[1,\"#276419\"]]},\"xaxis\":{\"gridcolor\":\"white\",\"linecolor\":\"white\",\"ticks\":\"\",\"title\":{\"standoff\":15},\"zerolinecolor\":\"white\",\"automargin\":true,\"zerolinewidth\":2},\"yaxis\":{\"gridcolor\":\"white\",\"linecolor\":\"white\",\"ticks\":\"\",\"title\":{\"standoff\":15},\"zerolinecolor\":\"white\",\"automargin\":true,\"zerolinewidth\":2},\"scene\":{\"xaxis\":{\"backgroundcolor\":\"#E5ECF6\",\"gridcolor\":\"white\",\"linecolor\":\"white\",\"showbackground\":true,\"ticks\":\"\",\"zerolinecolor\":\"white\",\"gridwidth\":2},\"yaxis\":{\"backgroundcolor\":\"#E5ECF6\",\"gridcolor\":\"white\",\"linecolor\":\"white\",\"showbackground\":true,\"ticks\":\"\",\"zerolinecolor\":\"white\",\"gridwidth\":2},\"zaxis\":{\"backgroundcolor\":\"#E5ECF6\",\"gridcolor\":\"white\",\"linecolor\":\"white\",\"showbackground\":true,\"ticks\":\"\",\"zerolinecolor\":\"white\",\"gridwidth\":2}},\"shapedefaults\":{\"line\":{\"color\":\"#2a3f5f\"}},\"annotationdefaults\":{\"arrowcolor\":\"#2a3f5f\",\"arrowhead\":0,\"arrowwidth\":1},\"geo\":{\"bgcolor\":\"white\",\"landcolor\":\"#E5ECF6\",\"subunitcolor\":\"white\",\"showland\":true,\"showlakes\":true,\"lakecolor\":\"white\"},\"title\":{\"x\":0.05},\"mapbox\":{\"style\":\"light\"}}},\"xaxis\":{\"anchor\":\"y\",\"domain\":[0.0,1.0],\"title\":{\"text\":\"firm_rev\"}},\"yaxis\":{\"anchor\":\"x\",\"domain\":[0.0,1.0],\"title\":{\"text\":\"count\"}},\"legend\":{\"tracegroupgap\":0},\"title\":{\"text\":\"Review Distribution\"},\"barmode\":\"relative\",\"width\":500},                        {\"responsive\": true}                    ).then(function(){\n",
       "                            \n",
       "var gd = document.getElementById('2fe3a3d1-5d2d-4b2e-979f-af394e78fd39');\n",
       "var x = new MutationObserver(function (mutations, observer) {{\n",
       "        var display = window.getComputedStyle(gd).display;\n",
       "        if (!display || display === 'none') {{\n",
       "            console.log([gd, 'removed!']);\n",
       "            Plotly.purge(gd);\n",
       "            observer.disconnect();\n",
       "        }}\n",
       "}});\n",
       "\n",
       "// Listen for the removal of the full notebook cells\n",
       "var notebookContainer = gd.closest('#notebook-container');\n",
       "if (notebookContainer) {{\n",
       "    x.observe(notebookContainer, {childList: true});\n",
       "}}\n",
       "\n",
       "// Listen for the clearing of the current output cell\n",
       "var outputEl = gd.closest('.output');\n",
       "if (outputEl) {{\n",
       "    x.observe(outputEl, {childList: true});\n",
       "}}\n",
       "\n",
       "                        })                };                });            </script>        </div>"
      ]
     },
     "metadata": {},
     "output_type": "display_data"
    }
   ],
   "source": [
    "px.histogram(all_df, 'firm_rev', width=500, title='Review Distribution')"
   ]
  },
  {
   "cell_type": "markdown",
   "metadata": {},
   "source": [
    "From the distribution above, more than 60 firms has a review between 0 -1."
   ]
  },
  {
   "cell_type": "code",
   "execution_count": 45,
   "metadata": {},
   "outputs": [
    {
     "data": {
      "application/vnd.plotly.v1+json": {
       "config": {
        "plotlyServerURL": "https://plot.ly"
       },
       "data": [
        {
         "alignmentgroup": "True",
         "hovertemplate": "variable=star_rating<br>firm_name=%{x}<br>value=%{y}<extra></extra>",
         "legendgroup": "star_rating",
         "marker": {
          "color": "#636efa",
          "pattern": {
           "shape": ""
          }
         },
         "name": "star_rating",
         "offsetgroup": "star_rating",
         "orientation": "v",
         "showlegend": true,
         "textposition": "auto",
         "type": "bar",
         "x": [
          "SoluLab",
          "S-PRO",
          "MobiDev",
          "Idealogic",
          "APPSTIRR"
         ],
         "xaxis": "x",
         "y": [
          5,
          5,
          5,
          5,
          5
         ],
         "yaxis": "y"
        },
        {
         "alignmentgroup": "True",
         "hovertemplate": "variable=firm_rev<br>firm_name=%{x}<br>value=%{y}<extra></extra>",
         "legendgroup": "firm_rev",
         "marker": {
          "color": "#EF553B",
          "pattern": {
           "shape": ""
          }
         },
         "name": "firm_rev",
         "offsetgroup": "firm_rev",
         "orientation": "v",
         "showlegend": true,
         "textposition": "auto",
         "type": "bar",
         "x": [
          "SoluLab",
          "S-PRO",
          "MobiDev",
          "Idealogic",
          "APPSTIRR"
         ],
         "xaxis": "x",
         "y": [
          32,
          30,
          16,
          14,
          14
         ],
         "yaxis": "y"
        }
       ],
       "layout": {
        "barmode": "relative",
        "legend": {
         "title": {
          "text": "variable"
         },
         "tracegroupgap": 0
        },
        "template": {
         "data": {
          "bar": [
           {
            "error_x": {
             "color": "#2a3f5f"
            },
            "error_y": {
             "color": "#2a3f5f"
            },
            "marker": {
             "line": {
              "color": "#E5ECF6",
              "width": 0.5
             },
             "pattern": {
              "fillmode": "overlay",
              "size": 10,
              "solidity": 0.2
             }
            },
            "type": "bar"
           }
          ],
          "barpolar": [
           {
            "marker": {
             "line": {
              "color": "#E5ECF6",
              "width": 0.5
             },
             "pattern": {
              "fillmode": "overlay",
              "size": 10,
              "solidity": 0.2
             }
            },
            "type": "barpolar"
           }
          ],
          "carpet": [
           {
            "aaxis": {
             "endlinecolor": "#2a3f5f",
             "gridcolor": "white",
             "linecolor": "white",
             "minorgridcolor": "white",
             "startlinecolor": "#2a3f5f"
            },
            "baxis": {
             "endlinecolor": "#2a3f5f",
             "gridcolor": "white",
             "linecolor": "white",
             "minorgridcolor": "white",
             "startlinecolor": "#2a3f5f"
            },
            "type": "carpet"
           }
          ],
          "choropleth": [
           {
            "colorbar": {
             "outlinewidth": 0,
             "ticks": ""
            },
            "type": "choropleth"
           }
          ],
          "contour": [
           {
            "colorbar": {
             "outlinewidth": 0,
             "ticks": ""
            },
            "colorscale": [
             [
              0,
              "#0d0887"
             ],
             [
              0.1111111111111111,
              "#46039f"
             ],
             [
              0.2222222222222222,
              "#7201a8"
             ],
             [
              0.3333333333333333,
              "#9c179e"
             ],
             [
              0.4444444444444444,
              "#bd3786"
             ],
             [
              0.5555555555555556,
              "#d8576b"
             ],
             [
              0.6666666666666666,
              "#ed7953"
             ],
             [
              0.7777777777777778,
              "#fb9f3a"
             ],
             [
              0.8888888888888888,
              "#fdca26"
             ],
             [
              1,
              "#f0f921"
             ]
            ],
            "type": "contour"
           }
          ],
          "contourcarpet": [
           {
            "colorbar": {
             "outlinewidth": 0,
             "ticks": ""
            },
            "type": "contourcarpet"
           }
          ],
          "heatmap": [
           {
            "colorbar": {
             "outlinewidth": 0,
             "ticks": ""
            },
            "colorscale": [
             [
              0,
              "#0d0887"
             ],
             [
              0.1111111111111111,
              "#46039f"
             ],
             [
              0.2222222222222222,
              "#7201a8"
             ],
             [
              0.3333333333333333,
              "#9c179e"
             ],
             [
              0.4444444444444444,
              "#bd3786"
             ],
             [
              0.5555555555555556,
              "#d8576b"
             ],
             [
              0.6666666666666666,
              "#ed7953"
             ],
             [
              0.7777777777777778,
              "#fb9f3a"
             ],
             [
              0.8888888888888888,
              "#fdca26"
             ],
             [
              1,
              "#f0f921"
             ]
            ],
            "type": "heatmap"
           }
          ],
          "heatmapgl": [
           {
            "colorbar": {
             "outlinewidth": 0,
             "ticks": ""
            },
            "colorscale": [
             [
              0,
              "#0d0887"
             ],
             [
              0.1111111111111111,
              "#46039f"
             ],
             [
              0.2222222222222222,
              "#7201a8"
             ],
             [
              0.3333333333333333,
              "#9c179e"
             ],
             [
              0.4444444444444444,
              "#bd3786"
             ],
             [
              0.5555555555555556,
              "#d8576b"
             ],
             [
              0.6666666666666666,
              "#ed7953"
             ],
             [
              0.7777777777777778,
              "#fb9f3a"
             ],
             [
              0.8888888888888888,
              "#fdca26"
             ],
             [
              1,
              "#f0f921"
             ]
            ],
            "type": "heatmapgl"
           }
          ],
          "histogram": [
           {
            "marker": {
             "pattern": {
              "fillmode": "overlay",
              "size": 10,
              "solidity": 0.2
             }
            },
            "type": "histogram"
           }
          ],
          "histogram2d": [
           {
            "colorbar": {
             "outlinewidth": 0,
             "ticks": ""
            },
            "colorscale": [
             [
              0,
              "#0d0887"
             ],
             [
              0.1111111111111111,
              "#46039f"
             ],
             [
              0.2222222222222222,
              "#7201a8"
             ],
             [
              0.3333333333333333,
              "#9c179e"
             ],
             [
              0.4444444444444444,
              "#bd3786"
             ],
             [
              0.5555555555555556,
              "#d8576b"
             ],
             [
              0.6666666666666666,
              "#ed7953"
             ],
             [
              0.7777777777777778,
              "#fb9f3a"
             ],
             [
              0.8888888888888888,
              "#fdca26"
             ],
             [
              1,
              "#f0f921"
             ]
            ],
            "type": "histogram2d"
           }
          ],
          "histogram2dcontour": [
           {
            "colorbar": {
             "outlinewidth": 0,
             "ticks": ""
            },
            "colorscale": [
             [
              0,
              "#0d0887"
             ],
             [
              0.1111111111111111,
              "#46039f"
             ],
             [
              0.2222222222222222,
              "#7201a8"
             ],
             [
              0.3333333333333333,
              "#9c179e"
             ],
             [
              0.4444444444444444,
              "#bd3786"
             ],
             [
              0.5555555555555556,
              "#d8576b"
             ],
             [
              0.6666666666666666,
              "#ed7953"
             ],
             [
              0.7777777777777778,
              "#fb9f3a"
             ],
             [
              0.8888888888888888,
              "#fdca26"
             ],
             [
              1,
              "#f0f921"
             ]
            ],
            "type": "histogram2dcontour"
           }
          ],
          "mesh3d": [
           {
            "colorbar": {
             "outlinewidth": 0,
             "ticks": ""
            },
            "type": "mesh3d"
           }
          ],
          "parcoords": [
           {
            "line": {
             "colorbar": {
              "outlinewidth": 0,
              "ticks": ""
             }
            },
            "type": "parcoords"
           }
          ],
          "pie": [
           {
            "automargin": true,
            "type": "pie"
           }
          ],
          "scatter": [
           {
            "fillpattern": {
             "fillmode": "overlay",
             "size": 10,
             "solidity": 0.2
            },
            "type": "scatter"
           }
          ],
          "scatter3d": [
           {
            "line": {
             "colorbar": {
              "outlinewidth": 0,
              "ticks": ""
             }
            },
            "marker": {
             "colorbar": {
              "outlinewidth": 0,
              "ticks": ""
             }
            },
            "type": "scatter3d"
           }
          ],
          "scattercarpet": [
           {
            "marker": {
             "colorbar": {
              "outlinewidth": 0,
              "ticks": ""
             }
            },
            "type": "scattercarpet"
           }
          ],
          "scattergeo": [
           {
            "marker": {
             "colorbar": {
              "outlinewidth": 0,
              "ticks": ""
             }
            },
            "type": "scattergeo"
           }
          ],
          "scattergl": [
           {
            "marker": {
             "colorbar": {
              "outlinewidth": 0,
              "ticks": ""
             }
            },
            "type": "scattergl"
           }
          ],
          "scattermapbox": [
           {
            "marker": {
             "colorbar": {
              "outlinewidth": 0,
              "ticks": ""
             }
            },
            "type": "scattermapbox"
           }
          ],
          "scatterpolar": [
           {
            "marker": {
             "colorbar": {
              "outlinewidth": 0,
              "ticks": ""
             }
            },
            "type": "scatterpolar"
           }
          ],
          "scatterpolargl": [
           {
            "marker": {
             "colorbar": {
              "outlinewidth": 0,
              "ticks": ""
             }
            },
            "type": "scatterpolargl"
           }
          ],
          "scatterternary": [
           {
            "marker": {
             "colorbar": {
              "outlinewidth": 0,
              "ticks": ""
             }
            },
            "type": "scatterternary"
           }
          ],
          "surface": [
           {
            "colorbar": {
             "outlinewidth": 0,
             "ticks": ""
            },
            "colorscale": [
             [
              0,
              "#0d0887"
             ],
             [
              0.1111111111111111,
              "#46039f"
             ],
             [
              0.2222222222222222,
              "#7201a8"
             ],
             [
              0.3333333333333333,
              "#9c179e"
             ],
             [
              0.4444444444444444,
              "#bd3786"
             ],
             [
              0.5555555555555556,
              "#d8576b"
             ],
             [
              0.6666666666666666,
              "#ed7953"
             ],
             [
              0.7777777777777778,
              "#fb9f3a"
             ],
             [
              0.8888888888888888,
              "#fdca26"
             ],
             [
              1,
              "#f0f921"
             ]
            ],
            "type": "surface"
           }
          ],
          "table": [
           {
            "cells": {
             "fill": {
              "color": "#EBF0F8"
             },
             "line": {
              "color": "white"
             }
            },
            "header": {
             "fill": {
              "color": "#C8D4E3"
             },
             "line": {
              "color": "white"
             }
            },
            "type": "table"
           }
          ]
         },
         "layout": {
          "annotationdefaults": {
           "arrowcolor": "#2a3f5f",
           "arrowhead": 0,
           "arrowwidth": 1
          },
          "autotypenumbers": "strict",
          "coloraxis": {
           "colorbar": {
            "outlinewidth": 0,
            "ticks": ""
           }
          },
          "colorscale": {
           "diverging": [
            [
             0,
             "#8e0152"
            ],
            [
             0.1,
             "#c51b7d"
            ],
            [
             0.2,
             "#de77ae"
            ],
            [
             0.3,
             "#f1b6da"
            ],
            [
             0.4,
             "#fde0ef"
            ],
            [
             0.5,
             "#f7f7f7"
            ],
            [
             0.6,
             "#e6f5d0"
            ],
            [
             0.7,
             "#b8e186"
            ],
            [
             0.8,
             "#7fbc41"
            ],
            [
             0.9,
             "#4d9221"
            ],
            [
             1,
             "#276419"
            ]
           ],
           "sequential": [
            [
             0,
             "#0d0887"
            ],
            [
             0.1111111111111111,
             "#46039f"
            ],
            [
             0.2222222222222222,
             "#7201a8"
            ],
            [
             0.3333333333333333,
             "#9c179e"
            ],
            [
             0.4444444444444444,
             "#bd3786"
            ],
            [
             0.5555555555555556,
             "#d8576b"
            ],
            [
             0.6666666666666666,
             "#ed7953"
            ],
            [
             0.7777777777777778,
             "#fb9f3a"
            ],
            [
             0.8888888888888888,
             "#fdca26"
            ],
            [
             1,
             "#f0f921"
            ]
           ],
           "sequentialminus": [
            [
             0,
             "#0d0887"
            ],
            [
             0.1111111111111111,
             "#46039f"
            ],
            [
             0.2222222222222222,
             "#7201a8"
            ],
            [
             0.3333333333333333,
             "#9c179e"
            ],
            [
             0.4444444444444444,
             "#bd3786"
            ],
            [
             0.5555555555555556,
             "#d8576b"
            ],
            [
             0.6666666666666666,
             "#ed7953"
            ],
            [
             0.7777777777777778,
             "#fb9f3a"
            ],
            [
             0.8888888888888888,
             "#fdca26"
            ],
            [
             1,
             "#f0f921"
            ]
           ]
          },
          "colorway": [
           "#636efa",
           "#EF553B",
           "#00cc96",
           "#ab63fa",
           "#FFA15A",
           "#19d3f3",
           "#FF6692",
           "#B6E880",
           "#FF97FF",
           "#FECB52"
          ],
          "font": {
           "color": "#2a3f5f"
          },
          "geo": {
           "bgcolor": "white",
           "lakecolor": "white",
           "landcolor": "#E5ECF6",
           "showlakes": true,
           "showland": true,
           "subunitcolor": "white"
          },
          "hoverlabel": {
           "align": "left"
          },
          "hovermode": "closest",
          "mapbox": {
           "style": "light"
          },
          "paper_bgcolor": "white",
          "plot_bgcolor": "#E5ECF6",
          "polar": {
           "angularaxis": {
            "gridcolor": "white",
            "linecolor": "white",
            "ticks": ""
           },
           "bgcolor": "#E5ECF6",
           "radialaxis": {
            "gridcolor": "white",
            "linecolor": "white",
            "ticks": ""
           }
          },
          "scene": {
           "xaxis": {
            "backgroundcolor": "#E5ECF6",
            "gridcolor": "white",
            "gridwidth": 2,
            "linecolor": "white",
            "showbackground": true,
            "ticks": "",
            "zerolinecolor": "white"
           },
           "yaxis": {
            "backgroundcolor": "#E5ECF6",
            "gridcolor": "white",
            "gridwidth": 2,
            "linecolor": "white",
            "showbackground": true,
            "ticks": "",
            "zerolinecolor": "white"
           },
           "zaxis": {
            "backgroundcolor": "#E5ECF6",
            "gridcolor": "white",
            "gridwidth": 2,
            "linecolor": "white",
            "showbackground": true,
            "ticks": "",
            "zerolinecolor": "white"
           }
          },
          "shapedefaults": {
           "line": {
            "color": "#2a3f5f"
           }
          },
          "ternary": {
           "aaxis": {
            "gridcolor": "white",
            "linecolor": "white",
            "ticks": ""
           },
           "baxis": {
            "gridcolor": "white",
            "linecolor": "white",
            "ticks": ""
           },
           "bgcolor": "#E5ECF6",
           "caxis": {
            "gridcolor": "white",
            "linecolor": "white",
            "ticks": ""
           }
          },
          "title": {
           "x": 0.05
          },
          "xaxis": {
           "automargin": true,
           "gridcolor": "white",
           "linecolor": "white",
           "ticks": "",
           "title": {
            "standoff": 15
           },
           "zerolinecolor": "white",
           "zerolinewidth": 2
          },
          "yaxis": {
           "automargin": true,
           "gridcolor": "white",
           "linecolor": "white",
           "ticks": "",
           "title": {
            "standoff": 15
           },
           "zerolinecolor": "white",
           "zerolinewidth": 2
          }
         }
        },
        "title": {
         "text": "Top 5 Firms based on star rating and reviews"
        },
        "width": 700,
        "xaxis": {
         "anchor": "y",
         "domain": [
          0,
          1
         ],
         "title": {
          "text": "firm_name"
         }
        },
        "yaxis": {
         "anchor": "x",
         "domain": [
          0,
          1
         ],
         "title": {
          "text": "value"
         }
        }
       }
      },
      "text/html": [
       "<div>                            <div id=\"89317416-5d0c-40fe-9be9-5e82c19a0db2\" class=\"plotly-graph-div\" style=\"height:525px; width:700px;\"></div>            <script type=\"text/javascript\">                require([\"plotly\"], function(Plotly) {                    window.PLOTLYENV=window.PLOTLYENV || {};                                    if (document.getElementById(\"89317416-5d0c-40fe-9be9-5e82c19a0db2\")) {                    Plotly.newPlot(                        \"89317416-5d0c-40fe-9be9-5e82c19a0db2\",                        [{\"alignmentgroup\":\"True\",\"hovertemplate\":\"variable=star_rating<br>firm_name=%{x}<br>value=%{y}<extra></extra>\",\"legendgroup\":\"star_rating\",\"marker\":{\"color\":\"#636efa\",\"pattern\":{\"shape\":\"\"}},\"name\":\"star_rating\",\"offsetgroup\":\"star_rating\",\"orientation\":\"v\",\"showlegend\":true,\"textposition\":\"auto\",\"x\":[\"SoluLab\",\"S-PRO\",\"MobiDev\",\"Idealogic\",\"APPSTIRR\"],\"xaxis\":\"x\",\"y\":[5.0,5.0,5.0,5.0,5.0],\"yaxis\":\"y\",\"type\":\"bar\"},{\"alignmentgroup\":\"True\",\"hovertemplate\":\"variable=firm_rev<br>firm_name=%{x}<br>value=%{y}<extra></extra>\",\"legendgroup\":\"firm_rev\",\"marker\":{\"color\":\"#EF553B\",\"pattern\":{\"shape\":\"\"}},\"name\":\"firm_rev\",\"offsetgroup\":\"firm_rev\",\"orientation\":\"v\",\"showlegend\":true,\"textposition\":\"auto\",\"x\":[\"SoluLab\",\"S-PRO\",\"MobiDev\",\"Idealogic\",\"APPSTIRR\"],\"xaxis\":\"x\",\"y\":[32.0,30.0,16.0,14.0,14.0],\"yaxis\":\"y\",\"type\":\"bar\"}],                        {\"template\":{\"data\":{\"histogram2dcontour\":[{\"type\":\"histogram2dcontour\",\"colorbar\":{\"outlinewidth\":0,\"ticks\":\"\"},\"colorscale\":[[0.0,\"#0d0887\"],[0.1111111111111111,\"#46039f\"],[0.2222222222222222,\"#7201a8\"],[0.3333333333333333,\"#9c179e\"],[0.4444444444444444,\"#bd3786\"],[0.5555555555555556,\"#d8576b\"],[0.6666666666666666,\"#ed7953\"],[0.7777777777777778,\"#fb9f3a\"],[0.8888888888888888,\"#fdca26\"],[1.0,\"#f0f921\"]]}],\"choropleth\":[{\"type\":\"choropleth\",\"colorbar\":{\"outlinewidth\":0,\"ticks\":\"\"}}],\"histogram2d\":[{\"type\":\"histogram2d\",\"colorbar\":{\"outlinewidth\":0,\"ticks\":\"\"},\"colorscale\":[[0.0,\"#0d0887\"],[0.1111111111111111,\"#46039f\"],[0.2222222222222222,\"#7201a8\"],[0.3333333333333333,\"#9c179e\"],[0.4444444444444444,\"#bd3786\"],[0.5555555555555556,\"#d8576b\"],[0.6666666666666666,\"#ed7953\"],[0.7777777777777778,\"#fb9f3a\"],[0.8888888888888888,\"#fdca26\"],[1.0,\"#f0f921\"]]}],\"heatmap\":[{\"type\":\"heatmap\",\"colorbar\":{\"outlinewidth\":0,\"ticks\":\"\"},\"colorscale\":[[0.0,\"#0d0887\"],[0.1111111111111111,\"#46039f\"],[0.2222222222222222,\"#7201a8\"],[0.3333333333333333,\"#9c179e\"],[0.4444444444444444,\"#bd3786\"],[0.5555555555555556,\"#d8576b\"],[0.6666666666666666,\"#ed7953\"],[0.7777777777777778,\"#fb9f3a\"],[0.8888888888888888,\"#fdca26\"],[1.0,\"#f0f921\"]]}],\"heatmapgl\":[{\"type\":\"heatmapgl\",\"colorbar\":{\"outlinewidth\":0,\"ticks\":\"\"},\"colorscale\":[[0.0,\"#0d0887\"],[0.1111111111111111,\"#46039f\"],[0.2222222222222222,\"#7201a8\"],[0.3333333333333333,\"#9c179e\"],[0.4444444444444444,\"#bd3786\"],[0.5555555555555556,\"#d8576b\"],[0.6666666666666666,\"#ed7953\"],[0.7777777777777778,\"#fb9f3a\"],[0.8888888888888888,\"#fdca26\"],[1.0,\"#f0f921\"]]}],\"contourcarpet\":[{\"type\":\"contourcarpet\",\"colorbar\":{\"outlinewidth\":0,\"ticks\":\"\"}}],\"contour\":[{\"type\":\"contour\",\"colorbar\":{\"outlinewidth\":0,\"ticks\":\"\"},\"colorscale\":[[0.0,\"#0d0887\"],[0.1111111111111111,\"#46039f\"],[0.2222222222222222,\"#7201a8\"],[0.3333333333333333,\"#9c179e\"],[0.4444444444444444,\"#bd3786\"],[0.5555555555555556,\"#d8576b\"],[0.6666666666666666,\"#ed7953\"],[0.7777777777777778,\"#fb9f3a\"],[0.8888888888888888,\"#fdca26\"],[1.0,\"#f0f921\"]]}],\"surface\":[{\"type\":\"surface\",\"colorbar\":{\"outlinewidth\":0,\"ticks\":\"\"},\"colorscale\":[[0.0,\"#0d0887\"],[0.1111111111111111,\"#46039f\"],[0.2222222222222222,\"#7201a8\"],[0.3333333333333333,\"#9c179e\"],[0.4444444444444444,\"#bd3786\"],[0.5555555555555556,\"#d8576b\"],[0.6666666666666666,\"#ed7953\"],[0.7777777777777778,\"#fb9f3a\"],[0.8888888888888888,\"#fdca26\"],[1.0,\"#f0f921\"]]}],\"mesh3d\":[{\"type\":\"mesh3d\",\"colorbar\":{\"outlinewidth\":0,\"ticks\":\"\"}}],\"scatter\":[{\"fillpattern\":{\"fillmode\":\"overlay\",\"size\":10,\"solidity\":0.2},\"type\":\"scatter\"}],\"parcoords\":[{\"type\":\"parcoords\",\"line\":{\"colorbar\":{\"outlinewidth\":0,\"ticks\":\"\"}}}],\"scatterpolargl\":[{\"type\":\"scatterpolargl\",\"marker\":{\"colorbar\":{\"outlinewidth\":0,\"ticks\":\"\"}}}],\"bar\":[{\"error_x\":{\"color\":\"#2a3f5f\"},\"error_y\":{\"color\":\"#2a3f5f\"},\"marker\":{\"line\":{\"color\":\"#E5ECF6\",\"width\":0.5},\"pattern\":{\"fillmode\":\"overlay\",\"size\":10,\"solidity\":0.2}},\"type\":\"bar\"}],\"scattergeo\":[{\"type\":\"scattergeo\",\"marker\":{\"colorbar\":{\"outlinewidth\":0,\"ticks\":\"\"}}}],\"scatterpolar\":[{\"type\":\"scatterpolar\",\"marker\":{\"colorbar\":{\"outlinewidth\":0,\"ticks\":\"\"}}}],\"histogram\":[{\"marker\":{\"pattern\":{\"fillmode\":\"overlay\",\"size\":10,\"solidity\":0.2}},\"type\":\"histogram\"}],\"scattergl\":[{\"type\":\"scattergl\",\"marker\":{\"colorbar\":{\"outlinewidth\":0,\"ticks\":\"\"}}}],\"scatter3d\":[{\"type\":\"scatter3d\",\"line\":{\"colorbar\":{\"outlinewidth\":0,\"ticks\":\"\"}},\"marker\":{\"colorbar\":{\"outlinewidth\":0,\"ticks\":\"\"}}}],\"scattermapbox\":[{\"type\":\"scattermapbox\",\"marker\":{\"colorbar\":{\"outlinewidth\":0,\"ticks\":\"\"}}}],\"scatterternary\":[{\"type\":\"scatterternary\",\"marker\":{\"colorbar\":{\"outlinewidth\":0,\"ticks\":\"\"}}}],\"scattercarpet\":[{\"type\":\"scattercarpet\",\"marker\":{\"colorbar\":{\"outlinewidth\":0,\"ticks\":\"\"}}}],\"carpet\":[{\"aaxis\":{\"endlinecolor\":\"#2a3f5f\",\"gridcolor\":\"white\",\"linecolor\":\"white\",\"minorgridcolor\":\"white\",\"startlinecolor\":\"#2a3f5f\"},\"baxis\":{\"endlinecolor\":\"#2a3f5f\",\"gridcolor\":\"white\",\"linecolor\":\"white\",\"minorgridcolor\":\"white\",\"startlinecolor\":\"#2a3f5f\"},\"type\":\"carpet\"}],\"table\":[{\"cells\":{\"fill\":{\"color\":\"#EBF0F8\"},\"line\":{\"color\":\"white\"}},\"header\":{\"fill\":{\"color\":\"#C8D4E3\"},\"line\":{\"color\":\"white\"}},\"type\":\"table\"}],\"barpolar\":[{\"marker\":{\"line\":{\"color\":\"#E5ECF6\",\"width\":0.5},\"pattern\":{\"fillmode\":\"overlay\",\"size\":10,\"solidity\":0.2}},\"type\":\"barpolar\"}],\"pie\":[{\"automargin\":true,\"type\":\"pie\"}]},\"layout\":{\"autotypenumbers\":\"strict\",\"colorway\":[\"#636efa\",\"#EF553B\",\"#00cc96\",\"#ab63fa\",\"#FFA15A\",\"#19d3f3\",\"#FF6692\",\"#B6E880\",\"#FF97FF\",\"#FECB52\"],\"font\":{\"color\":\"#2a3f5f\"},\"hovermode\":\"closest\",\"hoverlabel\":{\"align\":\"left\"},\"paper_bgcolor\":\"white\",\"plot_bgcolor\":\"#E5ECF6\",\"polar\":{\"bgcolor\":\"#E5ECF6\",\"angularaxis\":{\"gridcolor\":\"white\",\"linecolor\":\"white\",\"ticks\":\"\"},\"radialaxis\":{\"gridcolor\":\"white\",\"linecolor\":\"white\",\"ticks\":\"\"}},\"ternary\":{\"bgcolor\":\"#E5ECF6\",\"aaxis\":{\"gridcolor\":\"white\",\"linecolor\":\"white\",\"ticks\":\"\"},\"baxis\":{\"gridcolor\":\"white\",\"linecolor\":\"white\",\"ticks\":\"\"},\"caxis\":{\"gridcolor\":\"white\",\"linecolor\":\"white\",\"ticks\":\"\"}},\"coloraxis\":{\"colorbar\":{\"outlinewidth\":0,\"ticks\":\"\"}},\"colorscale\":{\"sequential\":[[0.0,\"#0d0887\"],[0.1111111111111111,\"#46039f\"],[0.2222222222222222,\"#7201a8\"],[0.3333333333333333,\"#9c179e\"],[0.4444444444444444,\"#bd3786\"],[0.5555555555555556,\"#d8576b\"],[0.6666666666666666,\"#ed7953\"],[0.7777777777777778,\"#fb9f3a\"],[0.8888888888888888,\"#fdca26\"],[1.0,\"#f0f921\"]],\"sequentialminus\":[[0.0,\"#0d0887\"],[0.1111111111111111,\"#46039f\"],[0.2222222222222222,\"#7201a8\"],[0.3333333333333333,\"#9c179e\"],[0.4444444444444444,\"#bd3786\"],[0.5555555555555556,\"#d8576b\"],[0.6666666666666666,\"#ed7953\"],[0.7777777777777778,\"#fb9f3a\"],[0.8888888888888888,\"#fdca26\"],[1.0,\"#f0f921\"]],\"diverging\":[[0,\"#8e0152\"],[0.1,\"#c51b7d\"],[0.2,\"#de77ae\"],[0.3,\"#f1b6da\"],[0.4,\"#fde0ef\"],[0.5,\"#f7f7f7\"],[0.6,\"#e6f5d0\"],[0.7,\"#b8e186\"],[0.8,\"#7fbc41\"],[0.9,\"#4d9221\"],[1,\"#276419\"]]},\"xaxis\":{\"gridcolor\":\"white\",\"linecolor\":\"white\",\"ticks\":\"\",\"title\":{\"standoff\":15},\"zerolinecolor\":\"white\",\"automargin\":true,\"zerolinewidth\":2},\"yaxis\":{\"gridcolor\":\"white\",\"linecolor\":\"white\",\"ticks\":\"\",\"title\":{\"standoff\":15},\"zerolinecolor\":\"white\",\"automargin\":true,\"zerolinewidth\":2},\"scene\":{\"xaxis\":{\"backgroundcolor\":\"#E5ECF6\",\"gridcolor\":\"white\",\"linecolor\":\"white\",\"showbackground\":true,\"ticks\":\"\",\"zerolinecolor\":\"white\",\"gridwidth\":2},\"yaxis\":{\"backgroundcolor\":\"#E5ECF6\",\"gridcolor\":\"white\",\"linecolor\":\"white\",\"showbackground\":true,\"ticks\":\"\",\"zerolinecolor\":\"white\",\"gridwidth\":2},\"zaxis\":{\"backgroundcolor\":\"#E5ECF6\",\"gridcolor\":\"white\",\"linecolor\":\"white\",\"showbackground\":true,\"ticks\":\"\",\"zerolinecolor\":\"white\",\"gridwidth\":2}},\"shapedefaults\":{\"line\":{\"color\":\"#2a3f5f\"}},\"annotationdefaults\":{\"arrowcolor\":\"#2a3f5f\",\"arrowhead\":0,\"arrowwidth\":1},\"geo\":{\"bgcolor\":\"white\",\"landcolor\":\"#E5ECF6\",\"subunitcolor\":\"white\",\"showland\":true,\"showlakes\":true,\"lakecolor\":\"white\"},\"title\":{\"x\":0.05},\"mapbox\":{\"style\":\"light\"}}},\"xaxis\":{\"anchor\":\"y\",\"domain\":[0.0,1.0],\"title\":{\"text\":\"firm_name\"}},\"yaxis\":{\"anchor\":\"x\",\"domain\":[0.0,1.0],\"title\":{\"text\":\"value\"}},\"legend\":{\"title\":{\"text\":\"variable\"},\"tracegroupgap\":0},\"title\":{\"text\":\"Top 5 Firms based on star rating and reviews\"},\"barmode\":\"relative\",\"width\":700},                        {\"responsive\": true}                    ).then(function(){\n",
       "                            \n",
       "var gd = document.getElementById('89317416-5d0c-40fe-9be9-5e82c19a0db2');\n",
       "var x = new MutationObserver(function (mutations, observer) {{\n",
       "        var display = window.getComputedStyle(gd).display;\n",
       "        if (!display || display === 'none') {{\n",
       "            console.log([gd, 'removed!']);\n",
       "            Plotly.purge(gd);\n",
       "            observer.disconnect();\n",
       "        }}\n",
       "}});\n",
       "\n",
       "// Listen for the removal of the full notebook cells\n",
       "var notebookContainer = gd.closest('#notebook-container');\n",
       "if (notebookContainer) {{\n",
       "    x.observe(notebookContainer, {childList: true});\n",
       "}}\n",
       "\n",
       "// Listen for the clearing of the current output cell\n",
       "var outputEl = gd.closest('.output');\n",
       "if (outputEl) {{\n",
       "    x.observe(outputEl, {childList: true});\n",
       "}}\n",
       "\n",
       "                        })                };                });            </script>        </div>"
      ]
     },
     "metadata": {},
     "output_type": "display_data"
    }
   ],
   "source": [
    "top5_str_rev = all_df.sort_values(by=['star_rating', 'firm_rev'], ascending=False)[:5]\n",
    "px.bar(top5_str_rev, 'firm_name', ['star_rating', 'firm_rev'], width=700, title='Top 5 Firms based on star rating and reviews')"
   ]
  },
  {
   "cell_type": "code",
   "execution_count": 46,
   "metadata": {},
   "outputs": [
    {
     "data": {
      "application/vnd.plotly.v1+json": {
       "config": {
        "plotlyServerURL": "https://plot.ly"
       },
       "data": [
        {
         "alignmentgroup": "True",
         "hovertemplate": "firm_name=%{x}<br>service_pct(%)=%{y}<extra></extra>",
         "legendgroup": "",
         "marker": {
          "color": "#636efa",
          "pattern": {
           "shape": ""
          }
         },
         "name": "",
         "offsetgroup": "",
         "orientation": "v",
         "showlegend": false,
         "textposition": "auto",
         "type": "bar",
         "x": [
          "Datapine",
          "SetuServ",
          "DIGIS",
          "47Billion",
          "Dataforest"
         ],
         "xaxis": "x",
         "y": [
          90,
          50,
          50,
          40,
          30
         ],
         "yaxis": "y"
        }
       ],
       "layout": {
        "barmode": "relative",
        "legend": {
         "tracegroupgap": 0
        },
        "template": {
         "data": {
          "bar": [
           {
            "error_x": {
             "color": "#2a3f5f"
            },
            "error_y": {
             "color": "#2a3f5f"
            },
            "marker": {
             "line": {
              "color": "#E5ECF6",
              "width": 0.5
             },
             "pattern": {
              "fillmode": "overlay",
              "size": 10,
              "solidity": 0.2
             }
            },
            "type": "bar"
           }
          ],
          "barpolar": [
           {
            "marker": {
             "line": {
              "color": "#E5ECF6",
              "width": 0.5
             },
             "pattern": {
              "fillmode": "overlay",
              "size": 10,
              "solidity": 0.2
             }
            },
            "type": "barpolar"
           }
          ],
          "carpet": [
           {
            "aaxis": {
             "endlinecolor": "#2a3f5f",
             "gridcolor": "white",
             "linecolor": "white",
             "minorgridcolor": "white",
             "startlinecolor": "#2a3f5f"
            },
            "baxis": {
             "endlinecolor": "#2a3f5f",
             "gridcolor": "white",
             "linecolor": "white",
             "minorgridcolor": "white",
             "startlinecolor": "#2a3f5f"
            },
            "type": "carpet"
           }
          ],
          "choropleth": [
           {
            "colorbar": {
             "outlinewidth": 0,
             "ticks": ""
            },
            "type": "choropleth"
           }
          ],
          "contour": [
           {
            "colorbar": {
             "outlinewidth": 0,
             "ticks": ""
            },
            "colorscale": [
             [
              0,
              "#0d0887"
             ],
             [
              0.1111111111111111,
              "#46039f"
             ],
             [
              0.2222222222222222,
              "#7201a8"
             ],
             [
              0.3333333333333333,
              "#9c179e"
             ],
             [
              0.4444444444444444,
              "#bd3786"
             ],
             [
              0.5555555555555556,
              "#d8576b"
             ],
             [
              0.6666666666666666,
              "#ed7953"
             ],
             [
              0.7777777777777778,
              "#fb9f3a"
             ],
             [
              0.8888888888888888,
              "#fdca26"
             ],
             [
              1,
              "#f0f921"
             ]
            ],
            "type": "contour"
           }
          ],
          "contourcarpet": [
           {
            "colorbar": {
             "outlinewidth": 0,
             "ticks": ""
            },
            "type": "contourcarpet"
           }
          ],
          "heatmap": [
           {
            "colorbar": {
             "outlinewidth": 0,
             "ticks": ""
            },
            "colorscale": [
             [
              0,
              "#0d0887"
             ],
             [
              0.1111111111111111,
              "#46039f"
             ],
             [
              0.2222222222222222,
              "#7201a8"
             ],
             [
              0.3333333333333333,
              "#9c179e"
             ],
             [
              0.4444444444444444,
              "#bd3786"
             ],
             [
              0.5555555555555556,
              "#d8576b"
             ],
             [
              0.6666666666666666,
              "#ed7953"
             ],
             [
              0.7777777777777778,
              "#fb9f3a"
             ],
             [
              0.8888888888888888,
              "#fdca26"
             ],
             [
              1,
              "#f0f921"
             ]
            ],
            "type": "heatmap"
           }
          ],
          "heatmapgl": [
           {
            "colorbar": {
             "outlinewidth": 0,
             "ticks": ""
            },
            "colorscale": [
             [
              0,
              "#0d0887"
             ],
             [
              0.1111111111111111,
              "#46039f"
             ],
             [
              0.2222222222222222,
              "#7201a8"
             ],
             [
              0.3333333333333333,
              "#9c179e"
             ],
             [
              0.4444444444444444,
              "#bd3786"
             ],
             [
              0.5555555555555556,
              "#d8576b"
             ],
             [
              0.6666666666666666,
              "#ed7953"
             ],
             [
              0.7777777777777778,
              "#fb9f3a"
             ],
             [
              0.8888888888888888,
              "#fdca26"
             ],
             [
              1,
              "#f0f921"
             ]
            ],
            "type": "heatmapgl"
           }
          ],
          "histogram": [
           {
            "marker": {
             "pattern": {
              "fillmode": "overlay",
              "size": 10,
              "solidity": 0.2
             }
            },
            "type": "histogram"
           }
          ],
          "histogram2d": [
           {
            "colorbar": {
             "outlinewidth": 0,
             "ticks": ""
            },
            "colorscale": [
             [
              0,
              "#0d0887"
             ],
             [
              0.1111111111111111,
              "#46039f"
             ],
             [
              0.2222222222222222,
              "#7201a8"
             ],
             [
              0.3333333333333333,
              "#9c179e"
             ],
             [
              0.4444444444444444,
              "#bd3786"
             ],
             [
              0.5555555555555556,
              "#d8576b"
             ],
             [
              0.6666666666666666,
              "#ed7953"
             ],
             [
              0.7777777777777778,
              "#fb9f3a"
             ],
             [
              0.8888888888888888,
              "#fdca26"
             ],
             [
              1,
              "#f0f921"
             ]
            ],
            "type": "histogram2d"
           }
          ],
          "histogram2dcontour": [
           {
            "colorbar": {
             "outlinewidth": 0,
             "ticks": ""
            },
            "colorscale": [
             [
              0,
              "#0d0887"
             ],
             [
              0.1111111111111111,
              "#46039f"
             ],
             [
              0.2222222222222222,
              "#7201a8"
             ],
             [
              0.3333333333333333,
              "#9c179e"
             ],
             [
              0.4444444444444444,
              "#bd3786"
             ],
             [
              0.5555555555555556,
              "#d8576b"
             ],
             [
              0.6666666666666666,
              "#ed7953"
             ],
             [
              0.7777777777777778,
              "#fb9f3a"
             ],
             [
              0.8888888888888888,
              "#fdca26"
             ],
             [
              1,
              "#f0f921"
             ]
            ],
            "type": "histogram2dcontour"
           }
          ],
          "mesh3d": [
           {
            "colorbar": {
             "outlinewidth": 0,
             "ticks": ""
            },
            "type": "mesh3d"
           }
          ],
          "parcoords": [
           {
            "line": {
             "colorbar": {
              "outlinewidth": 0,
              "ticks": ""
             }
            },
            "type": "parcoords"
           }
          ],
          "pie": [
           {
            "automargin": true,
            "type": "pie"
           }
          ],
          "scatter": [
           {
            "fillpattern": {
             "fillmode": "overlay",
             "size": 10,
             "solidity": 0.2
            },
            "type": "scatter"
           }
          ],
          "scatter3d": [
           {
            "line": {
             "colorbar": {
              "outlinewidth": 0,
              "ticks": ""
             }
            },
            "marker": {
             "colorbar": {
              "outlinewidth": 0,
              "ticks": ""
             }
            },
            "type": "scatter3d"
           }
          ],
          "scattercarpet": [
           {
            "marker": {
             "colorbar": {
              "outlinewidth": 0,
              "ticks": ""
             }
            },
            "type": "scattercarpet"
           }
          ],
          "scattergeo": [
           {
            "marker": {
             "colorbar": {
              "outlinewidth": 0,
              "ticks": ""
             }
            },
            "type": "scattergeo"
           }
          ],
          "scattergl": [
           {
            "marker": {
             "colorbar": {
              "outlinewidth": 0,
              "ticks": ""
             }
            },
            "type": "scattergl"
           }
          ],
          "scattermapbox": [
           {
            "marker": {
             "colorbar": {
              "outlinewidth": 0,
              "ticks": ""
             }
            },
            "type": "scattermapbox"
           }
          ],
          "scatterpolar": [
           {
            "marker": {
             "colorbar": {
              "outlinewidth": 0,
              "ticks": ""
             }
            },
            "type": "scatterpolar"
           }
          ],
          "scatterpolargl": [
           {
            "marker": {
             "colorbar": {
              "outlinewidth": 0,
              "ticks": ""
             }
            },
            "type": "scatterpolargl"
           }
          ],
          "scatterternary": [
           {
            "marker": {
             "colorbar": {
              "outlinewidth": 0,
              "ticks": ""
             }
            },
            "type": "scatterternary"
           }
          ],
          "surface": [
           {
            "colorbar": {
             "outlinewidth": 0,
             "ticks": ""
            },
            "colorscale": [
             [
              0,
              "#0d0887"
             ],
             [
              0.1111111111111111,
              "#46039f"
             ],
             [
              0.2222222222222222,
              "#7201a8"
             ],
             [
              0.3333333333333333,
              "#9c179e"
             ],
             [
              0.4444444444444444,
              "#bd3786"
             ],
             [
              0.5555555555555556,
              "#d8576b"
             ],
             [
              0.6666666666666666,
              "#ed7953"
             ],
             [
              0.7777777777777778,
              "#fb9f3a"
             ],
             [
              0.8888888888888888,
              "#fdca26"
             ],
             [
              1,
              "#f0f921"
             ]
            ],
            "type": "surface"
           }
          ],
          "table": [
           {
            "cells": {
             "fill": {
              "color": "#EBF0F8"
             },
             "line": {
              "color": "white"
             }
            },
            "header": {
             "fill": {
              "color": "#C8D4E3"
             },
             "line": {
              "color": "white"
             }
            },
            "type": "table"
           }
          ]
         },
         "layout": {
          "annotationdefaults": {
           "arrowcolor": "#2a3f5f",
           "arrowhead": 0,
           "arrowwidth": 1
          },
          "autotypenumbers": "strict",
          "coloraxis": {
           "colorbar": {
            "outlinewidth": 0,
            "ticks": ""
           }
          },
          "colorscale": {
           "diverging": [
            [
             0,
             "#8e0152"
            ],
            [
             0.1,
             "#c51b7d"
            ],
            [
             0.2,
             "#de77ae"
            ],
            [
             0.3,
             "#f1b6da"
            ],
            [
             0.4,
             "#fde0ef"
            ],
            [
             0.5,
             "#f7f7f7"
            ],
            [
             0.6,
             "#e6f5d0"
            ],
            [
             0.7,
             "#b8e186"
            ],
            [
             0.8,
             "#7fbc41"
            ],
            [
             0.9,
             "#4d9221"
            ],
            [
             1,
             "#276419"
            ]
           ],
           "sequential": [
            [
             0,
             "#0d0887"
            ],
            [
             0.1111111111111111,
             "#46039f"
            ],
            [
             0.2222222222222222,
             "#7201a8"
            ],
            [
             0.3333333333333333,
             "#9c179e"
            ],
            [
             0.4444444444444444,
             "#bd3786"
            ],
            [
             0.5555555555555556,
             "#d8576b"
            ],
            [
             0.6666666666666666,
             "#ed7953"
            ],
            [
             0.7777777777777778,
             "#fb9f3a"
            ],
            [
             0.8888888888888888,
             "#fdca26"
            ],
            [
             1,
             "#f0f921"
            ]
           ],
           "sequentialminus": [
            [
             0,
             "#0d0887"
            ],
            [
             0.1111111111111111,
             "#46039f"
            ],
            [
             0.2222222222222222,
             "#7201a8"
            ],
            [
             0.3333333333333333,
             "#9c179e"
            ],
            [
             0.4444444444444444,
             "#bd3786"
            ],
            [
             0.5555555555555556,
             "#d8576b"
            ],
            [
             0.6666666666666666,
             "#ed7953"
            ],
            [
             0.7777777777777778,
             "#fb9f3a"
            ],
            [
             0.8888888888888888,
             "#fdca26"
            ],
            [
             1,
             "#f0f921"
            ]
           ]
          },
          "colorway": [
           "#636efa",
           "#EF553B",
           "#00cc96",
           "#ab63fa",
           "#FFA15A",
           "#19d3f3",
           "#FF6692",
           "#B6E880",
           "#FF97FF",
           "#FECB52"
          ],
          "font": {
           "color": "#2a3f5f"
          },
          "geo": {
           "bgcolor": "white",
           "lakecolor": "white",
           "landcolor": "#E5ECF6",
           "showlakes": true,
           "showland": true,
           "subunitcolor": "white"
          },
          "hoverlabel": {
           "align": "left"
          },
          "hovermode": "closest",
          "mapbox": {
           "style": "light"
          },
          "paper_bgcolor": "white",
          "plot_bgcolor": "#E5ECF6",
          "polar": {
           "angularaxis": {
            "gridcolor": "white",
            "linecolor": "white",
            "ticks": ""
           },
           "bgcolor": "#E5ECF6",
           "radialaxis": {
            "gridcolor": "white",
            "linecolor": "white",
            "ticks": ""
           }
          },
          "scene": {
           "xaxis": {
            "backgroundcolor": "#E5ECF6",
            "gridcolor": "white",
            "gridwidth": 2,
            "linecolor": "white",
            "showbackground": true,
            "ticks": "",
            "zerolinecolor": "white"
           },
           "yaxis": {
            "backgroundcolor": "#E5ECF6",
            "gridcolor": "white",
            "gridwidth": 2,
            "linecolor": "white",
            "showbackground": true,
            "ticks": "",
            "zerolinecolor": "white"
           },
           "zaxis": {
            "backgroundcolor": "#E5ECF6",
            "gridcolor": "white",
            "gridwidth": 2,
            "linecolor": "white",
            "showbackground": true,
            "ticks": "",
            "zerolinecolor": "white"
           }
          },
          "shapedefaults": {
           "line": {
            "color": "#2a3f5f"
           }
          },
          "ternary": {
           "aaxis": {
            "gridcolor": "white",
            "linecolor": "white",
            "ticks": ""
           },
           "baxis": {
            "gridcolor": "white",
            "linecolor": "white",
            "ticks": ""
           },
           "bgcolor": "#E5ECF6",
           "caxis": {
            "gridcolor": "white",
            "linecolor": "white",
            "ticks": ""
           }
          },
          "title": {
           "x": 0.05
          },
          "xaxis": {
           "automargin": true,
           "gridcolor": "white",
           "linecolor": "white",
           "ticks": "",
           "title": {
            "standoff": 15
           },
           "zerolinecolor": "white",
           "zerolinewidth": 2
          },
          "yaxis": {
           "automargin": true,
           "gridcolor": "white",
           "linecolor": "white",
           "ticks": "",
           "title": {
            "standoff": 15
           },
           "zerolinecolor": "white",
           "zerolinewidth": 2
          }
         }
        },
        "title": {
         "text": "Top 5 Firms based on star rating and service percentage"
        },
        "width": 700,
        "xaxis": {
         "anchor": "y",
         "domain": [
          0,
          1
         ],
         "title": {
          "text": "firm_name"
         }
        },
        "yaxis": {
         "anchor": "x",
         "domain": [
          0,
          1
         ],
         "title": {
          "text": "service_pct(%)"
         }
        }
       }
      },
      "text/html": [
       "<div>                            <div id=\"22799267-a4f2-4956-a859-e4cf1775114d\" class=\"plotly-graph-div\" style=\"height:525px; width:700px;\"></div>            <script type=\"text/javascript\">                require([\"plotly\"], function(Plotly) {                    window.PLOTLYENV=window.PLOTLYENV || {};                                    if (document.getElementById(\"22799267-a4f2-4956-a859-e4cf1775114d\")) {                    Plotly.newPlot(                        \"22799267-a4f2-4956-a859-e4cf1775114d\",                        [{\"alignmentgroup\":\"True\",\"hovertemplate\":\"firm_name=%{x}<br>service_pct(%)=%{y}<extra></extra>\",\"legendgroup\":\"\",\"marker\":{\"color\":\"#636efa\",\"pattern\":{\"shape\":\"\"}},\"name\":\"\",\"offsetgroup\":\"\",\"orientation\":\"v\",\"showlegend\":false,\"textposition\":\"auto\",\"x\":[\"Datapine\",\"SetuServ\",\"DIGIS\",\"47Billion\",\"Dataforest\"],\"xaxis\":\"x\",\"y\":[90,50,50,40,30],\"yaxis\":\"y\",\"type\":\"bar\"}],                        {\"template\":{\"data\":{\"histogram2dcontour\":[{\"type\":\"histogram2dcontour\",\"colorbar\":{\"outlinewidth\":0,\"ticks\":\"\"},\"colorscale\":[[0.0,\"#0d0887\"],[0.1111111111111111,\"#46039f\"],[0.2222222222222222,\"#7201a8\"],[0.3333333333333333,\"#9c179e\"],[0.4444444444444444,\"#bd3786\"],[0.5555555555555556,\"#d8576b\"],[0.6666666666666666,\"#ed7953\"],[0.7777777777777778,\"#fb9f3a\"],[0.8888888888888888,\"#fdca26\"],[1.0,\"#f0f921\"]]}],\"choropleth\":[{\"type\":\"choropleth\",\"colorbar\":{\"outlinewidth\":0,\"ticks\":\"\"}}],\"histogram2d\":[{\"type\":\"histogram2d\",\"colorbar\":{\"outlinewidth\":0,\"ticks\":\"\"},\"colorscale\":[[0.0,\"#0d0887\"],[0.1111111111111111,\"#46039f\"],[0.2222222222222222,\"#7201a8\"],[0.3333333333333333,\"#9c179e\"],[0.4444444444444444,\"#bd3786\"],[0.5555555555555556,\"#d8576b\"],[0.6666666666666666,\"#ed7953\"],[0.7777777777777778,\"#fb9f3a\"],[0.8888888888888888,\"#fdca26\"],[1.0,\"#f0f921\"]]}],\"heatmap\":[{\"type\":\"heatmap\",\"colorbar\":{\"outlinewidth\":0,\"ticks\":\"\"},\"colorscale\":[[0.0,\"#0d0887\"],[0.1111111111111111,\"#46039f\"],[0.2222222222222222,\"#7201a8\"],[0.3333333333333333,\"#9c179e\"],[0.4444444444444444,\"#bd3786\"],[0.5555555555555556,\"#d8576b\"],[0.6666666666666666,\"#ed7953\"],[0.7777777777777778,\"#fb9f3a\"],[0.8888888888888888,\"#fdca26\"],[1.0,\"#f0f921\"]]}],\"heatmapgl\":[{\"type\":\"heatmapgl\",\"colorbar\":{\"outlinewidth\":0,\"ticks\":\"\"},\"colorscale\":[[0.0,\"#0d0887\"],[0.1111111111111111,\"#46039f\"],[0.2222222222222222,\"#7201a8\"],[0.3333333333333333,\"#9c179e\"],[0.4444444444444444,\"#bd3786\"],[0.5555555555555556,\"#d8576b\"],[0.6666666666666666,\"#ed7953\"],[0.7777777777777778,\"#fb9f3a\"],[0.8888888888888888,\"#fdca26\"],[1.0,\"#f0f921\"]]}],\"contourcarpet\":[{\"type\":\"contourcarpet\",\"colorbar\":{\"outlinewidth\":0,\"ticks\":\"\"}}],\"contour\":[{\"type\":\"contour\",\"colorbar\":{\"outlinewidth\":0,\"ticks\":\"\"},\"colorscale\":[[0.0,\"#0d0887\"],[0.1111111111111111,\"#46039f\"],[0.2222222222222222,\"#7201a8\"],[0.3333333333333333,\"#9c179e\"],[0.4444444444444444,\"#bd3786\"],[0.5555555555555556,\"#d8576b\"],[0.6666666666666666,\"#ed7953\"],[0.7777777777777778,\"#fb9f3a\"],[0.8888888888888888,\"#fdca26\"],[1.0,\"#f0f921\"]]}],\"surface\":[{\"type\":\"surface\",\"colorbar\":{\"outlinewidth\":0,\"ticks\":\"\"},\"colorscale\":[[0.0,\"#0d0887\"],[0.1111111111111111,\"#46039f\"],[0.2222222222222222,\"#7201a8\"],[0.3333333333333333,\"#9c179e\"],[0.4444444444444444,\"#bd3786\"],[0.5555555555555556,\"#d8576b\"],[0.6666666666666666,\"#ed7953\"],[0.7777777777777778,\"#fb9f3a\"],[0.8888888888888888,\"#fdca26\"],[1.0,\"#f0f921\"]]}],\"mesh3d\":[{\"type\":\"mesh3d\",\"colorbar\":{\"outlinewidth\":0,\"ticks\":\"\"}}],\"scatter\":[{\"fillpattern\":{\"fillmode\":\"overlay\",\"size\":10,\"solidity\":0.2},\"type\":\"scatter\"}],\"parcoords\":[{\"type\":\"parcoords\",\"line\":{\"colorbar\":{\"outlinewidth\":0,\"ticks\":\"\"}}}],\"scatterpolargl\":[{\"type\":\"scatterpolargl\",\"marker\":{\"colorbar\":{\"outlinewidth\":0,\"ticks\":\"\"}}}],\"bar\":[{\"error_x\":{\"color\":\"#2a3f5f\"},\"error_y\":{\"color\":\"#2a3f5f\"},\"marker\":{\"line\":{\"color\":\"#E5ECF6\",\"width\":0.5},\"pattern\":{\"fillmode\":\"overlay\",\"size\":10,\"solidity\":0.2}},\"type\":\"bar\"}],\"scattergeo\":[{\"type\":\"scattergeo\",\"marker\":{\"colorbar\":{\"outlinewidth\":0,\"ticks\":\"\"}}}],\"scatterpolar\":[{\"type\":\"scatterpolar\",\"marker\":{\"colorbar\":{\"outlinewidth\":0,\"ticks\":\"\"}}}],\"histogram\":[{\"marker\":{\"pattern\":{\"fillmode\":\"overlay\",\"size\":10,\"solidity\":0.2}},\"type\":\"histogram\"}],\"scattergl\":[{\"type\":\"scattergl\",\"marker\":{\"colorbar\":{\"outlinewidth\":0,\"ticks\":\"\"}}}],\"scatter3d\":[{\"type\":\"scatter3d\",\"line\":{\"colorbar\":{\"outlinewidth\":0,\"ticks\":\"\"}},\"marker\":{\"colorbar\":{\"outlinewidth\":0,\"ticks\":\"\"}}}],\"scattermapbox\":[{\"type\":\"scattermapbox\",\"marker\":{\"colorbar\":{\"outlinewidth\":0,\"ticks\":\"\"}}}],\"scatterternary\":[{\"type\":\"scatterternary\",\"marker\":{\"colorbar\":{\"outlinewidth\":0,\"ticks\":\"\"}}}],\"scattercarpet\":[{\"type\":\"scattercarpet\",\"marker\":{\"colorbar\":{\"outlinewidth\":0,\"ticks\":\"\"}}}],\"carpet\":[{\"aaxis\":{\"endlinecolor\":\"#2a3f5f\",\"gridcolor\":\"white\",\"linecolor\":\"white\",\"minorgridcolor\":\"white\",\"startlinecolor\":\"#2a3f5f\"},\"baxis\":{\"endlinecolor\":\"#2a3f5f\",\"gridcolor\":\"white\",\"linecolor\":\"white\",\"minorgridcolor\":\"white\",\"startlinecolor\":\"#2a3f5f\"},\"type\":\"carpet\"}],\"table\":[{\"cells\":{\"fill\":{\"color\":\"#EBF0F8\"},\"line\":{\"color\":\"white\"}},\"header\":{\"fill\":{\"color\":\"#C8D4E3\"},\"line\":{\"color\":\"white\"}},\"type\":\"table\"}],\"barpolar\":[{\"marker\":{\"line\":{\"color\":\"#E5ECF6\",\"width\":0.5},\"pattern\":{\"fillmode\":\"overlay\",\"size\":10,\"solidity\":0.2}},\"type\":\"barpolar\"}],\"pie\":[{\"automargin\":true,\"type\":\"pie\"}]},\"layout\":{\"autotypenumbers\":\"strict\",\"colorway\":[\"#636efa\",\"#EF553B\",\"#00cc96\",\"#ab63fa\",\"#FFA15A\",\"#19d3f3\",\"#FF6692\",\"#B6E880\",\"#FF97FF\",\"#FECB52\"],\"font\":{\"color\":\"#2a3f5f\"},\"hovermode\":\"closest\",\"hoverlabel\":{\"align\":\"left\"},\"paper_bgcolor\":\"white\",\"plot_bgcolor\":\"#E5ECF6\",\"polar\":{\"bgcolor\":\"#E5ECF6\",\"angularaxis\":{\"gridcolor\":\"white\",\"linecolor\":\"white\",\"ticks\":\"\"},\"radialaxis\":{\"gridcolor\":\"white\",\"linecolor\":\"white\",\"ticks\":\"\"}},\"ternary\":{\"bgcolor\":\"#E5ECF6\",\"aaxis\":{\"gridcolor\":\"white\",\"linecolor\":\"white\",\"ticks\":\"\"},\"baxis\":{\"gridcolor\":\"white\",\"linecolor\":\"white\",\"ticks\":\"\"},\"caxis\":{\"gridcolor\":\"white\",\"linecolor\":\"white\",\"ticks\":\"\"}},\"coloraxis\":{\"colorbar\":{\"outlinewidth\":0,\"ticks\":\"\"}},\"colorscale\":{\"sequential\":[[0.0,\"#0d0887\"],[0.1111111111111111,\"#46039f\"],[0.2222222222222222,\"#7201a8\"],[0.3333333333333333,\"#9c179e\"],[0.4444444444444444,\"#bd3786\"],[0.5555555555555556,\"#d8576b\"],[0.6666666666666666,\"#ed7953\"],[0.7777777777777778,\"#fb9f3a\"],[0.8888888888888888,\"#fdca26\"],[1.0,\"#f0f921\"]],\"sequentialminus\":[[0.0,\"#0d0887\"],[0.1111111111111111,\"#46039f\"],[0.2222222222222222,\"#7201a8\"],[0.3333333333333333,\"#9c179e\"],[0.4444444444444444,\"#bd3786\"],[0.5555555555555556,\"#d8576b\"],[0.6666666666666666,\"#ed7953\"],[0.7777777777777778,\"#fb9f3a\"],[0.8888888888888888,\"#fdca26\"],[1.0,\"#f0f921\"]],\"diverging\":[[0,\"#8e0152\"],[0.1,\"#c51b7d\"],[0.2,\"#de77ae\"],[0.3,\"#f1b6da\"],[0.4,\"#fde0ef\"],[0.5,\"#f7f7f7\"],[0.6,\"#e6f5d0\"],[0.7,\"#b8e186\"],[0.8,\"#7fbc41\"],[0.9,\"#4d9221\"],[1,\"#276419\"]]},\"xaxis\":{\"gridcolor\":\"white\",\"linecolor\":\"white\",\"ticks\":\"\",\"title\":{\"standoff\":15},\"zerolinecolor\":\"white\",\"automargin\":true,\"zerolinewidth\":2},\"yaxis\":{\"gridcolor\":\"white\",\"linecolor\":\"white\",\"ticks\":\"\",\"title\":{\"standoff\":15},\"zerolinecolor\":\"white\",\"automargin\":true,\"zerolinewidth\":2},\"scene\":{\"xaxis\":{\"backgroundcolor\":\"#E5ECF6\",\"gridcolor\":\"white\",\"linecolor\":\"white\",\"showbackground\":true,\"ticks\":\"\",\"zerolinecolor\":\"white\",\"gridwidth\":2},\"yaxis\":{\"backgroundcolor\":\"#E5ECF6\",\"gridcolor\":\"white\",\"linecolor\":\"white\",\"showbackground\":true,\"ticks\":\"\",\"zerolinecolor\":\"white\",\"gridwidth\":2},\"zaxis\":{\"backgroundcolor\":\"#E5ECF6\",\"gridcolor\":\"white\",\"linecolor\":\"white\",\"showbackground\":true,\"ticks\":\"\",\"zerolinecolor\":\"white\",\"gridwidth\":2}},\"shapedefaults\":{\"line\":{\"color\":\"#2a3f5f\"}},\"annotationdefaults\":{\"arrowcolor\":\"#2a3f5f\",\"arrowhead\":0,\"arrowwidth\":1},\"geo\":{\"bgcolor\":\"white\",\"landcolor\":\"#E5ECF6\",\"subunitcolor\":\"white\",\"showland\":true,\"showlakes\":true,\"lakecolor\":\"white\"},\"title\":{\"x\":0.05},\"mapbox\":{\"style\":\"light\"}}},\"xaxis\":{\"anchor\":\"y\",\"domain\":[0.0,1.0],\"title\":{\"text\":\"firm_name\"}},\"yaxis\":{\"anchor\":\"x\",\"domain\":[0.0,1.0],\"title\":{\"text\":\"service_pct(%)\"}},\"legend\":{\"tracegroupgap\":0},\"title\":{\"text\":\"Top 5 Firms based on star rating and service percentage\"},\"barmode\":\"relative\",\"width\":700},                        {\"responsive\": true}                    ).then(function(){\n",
       "                            \n",
       "var gd = document.getElementById('22799267-a4f2-4956-a859-e4cf1775114d');\n",
       "var x = new MutationObserver(function (mutations, observer) {{\n",
       "        var display = window.getComputedStyle(gd).display;\n",
       "        if (!display || display === 'none') {{\n",
       "            console.log([gd, 'removed!']);\n",
       "            Plotly.purge(gd);\n",
       "            observer.disconnect();\n",
       "        }}\n",
       "}});\n",
       "\n",
       "// Listen for the removal of the full notebook cells\n",
       "var notebookContainer = gd.closest('#notebook-container');\n",
       "if (notebookContainer) {{\n",
       "    x.observe(notebookContainer, {childList: true});\n",
       "}}\n",
       "\n",
       "// Listen for the clearing of the current output cell\n",
       "var outputEl = gd.closest('.output');\n",
       "if (outputEl) {{\n",
       "    x.observe(outputEl, {childList: true});\n",
       "}}\n",
       "\n",
       "                        })                };                });            </script>        </div>"
      ]
     },
     "metadata": {},
     "output_type": "display_data"
    }
   ],
   "source": [
    "top5_str_sev = all_df.sort_values(['star_rating', 'service_pct(%)'], ascending=False)[:5]\n",
    "px.bar(top5_str_sev, 'firm_name', 'service_pct(%)', width=700, \n",
    "       title='Top 5 Firms based on star rating and service percentage')"
   ]
  },
  {
   "cell_type": "code",
   "execution_count": 48,
   "metadata": {},
   "outputs": [
    {
     "data": {
      "text/plain": [
       "Hungary        1\n",
       "Armenia        1\n",
       "Netherlands    1\n",
       "Philippines    1\n",
       "Bulgaria       1\n",
       "dtype: int64"
      ]
     },
     "execution_count": 48,
     "metadata": {},
     "output_type": "execute_result"
    }
   ],
   "source": [
    "split = all_df['firm_location'].apply(lambda x: x.split(', '))\n",
    "lst = []\n",
    "for x in split:\n",
    "    lst += x\n",
    "    \n",
    "new_lst = []\n",
    "for x in lst:\n",
    "    new_lst.append(x.strip())\n",
    "locations = pd.Series(new_lst).value_counts(ascending=True)\n",
    "locations[:5]"
   ]
  },
  {
   "cell_type": "code",
   "execution_count": 49,
   "metadata": {},
   "outputs": [
    {
     "data": {
      "application/vnd.plotly.v1+json": {
       "config": {
        "plotlyServerURL": "https://plot.ly"
       },
       "data": [
        {
         "alignmentgroup": "True",
         "hovertemplate": "frequency=%{x}<br>=%{y}<extra></extra>",
         "legendgroup": "",
         "marker": {
          "color": "#636efa",
          "pattern": {
           "shape": ""
          }
         },
         "name": "",
         "offsetgroup": "",
         "orientation": "h",
         "showlegend": false,
         "textposition": "auto",
         "type": "bar",
         "x": [
          1,
          1,
          1,
          1,
          1,
          1,
          1,
          1,
          1,
          1,
          1,
          1,
          1,
          1,
          1,
          1,
          1,
          1,
          1,
          1,
          2,
          2,
          2,
          2,
          3,
          3,
          3,
          4,
          5,
          5,
          7,
          8,
          14,
          21,
          54,
          80
         ],
         "xaxis": "x",
         "y": [
          "Hungary",
          "Armenia",
          "Netherlands",
          "Philippines",
          "Bulgaria",
          "Turkey",
          "Brazil",
          "Czech Republic",
          "Luxembourg",
          "Saudi Arabia",
          "South Africa",
          "Cyprus",
          "Thailand",
          "China",
          "Israel",
          "Belgium",
          "Uruguay",
          "Malta",
          "Portugal",
          "Pakistan",
          "Belarus",
          "Argentina",
          "Ireland",
          "Georgia",
          "Singapore",
          "United Arab Emirates",
          "Russia",
          "Australia",
          "Germany",
          "Estonia",
          "Poland",
          "Canada",
          "United Kingdom",
          "Ukraine",
          "India",
          "United States"
         ],
         "yaxis": "y"
        }
       ],
       "layout": {
        "barmode": "relative",
        "height": 800,
        "legend": {
         "tracegroupgap": 0
        },
        "template": {
         "data": {
          "bar": [
           {
            "error_x": {
             "color": "#2a3f5f"
            },
            "error_y": {
             "color": "#2a3f5f"
            },
            "marker": {
             "line": {
              "color": "#E5ECF6",
              "width": 0.5
             },
             "pattern": {
              "fillmode": "overlay",
              "size": 10,
              "solidity": 0.2
             }
            },
            "type": "bar"
           }
          ],
          "barpolar": [
           {
            "marker": {
             "line": {
              "color": "#E5ECF6",
              "width": 0.5
             },
             "pattern": {
              "fillmode": "overlay",
              "size": 10,
              "solidity": 0.2
             }
            },
            "type": "barpolar"
           }
          ],
          "carpet": [
           {
            "aaxis": {
             "endlinecolor": "#2a3f5f",
             "gridcolor": "white",
             "linecolor": "white",
             "minorgridcolor": "white",
             "startlinecolor": "#2a3f5f"
            },
            "baxis": {
             "endlinecolor": "#2a3f5f",
             "gridcolor": "white",
             "linecolor": "white",
             "minorgridcolor": "white",
             "startlinecolor": "#2a3f5f"
            },
            "type": "carpet"
           }
          ],
          "choropleth": [
           {
            "colorbar": {
             "outlinewidth": 0,
             "ticks": ""
            },
            "type": "choropleth"
           }
          ],
          "contour": [
           {
            "colorbar": {
             "outlinewidth": 0,
             "ticks": ""
            },
            "colorscale": [
             [
              0,
              "#0d0887"
             ],
             [
              0.1111111111111111,
              "#46039f"
             ],
             [
              0.2222222222222222,
              "#7201a8"
             ],
             [
              0.3333333333333333,
              "#9c179e"
             ],
             [
              0.4444444444444444,
              "#bd3786"
             ],
             [
              0.5555555555555556,
              "#d8576b"
             ],
             [
              0.6666666666666666,
              "#ed7953"
             ],
             [
              0.7777777777777778,
              "#fb9f3a"
             ],
             [
              0.8888888888888888,
              "#fdca26"
             ],
             [
              1,
              "#f0f921"
             ]
            ],
            "type": "contour"
           }
          ],
          "contourcarpet": [
           {
            "colorbar": {
             "outlinewidth": 0,
             "ticks": ""
            },
            "type": "contourcarpet"
           }
          ],
          "heatmap": [
           {
            "colorbar": {
             "outlinewidth": 0,
             "ticks": ""
            },
            "colorscale": [
             [
              0,
              "#0d0887"
             ],
             [
              0.1111111111111111,
              "#46039f"
             ],
             [
              0.2222222222222222,
              "#7201a8"
             ],
             [
              0.3333333333333333,
              "#9c179e"
             ],
             [
              0.4444444444444444,
              "#bd3786"
             ],
             [
              0.5555555555555556,
              "#d8576b"
             ],
             [
              0.6666666666666666,
              "#ed7953"
             ],
             [
              0.7777777777777778,
              "#fb9f3a"
             ],
             [
              0.8888888888888888,
              "#fdca26"
             ],
             [
              1,
              "#f0f921"
             ]
            ],
            "type": "heatmap"
           }
          ],
          "heatmapgl": [
           {
            "colorbar": {
             "outlinewidth": 0,
             "ticks": ""
            },
            "colorscale": [
             [
              0,
              "#0d0887"
             ],
             [
              0.1111111111111111,
              "#46039f"
             ],
             [
              0.2222222222222222,
              "#7201a8"
             ],
             [
              0.3333333333333333,
              "#9c179e"
             ],
             [
              0.4444444444444444,
              "#bd3786"
             ],
             [
              0.5555555555555556,
              "#d8576b"
             ],
             [
              0.6666666666666666,
              "#ed7953"
             ],
             [
              0.7777777777777778,
              "#fb9f3a"
             ],
             [
              0.8888888888888888,
              "#fdca26"
             ],
             [
              1,
              "#f0f921"
             ]
            ],
            "type": "heatmapgl"
           }
          ],
          "histogram": [
           {
            "marker": {
             "pattern": {
              "fillmode": "overlay",
              "size": 10,
              "solidity": 0.2
             }
            },
            "type": "histogram"
           }
          ],
          "histogram2d": [
           {
            "colorbar": {
             "outlinewidth": 0,
             "ticks": ""
            },
            "colorscale": [
             [
              0,
              "#0d0887"
             ],
             [
              0.1111111111111111,
              "#46039f"
             ],
             [
              0.2222222222222222,
              "#7201a8"
             ],
             [
              0.3333333333333333,
              "#9c179e"
             ],
             [
              0.4444444444444444,
              "#bd3786"
             ],
             [
              0.5555555555555556,
              "#d8576b"
             ],
             [
              0.6666666666666666,
              "#ed7953"
             ],
             [
              0.7777777777777778,
              "#fb9f3a"
             ],
             [
              0.8888888888888888,
              "#fdca26"
             ],
             [
              1,
              "#f0f921"
             ]
            ],
            "type": "histogram2d"
           }
          ],
          "histogram2dcontour": [
           {
            "colorbar": {
             "outlinewidth": 0,
             "ticks": ""
            },
            "colorscale": [
             [
              0,
              "#0d0887"
             ],
             [
              0.1111111111111111,
              "#46039f"
             ],
             [
              0.2222222222222222,
              "#7201a8"
             ],
             [
              0.3333333333333333,
              "#9c179e"
             ],
             [
              0.4444444444444444,
              "#bd3786"
             ],
             [
              0.5555555555555556,
              "#d8576b"
             ],
             [
              0.6666666666666666,
              "#ed7953"
             ],
             [
              0.7777777777777778,
              "#fb9f3a"
             ],
             [
              0.8888888888888888,
              "#fdca26"
             ],
             [
              1,
              "#f0f921"
             ]
            ],
            "type": "histogram2dcontour"
           }
          ],
          "mesh3d": [
           {
            "colorbar": {
             "outlinewidth": 0,
             "ticks": ""
            },
            "type": "mesh3d"
           }
          ],
          "parcoords": [
           {
            "line": {
             "colorbar": {
              "outlinewidth": 0,
              "ticks": ""
             }
            },
            "type": "parcoords"
           }
          ],
          "pie": [
           {
            "automargin": true,
            "type": "pie"
           }
          ],
          "scatter": [
           {
            "fillpattern": {
             "fillmode": "overlay",
             "size": 10,
             "solidity": 0.2
            },
            "type": "scatter"
           }
          ],
          "scatter3d": [
           {
            "line": {
             "colorbar": {
              "outlinewidth": 0,
              "ticks": ""
             }
            },
            "marker": {
             "colorbar": {
              "outlinewidth": 0,
              "ticks": ""
             }
            },
            "type": "scatter3d"
           }
          ],
          "scattercarpet": [
           {
            "marker": {
             "colorbar": {
              "outlinewidth": 0,
              "ticks": ""
             }
            },
            "type": "scattercarpet"
           }
          ],
          "scattergeo": [
           {
            "marker": {
             "colorbar": {
              "outlinewidth": 0,
              "ticks": ""
             }
            },
            "type": "scattergeo"
           }
          ],
          "scattergl": [
           {
            "marker": {
             "colorbar": {
              "outlinewidth": 0,
              "ticks": ""
             }
            },
            "type": "scattergl"
           }
          ],
          "scattermapbox": [
           {
            "marker": {
             "colorbar": {
              "outlinewidth": 0,
              "ticks": ""
             }
            },
            "type": "scattermapbox"
           }
          ],
          "scatterpolar": [
           {
            "marker": {
             "colorbar": {
              "outlinewidth": 0,
              "ticks": ""
             }
            },
            "type": "scatterpolar"
           }
          ],
          "scatterpolargl": [
           {
            "marker": {
             "colorbar": {
              "outlinewidth": 0,
              "ticks": ""
             }
            },
            "type": "scatterpolargl"
           }
          ],
          "scatterternary": [
           {
            "marker": {
             "colorbar": {
              "outlinewidth": 0,
              "ticks": ""
             }
            },
            "type": "scatterternary"
           }
          ],
          "surface": [
           {
            "colorbar": {
             "outlinewidth": 0,
             "ticks": ""
            },
            "colorscale": [
             [
              0,
              "#0d0887"
             ],
             [
              0.1111111111111111,
              "#46039f"
             ],
             [
              0.2222222222222222,
              "#7201a8"
             ],
             [
              0.3333333333333333,
              "#9c179e"
             ],
             [
              0.4444444444444444,
              "#bd3786"
             ],
             [
              0.5555555555555556,
              "#d8576b"
             ],
             [
              0.6666666666666666,
              "#ed7953"
             ],
             [
              0.7777777777777778,
              "#fb9f3a"
             ],
             [
              0.8888888888888888,
              "#fdca26"
             ],
             [
              1,
              "#f0f921"
             ]
            ],
            "type": "surface"
           }
          ],
          "table": [
           {
            "cells": {
             "fill": {
              "color": "#EBF0F8"
             },
             "line": {
              "color": "white"
             }
            },
            "header": {
             "fill": {
              "color": "#C8D4E3"
             },
             "line": {
              "color": "white"
             }
            },
            "type": "table"
           }
          ]
         },
         "layout": {
          "annotationdefaults": {
           "arrowcolor": "#2a3f5f",
           "arrowhead": 0,
           "arrowwidth": 1
          },
          "autotypenumbers": "strict",
          "coloraxis": {
           "colorbar": {
            "outlinewidth": 0,
            "ticks": ""
           }
          },
          "colorscale": {
           "diverging": [
            [
             0,
             "#8e0152"
            ],
            [
             0.1,
             "#c51b7d"
            ],
            [
             0.2,
             "#de77ae"
            ],
            [
             0.3,
             "#f1b6da"
            ],
            [
             0.4,
             "#fde0ef"
            ],
            [
             0.5,
             "#f7f7f7"
            ],
            [
             0.6,
             "#e6f5d0"
            ],
            [
             0.7,
             "#b8e186"
            ],
            [
             0.8,
             "#7fbc41"
            ],
            [
             0.9,
             "#4d9221"
            ],
            [
             1,
             "#276419"
            ]
           ],
           "sequential": [
            [
             0,
             "#0d0887"
            ],
            [
             0.1111111111111111,
             "#46039f"
            ],
            [
             0.2222222222222222,
             "#7201a8"
            ],
            [
             0.3333333333333333,
             "#9c179e"
            ],
            [
             0.4444444444444444,
             "#bd3786"
            ],
            [
             0.5555555555555556,
             "#d8576b"
            ],
            [
             0.6666666666666666,
             "#ed7953"
            ],
            [
             0.7777777777777778,
             "#fb9f3a"
            ],
            [
             0.8888888888888888,
             "#fdca26"
            ],
            [
             1,
             "#f0f921"
            ]
           ],
           "sequentialminus": [
            [
             0,
             "#0d0887"
            ],
            [
             0.1111111111111111,
             "#46039f"
            ],
            [
             0.2222222222222222,
             "#7201a8"
            ],
            [
             0.3333333333333333,
             "#9c179e"
            ],
            [
             0.4444444444444444,
             "#bd3786"
            ],
            [
             0.5555555555555556,
             "#d8576b"
            ],
            [
             0.6666666666666666,
             "#ed7953"
            ],
            [
             0.7777777777777778,
             "#fb9f3a"
            ],
            [
             0.8888888888888888,
             "#fdca26"
            ],
            [
             1,
             "#f0f921"
            ]
           ]
          },
          "colorway": [
           "#636efa",
           "#EF553B",
           "#00cc96",
           "#ab63fa",
           "#FFA15A",
           "#19d3f3",
           "#FF6692",
           "#B6E880",
           "#FF97FF",
           "#FECB52"
          ],
          "font": {
           "color": "#2a3f5f"
          },
          "geo": {
           "bgcolor": "white",
           "lakecolor": "white",
           "landcolor": "#E5ECF6",
           "showlakes": true,
           "showland": true,
           "subunitcolor": "white"
          },
          "hoverlabel": {
           "align": "left"
          },
          "hovermode": "closest",
          "mapbox": {
           "style": "light"
          },
          "paper_bgcolor": "white",
          "plot_bgcolor": "#E5ECF6",
          "polar": {
           "angularaxis": {
            "gridcolor": "white",
            "linecolor": "white",
            "ticks": ""
           },
           "bgcolor": "#E5ECF6",
           "radialaxis": {
            "gridcolor": "white",
            "linecolor": "white",
            "ticks": ""
           }
          },
          "scene": {
           "xaxis": {
            "backgroundcolor": "#E5ECF6",
            "gridcolor": "white",
            "gridwidth": 2,
            "linecolor": "white",
            "showbackground": true,
            "ticks": "",
            "zerolinecolor": "white"
           },
           "yaxis": {
            "backgroundcolor": "#E5ECF6",
            "gridcolor": "white",
            "gridwidth": 2,
            "linecolor": "white",
            "showbackground": true,
            "ticks": "",
            "zerolinecolor": "white"
           },
           "zaxis": {
            "backgroundcolor": "#E5ECF6",
            "gridcolor": "white",
            "gridwidth": 2,
            "linecolor": "white",
            "showbackground": true,
            "ticks": "",
            "zerolinecolor": "white"
           }
          },
          "shapedefaults": {
           "line": {
            "color": "#2a3f5f"
           }
          },
          "ternary": {
           "aaxis": {
            "gridcolor": "white",
            "linecolor": "white",
            "ticks": ""
           },
           "baxis": {
            "gridcolor": "white",
            "linecolor": "white",
            "ticks": ""
           },
           "bgcolor": "#E5ECF6",
           "caxis": {
            "gridcolor": "white",
            "linecolor": "white",
            "ticks": ""
           }
          },
          "title": {
           "x": 0.05
          },
          "xaxis": {
           "automargin": true,
           "gridcolor": "white",
           "linecolor": "white",
           "ticks": "",
           "title": {
            "standoff": 15
           },
           "zerolinecolor": "white",
           "zerolinewidth": 2
          },
          "yaxis": {
           "automargin": true,
           "gridcolor": "white",
           "linecolor": "white",
           "ticks": "",
           "title": {
            "standoff": 15
           },
           "zerolinecolor": "white",
           "zerolinewidth": 2
          }
         }
        },
        "title": {
         "text": "Country Frequency"
        },
        "width": 900,
        "xaxis": {
         "anchor": "y",
         "domain": [
          0,
          1
         ],
         "title": {
          "text": "frequency"
         }
        },
        "yaxis": {
         "anchor": "x",
         "domain": [
          0,
          1
         ],
         "title": {
          "text": ""
         }
        }
       }
      },
      "text/html": [
       "<div>                            <div id=\"aa7edd3f-3fee-433e-8369-71deb7ef3e00\" class=\"plotly-graph-div\" style=\"height:800px; width:900px;\"></div>            <script type=\"text/javascript\">                require([\"plotly\"], function(Plotly) {                    window.PLOTLYENV=window.PLOTLYENV || {};                                    if (document.getElementById(\"aa7edd3f-3fee-433e-8369-71deb7ef3e00\")) {                    Plotly.newPlot(                        \"aa7edd3f-3fee-433e-8369-71deb7ef3e00\",                        [{\"alignmentgroup\":\"True\",\"hovertemplate\":\"frequency=%{x}<br>=%{y}<extra></extra>\",\"legendgroup\":\"\",\"marker\":{\"color\":\"#636efa\",\"pattern\":{\"shape\":\"\"}},\"name\":\"\",\"offsetgroup\":\"\",\"orientation\":\"h\",\"showlegend\":false,\"textposition\":\"auto\",\"x\":[1,1,1,1,1,1,1,1,1,1,1,1,1,1,1,1,1,1,1,1,2,2,2,2,3,3,3,4,5,5,7,8,14,21,54,80],\"xaxis\":\"x\",\"y\":[\"Hungary\",\"Armenia\",\"Netherlands\",\"Philippines\",\"Bulgaria\",\"Turkey\",\"Brazil\",\"Czech Republic\",\"Luxembourg\",\"Saudi Arabia\",\"South Africa\",\"Cyprus\",\"Thailand\",\"China\",\"Israel\",\"Belgium\",\"Uruguay\",\"Malta\",\"Portugal\",\"Pakistan\",\"Belarus\",\"Argentina\",\"Ireland\",\"Georgia\",\"Singapore\",\"United Arab Emirates\",\"Russia\",\"Australia\",\"Germany\",\"Estonia\",\"Poland\",\"Canada\",\"United Kingdom\",\"Ukraine\",\"India\",\"United States\"],\"yaxis\":\"y\",\"type\":\"bar\"}],                        {\"template\":{\"data\":{\"histogram2dcontour\":[{\"type\":\"histogram2dcontour\",\"colorbar\":{\"outlinewidth\":0,\"ticks\":\"\"},\"colorscale\":[[0.0,\"#0d0887\"],[0.1111111111111111,\"#46039f\"],[0.2222222222222222,\"#7201a8\"],[0.3333333333333333,\"#9c179e\"],[0.4444444444444444,\"#bd3786\"],[0.5555555555555556,\"#d8576b\"],[0.6666666666666666,\"#ed7953\"],[0.7777777777777778,\"#fb9f3a\"],[0.8888888888888888,\"#fdca26\"],[1.0,\"#f0f921\"]]}],\"choropleth\":[{\"type\":\"choropleth\",\"colorbar\":{\"outlinewidth\":0,\"ticks\":\"\"}}],\"histogram2d\":[{\"type\":\"histogram2d\",\"colorbar\":{\"outlinewidth\":0,\"ticks\":\"\"},\"colorscale\":[[0.0,\"#0d0887\"],[0.1111111111111111,\"#46039f\"],[0.2222222222222222,\"#7201a8\"],[0.3333333333333333,\"#9c179e\"],[0.4444444444444444,\"#bd3786\"],[0.5555555555555556,\"#d8576b\"],[0.6666666666666666,\"#ed7953\"],[0.7777777777777778,\"#fb9f3a\"],[0.8888888888888888,\"#fdca26\"],[1.0,\"#f0f921\"]]}],\"heatmap\":[{\"type\":\"heatmap\",\"colorbar\":{\"outlinewidth\":0,\"ticks\":\"\"},\"colorscale\":[[0.0,\"#0d0887\"],[0.1111111111111111,\"#46039f\"],[0.2222222222222222,\"#7201a8\"],[0.3333333333333333,\"#9c179e\"],[0.4444444444444444,\"#bd3786\"],[0.5555555555555556,\"#d8576b\"],[0.6666666666666666,\"#ed7953\"],[0.7777777777777778,\"#fb9f3a\"],[0.8888888888888888,\"#fdca26\"],[1.0,\"#f0f921\"]]}],\"heatmapgl\":[{\"type\":\"heatmapgl\",\"colorbar\":{\"outlinewidth\":0,\"ticks\":\"\"},\"colorscale\":[[0.0,\"#0d0887\"],[0.1111111111111111,\"#46039f\"],[0.2222222222222222,\"#7201a8\"],[0.3333333333333333,\"#9c179e\"],[0.4444444444444444,\"#bd3786\"],[0.5555555555555556,\"#d8576b\"],[0.6666666666666666,\"#ed7953\"],[0.7777777777777778,\"#fb9f3a\"],[0.8888888888888888,\"#fdca26\"],[1.0,\"#f0f921\"]]}],\"contourcarpet\":[{\"type\":\"contourcarpet\",\"colorbar\":{\"outlinewidth\":0,\"ticks\":\"\"}}],\"contour\":[{\"type\":\"contour\",\"colorbar\":{\"outlinewidth\":0,\"ticks\":\"\"},\"colorscale\":[[0.0,\"#0d0887\"],[0.1111111111111111,\"#46039f\"],[0.2222222222222222,\"#7201a8\"],[0.3333333333333333,\"#9c179e\"],[0.4444444444444444,\"#bd3786\"],[0.5555555555555556,\"#d8576b\"],[0.6666666666666666,\"#ed7953\"],[0.7777777777777778,\"#fb9f3a\"],[0.8888888888888888,\"#fdca26\"],[1.0,\"#f0f921\"]]}],\"surface\":[{\"type\":\"surface\",\"colorbar\":{\"outlinewidth\":0,\"ticks\":\"\"},\"colorscale\":[[0.0,\"#0d0887\"],[0.1111111111111111,\"#46039f\"],[0.2222222222222222,\"#7201a8\"],[0.3333333333333333,\"#9c179e\"],[0.4444444444444444,\"#bd3786\"],[0.5555555555555556,\"#d8576b\"],[0.6666666666666666,\"#ed7953\"],[0.7777777777777778,\"#fb9f3a\"],[0.8888888888888888,\"#fdca26\"],[1.0,\"#f0f921\"]]}],\"mesh3d\":[{\"type\":\"mesh3d\",\"colorbar\":{\"outlinewidth\":0,\"ticks\":\"\"}}],\"scatter\":[{\"fillpattern\":{\"fillmode\":\"overlay\",\"size\":10,\"solidity\":0.2},\"type\":\"scatter\"}],\"parcoords\":[{\"type\":\"parcoords\",\"line\":{\"colorbar\":{\"outlinewidth\":0,\"ticks\":\"\"}}}],\"scatterpolargl\":[{\"type\":\"scatterpolargl\",\"marker\":{\"colorbar\":{\"outlinewidth\":0,\"ticks\":\"\"}}}],\"bar\":[{\"error_x\":{\"color\":\"#2a3f5f\"},\"error_y\":{\"color\":\"#2a3f5f\"},\"marker\":{\"line\":{\"color\":\"#E5ECF6\",\"width\":0.5},\"pattern\":{\"fillmode\":\"overlay\",\"size\":10,\"solidity\":0.2}},\"type\":\"bar\"}],\"scattergeo\":[{\"type\":\"scattergeo\",\"marker\":{\"colorbar\":{\"outlinewidth\":0,\"ticks\":\"\"}}}],\"scatterpolar\":[{\"type\":\"scatterpolar\",\"marker\":{\"colorbar\":{\"outlinewidth\":0,\"ticks\":\"\"}}}],\"histogram\":[{\"marker\":{\"pattern\":{\"fillmode\":\"overlay\",\"size\":10,\"solidity\":0.2}},\"type\":\"histogram\"}],\"scattergl\":[{\"type\":\"scattergl\",\"marker\":{\"colorbar\":{\"outlinewidth\":0,\"ticks\":\"\"}}}],\"scatter3d\":[{\"type\":\"scatter3d\",\"line\":{\"colorbar\":{\"outlinewidth\":0,\"ticks\":\"\"}},\"marker\":{\"colorbar\":{\"outlinewidth\":0,\"ticks\":\"\"}}}],\"scattermapbox\":[{\"type\":\"scattermapbox\",\"marker\":{\"colorbar\":{\"outlinewidth\":0,\"ticks\":\"\"}}}],\"scatterternary\":[{\"type\":\"scatterternary\",\"marker\":{\"colorbar\":{\"outlinewidth\":0,\"ticks\":\"\"}}}],\"scattercarpet\":[{\"type\":\"scattercarpet\",\"marker\":{\"colorbar\":{\"outlinewidth\":0,\"ticks\":\"\"}}}],\"carpet\":[{\"aaxis\":{\"endlinecolor\":\"#2a3f5f\",\"gridcolor\":\"white\",\"linecolor\":\"white\",\"minorgridcolor\":\"white\",\"startlinecolor\":\"#2a3f5f\"},\"baxis\":{\"endlinecolor\":\"#2a3f5f\",\"gridcolor\":\"white\",\"linecolor\":\"white\",\"minorgridcolor\":\"white\",\"startlinecolor\":\"#2a3f5f\"},\"type\":\"carpet\"}],\"table\":[{\"cells\":{\"fill\":{\"color\":\"#EBF0F8\"},\"line\":{\"color\":\"white\"}},\"header\":{\"fill\":{\"color\":\"#C8D4E3\"},\"line\":{\"color\":\"white\"}},\"type\":\"table\"}],\"barpolar\":[{\"marker\":{\"line\":{\"color\":\"#E5ECF6\",\"width\":0.5},\"pattern\":{\"fillmode\":\"overlay\",\"size\":10,\"solidity\":0.2}},\"type\":\"barpolar\"}],\"pie\":[{\"automargin\":true,\"type\":\"pie\"}]},\"layout\":{\"autotypenumbers\":\"strict\",\"colorway\":[\"#636efa\",\"#EF553B\",\"#00cc96\",\"#ab63fa\",\"#FFA15A\",\"#19d3f3\",\"#FF6692\",\"#B6E880\",\"#FF97FF\",\"#FECB52\"],\"font\":{\"color\":\"#2a3f5f\"},\"hovermode\":\"closest\",\"hoverlabel\":{\"align\":\"left\"},\"paper_bgcolor\":\"white\",\"plot_bgcolor\":\"#E5ECF6\",\"polar\":{\"bgcolor\":\"#E5ECF6\",\"angularaxis\":{\"gridcolor\":\"white\",\"linecolor\":\"white\",\"ticks\":\"\"},\"radialaxis\":{\"gridcolor\":\"white\",\"linecolor\":\"white\",\"ticks\":\"\"}},\"ternary\":{\"bgcolor\":\"#E5ECF6\",\"aaxis\":{\"gridcolor\":\"white\",\"linecolor\":\"white\",\"ticks\":\"\"},\"baxis\":{\"gridcolor\":\"white\",\"linecolor\":\"white\",\"ticks\":\"\"},\"caxis\":{\"gridcolor\":\"white\",\"linecolor\":\"white\",\"ticks\":\"\"}},\"coloraxis\":{\"colorbar\":{\"outlinewidth\":0,\"ticks\":\"\"}},\"colorscale\":{\"sequential\":[[0.0,\"#0d0887\"],[0.1111111111111111,\"#46039f\"],[0.2222222222222222,\"#7201a8\"],[0.3333333333333333,\"#9c179e\"],[0.4444444444444444,\"#bd3786\"],[0.5555555555555556,\"#d8576b\"],[0.6666666666666666,\"#ed7953\"],[0.7777777777777778,\"#fb9f3a\"],[0.8888888888888888,\"#fdca26\"],[1.0,\"#f0f921\"]],\"sequentialminus\":[[0.0,\"#0d0887\"],[0.1111111111111111,\"#46039f\"],[0.2222222222222222,\"#7201a8\"],[0.3333333333333333,\"#9c179e\"],[0.4444444444444444,\"#bd3786\"],[0.5555555555555556,\"#d8576b\"],[0.6666666666666666,\"#ed7953\"],[0.7777777777777778,\"#fb9f3a\"],[0.8888888888888888,\"#fdca26\"],[1.0,\"#f0f921\"]],\"diverging\":[[0,\"#8e0152\"],[0.1,\"#c51b7d\"],[0.2,\"#de77ae\"],[0.3,\"#f1b6da\"],[0.4,\"#fde0ef\"],[0.5,\"#f7f7f7\"],[0.6,\"#e6f5d0\"],[0.7,\"#b8e186\"],[0.8,\"#7fbc41\"],[0.9,\"#4d9221\"],[1,\"#276419\"]]},\"xaxis\":{\"gridcolor\":\"white\",\"linecolor\":\"white\",\"ticks\":\"\",\"title\":{\"standoff\":15},\"zerolinecolor\":\"white\",\"automargin\":true,\"zerolinewidth\":2},\"yaxis\":{\"gridcolor\":\"white\",\"linecolor\":\"white\",\"ticks\":\"\",\"title\":{\"standoff\":15},\"zerolinecolor\":\"white\",\"automargin\":true,\"zerolinewidth\":2},\"scene\":{\"xaxis\":{\"backgroundcolor\":\"#E5ECF6\",\"gridcolor\":\"white\",\"linecolor\":\"white\",\"showbackground\":true,\"ticks\":\"\",\"zerolinecolor\":\"white\",\"gridwidth\":2},\"yaxis\":{\"backgroundcolor\":\"#E5ECF6\",\"gridcolor\":\"white\",\"linecolor\":\"white\",\"showbackground\":true,\"ticks\":\"\",\"zerolinecolor\":\"white\",\"gridwidth\":2},\"zaxis\":{\"backgroundcolor\":\"#E5ECF6\",\"gridcolor\":\"white\",\"linecolor\":\"white\",\"showbackground\":true,\"ticks\":\"\",\"zerolinecolor\":\"white\",\"gridwidth\":2}},\"shapedefaults\":{\"line\":{\"color\":\"#2a3f5f\"}},\"annotationdefaults\":{\"arrowcolor\":\"#2a3f5f\",\"arrowhead\":0,\"arrowwidth\":1},\"geo\":{\"bgcolor\":\"white\",\"landcolor\":\"#E5ECF6\",\"subunitcolor\":\"white\",\"showland\":true,\"showlakes\":true,\"lakecolor\":\"white\"},\"title\":{\"x\":0.05},\"mapbox\":{\"style\":\"light\"}}},\"xaxis\":{\"anchor\":\"y\",\"domain\":[0.0,1.0],\"title\":{\"text\":\"frequency\"}},\"yaxis\":{\"anchor\":\"x\",\"domain\":[0.0,1.0],\"title\":{\"text\":\"\"}},\"legend\":{\"tracegroupgap\":0},\"title\":{\"text\":\"Country Frequency\"},\"barmode\":\"relative\",\"height\":800,\"width\":900},                        {\"responsive\": true}                    ).then(function(){\n",
       "                            \n",
       "var gd = document.getElementById('aa7edd3f-3fee-433e-8369-71deb7ef3e00');\n",
       "var x = new MutationObserver(function (mutations, observer) {{\n",
       "        var display = window.getComputedStyle(gd).display;\n",
       "        if (!display || display === 'none') {{\n",
       "            console.log([gd, 'removed!']);\n",
       "            Plotly.purge(gd);\n",
       "            observer.disconnect();\n",
       "        }}\n",
       "}});\n",
       "\n",
       "// Listen for the removal of the full notebook cells\n",
       "var notebookContainer = gd.closest('#notebook-container');\n",
       "if (notebookContainer) {{\n",
       "    x.observe(notebookContainer, {childList: true});\n",
       "}}\n",
       "\n",
       "// Listen for the clearing of the current output cell\n",
       "var outputEl = gd.closest('.output');\n",
       "if (outputEl) {{\n",
       "    x.observe(outputEl, {childList: true});\n",
       "}}\n",
       "\n",
       "                        })                };                });            </script>        </div>"
      ]
     },
     "metadata": {},
     "output_type": "display_data"
    }
   ],
   "source": [
    "px.bar(y=locations.index, x=locations.values, width=900, height=800, \n",
    "       title= 'Country Frequency', labels={'y':'', 'x':'frequency'})"
   ]
  },
  {
   "cell_type": "markdown",
   "metadata": {},
   "source": [
    "### Summary\n",
    "\n",
    "* The webpage from Goodfirm was succesfully accessed and downloaded using Request library. \n",
    "* BeautifulSoup was used to locate and extract the details from the downloaded html file\n",
    "* The extracted details was converted to data frame using Pandas.\n",
    "* The file was cleaned and changed to its right datatype\n",
    "* The cleaned file was explored for some insights.\n",
    "\n",
    "#### Findings\n",
    "* About 10 firms are rated between 1 - 4 star while 124 are rated over 4.5 \n",
    "* Very few firms (2) has a review above 30\n",
    "* Most of the firms are located in United States followed by India."
   ]
  },
  {
   "cell_type": "code",
   "execution_count": null,
   "metadata": {},
   "outputs": [],
   "source": []
  }
 ],
 "metadata": {
  "kernelspec": {
   "display_name": "Python 3",
   "language": "python",
   "name": "python3"
  },
  "language_info": {
   "codemirror_mode": {
    "name": "ipython",
    "version": 3
   },
   "file_extension": ".py",
   "mimetype": "text/x-python",
   "name": "python",
   "nbconvert_exporter": "python",
   "pygments_lexer": "ipython3",
   "version": "3.8.8"
  },
  "vscode": {
   "interpreter": {
    "hash": "428a2680e134346dc6a50eeb15b5601ea447c297abbe5316187818ea532ba498"
   }
  }
 },
 "nbformat": 4,
 "nbformat_minor": 2
}
